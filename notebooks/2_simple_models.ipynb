{
 "cells": [
  {
   "cell_type": "markdown",
   "metadata": {},
   "source": [
    "# Simple Models\n",
    "\n",
    "In this notebook, we explore some simple models that we use for the sales prediction:\n",
    " - Predicting the mean\n",
    " - Linear Regression\n",
    " - Random Forest Regressor\n",
    "\n",
    "### Results\n",
    "\n",
    "We use the root mean square percentage error as a metric (RMSPE)\n",
    "\n",
    "![](../assets/rmspe.png)\n",
    "\n",
    "| Model              | RMSPE |\n",
    "|--------------------|-------|\n",
    "| Naive model (mean) | 62.03 |\n",
    "| Linear Regression  | 22.81 |\n",
    "| Random Forest      | 17.07 |"
   ]
  },
  {
   "cell_type": "code",
   "execution_count": 1,
   "metadata": {},
   "outputs": [],
   "source": [
    "import numpy as np\n",
    "import pandas as pd\n",
    "\n",
    "import matplotlib.pyplot as plt\n",
    "\n",
    "# Load scripts from parent path\n",
    "import sys, os\n",
    "sys.path.insert(0, os.path.abspath('..'))"
   ]
  },
  {
   "cell_type": "markdown",
   "metadata": {},
   "source": [
    "## Data Processing\n",
    "\n",
    "### Load Data\n",
    "\n",
    "Loads the data and adds features (see detailed explanation in notebook `0_summary`))."
   ]
  },
  {
   "cell_type": "code",
   "execution_count": 2,
   "metadata": {},
   "outputs": [
    {
     "name": "stderr",
     "output_type": "stream",
     "text": [
      "<frozen importlib._bootstrap>:219: RuntimeWarning: scipy._lib.messagestream.MessageStream size changed, may indicate binary incompatibility. Expected 56 from C header, got 64 from PyObject\n"
     ]
    },
    {
     "data": {
      "text/html": [
       "<div>\n",
       "<style scoped>\n",
       "    .dataframe tbody tr th:only-of-type {\n",
       "        vertical-align: middle;\n",
       "    }\n",
       "\n",
       "    .dataframe tbody tr th {\n",
       "        vertical-align: top;\n",
       "    }\n",
       "\n",
       "    .dataframe thead th {\n",
       "        text-align: right;\n",
       "    }\n",
       "</style>\n",
       "<table border=\"1\" class=\"dataframe\">\n",
       "  <thead>\n",
       "    <tr style=\"text-align: right;\">\n",
       "      <th></th>\n",
       "      <th>Store</th>\n",
       "      <th>DayOfWeek</th>\n",
       "      <th>Sales</th>\n",
       "      <th>Promo</th>\n",
       "      <th>StateHoliday</th>\n",
       "      <th>SchoolHoliday</th>\n",
       "      <th>week</th>\n",
       "      <th>month</th>\n",
       "      <th>StoreType</th>\n",
       "      <th>Assortment</th>\n",
       "      <th>CompetitionDistance</th>\n",
       "      <th>Store_Sales_mean</th>\n",
       "      <th>Store_Customers_mean</th>\n",
       "    </tr>\n",
       "  </thead>\n",
       "  <tbody>\n",
       "    <tr>\n",
       "      <th>0</th>\n",
       "      <td>353.0</td>\n",
       "      <td>2.0</td>\n",
       "      <td>3139.0</td>\n",
       "      <td>0.0</td>\n",
       "      <td>1.0</td>\n",
       "      <td>1.0</td>\n",
       "      <td>1</td>\n",
       "      <td>1</td>\n",
       "      <td>b</td>\n",
       "      <td>b</td>\n",
       "      <td>900.0</td>\n",
       "      <td>4139.474576</td>\n",
       "      <td>1153.783333</td>\n",
       "    </tr>\n",
       "    <tr>\n",
       "      <th>1</th>\n",
       "      <td>335.0</td>\n",
       "      <td>2.0</td>\n",
       "      <td>2401.0</td>\n",
       "      <td>0.0</td>\n",
       "      <td>1.0</td>\n",
       "      <td>1.0</td>\n",
       "      <td>1</td>\n",
       "      <td>1</td>\n",
       "      <td>b</td>\n",
       "      <td>a</td>\n",
       "      <td>90.0</td>\n",
       "      <td>12845.896552</td>\n",
       "      <td>2384.271186</td>\n",
       "    </tr>\n",
       "    <tr>\n",
       "      <th>2</th>\n",
       "      <td>512.0</td>\n",
       "      <td>2.0</td>\n",
       "      <td>2646.0</td>\n",
       "      <td>0.0</td>\n",
       "      <td>1.0</td>\n",
       "      <td>1.0</td>\n",
       "      <td>1</td>\n",
       "      <td>1</td>\n",
       "      <td>b</td>\n",
       "      <td>b</td>\n",
       "      <td>590.0</td>\n",
       "      <td>3725.649123</td>\n",
       "      <td>888.627119</td>\n",
       "    </tr>\n",
       "    <tr>\n",
       "      <th>3</th>\n",
       "      <td>494.0</td>\n",
       "      <td>2.0</td>\n",
       "      <td>3113.0</td>\n",
       "      <td>0.0</td>\n",
       "      <td>1.0</td>\n",
       "      <td>1.0</td>\n",
       "      <td>1</td>\n",
       "      <td>1</td>\n",
       "      <td>b</td>\n",
       "      <td>a</td>\n",
       "      <td>1260.0</td>\n",
       "      <td>7079.150000</td>\n",
       "      <td>1010.583333</td>\n",
       "    </tr>\n",
       "    <tr>\n",
       "      <th>4</th>\n",
       "      <td>530.0</td>\n",
       "      <td>2.0</td>\n",
       "      <td>2907.0</td>\n",
       "      <td>0.0</td>\n",
       "      <td>1.0</td>\n",
       "      <td>1.0</td>\n",
       "      <td>1</td>\n",
       "      <td>1</td>\n",
       "      <td>a</td>\n",
       "      <td>c</td>\n",
       "      <td>18160.0</td>\n",
       "      <td>2260.783333</td>\n",
       "      <td>333.610169</td>\n",
       "    </tr>\n",
       "  </tbody>\n",
       "</table>\n",
       "</div>"
      ],
      "text/plain": [
       "   Store  DayOfWeek   Sales  Promo  StateHoliday  SchoolHoliday  week  month  \\\n",
       "0  353.0        2.0  3139.0    0.0           1.0            1.0     1      1   \n",
       "1  335.0        2.0  2401.0    0.0           1.0            1.0     1      1   \n",
       "2  512.0        2.0  2646.0    0.0           1.0            1.0     1      1   \n",
       "3  494.0        2.0  3113.0    0.0           1.0            1.0     1      1   \n",
       "4  530.0        2.0  2907.0    0.0           1.0            1.0     1      1   \n",
       "\n",
       "  StoreType Assortment  CompetitionDistance  Store_Sales_mean  \\\n",
       "0         b          b                900.0       4139.474576   \n",
       "1         b          a                 90.0      12845.896552   \n",
       "2         b          b                590.0       3725.649123   \n",
       "3         b          a               1260.0       7079.150000   \n",
       "4         a          c              18160.0       2260.783333   \n",
       "\n",
       "   Store_Customers_mean  \n",
       "0           1153.783333  \n",
       "1           2384.271186  \n",
       "2            888.627119  \n",
       "3           1010.583333  \n",
       "4            333.610169  "
      ]
     },
     "execution_count": 2,
     "metadata": {},
     "output_type": "execute_result"
    }
   ],
   "source": [
    "from scripts.processing import load_train_data, process_data, add_store_info, add_week_month_info\n",
    "\n",
    "train_raw = load_train_data()\n",
    "train = add_week_month_info(train_raw)\n",
    "train = process_data(train)\n",
    "train = add_store_info(train)\n",
    "\n",
    "train.head()"
   ]
  },
  {
   "cell_type": "markdown",
   "metadata": {},
   "source": [
    "### Prepare train/test data"
   ]
  },
  {
   "cell_type": "code",
   "execution_count": 3,
   "metadata": {},
   "outputs": [],
   "source": [
    "X = train.copy(deep=True).drop(columns=[\"Sales\"])\n",
    "y = train.loc[:, \"Sales\"]\n",
    "\n",
    "# Mark categorical data\n",
    "# X.loc[:, ['StoreType', 'Assortment']] = X.loc[:, ['StoreType', 'Assortment']].astype(\"category\")\n",
    "\n",
    "# Make train test split\n",
    "from sklearn.model_selection import train_test_split\n",
    "X_train, X_test, y_train, y_test = train_test_split(X, y, test_size=0.2)"
   ]
  },
  {
   "cell_type": "code",
   "execution_count": 4,
   "metadata": {},
   "outputs": [
    {
     "data": {
      "text/html": [
       "<div>\n",
       "<style scoped>\n",
       "    .dataframe tbody tr th:only-of-type {\n",
       "        vertical-align: middle;\n",
       "    }\n",
       "\n",
       "    .dataframe tbody tr th {\n",
       "        vertical-align: top;\n",
       "    }\n",
       "\n",
       "    .dataframe thead th {\n",
       "        text-align: right;\n",
       "    }\n",
       "</style>\n",
       "<table border=\"1\" class=\"dataframe\">\n",
       "  <thead>\n",
       "    <tr style=\"text-align: right;\">\n",
       "      <th></th>\n",
       "      <th>Store</th>\n",
       "      <th>DayOfWeek</th>\n",
       "      <th>Promo</th>\n",
       "      <th>StateHoliday</th>\n",
       "      <th>SchoolHoliday</th>\n",
       "      <th>week</th>\n",
       "      <th>month</th>\n",
       "      <th>StoreType</th>\n",
       "      <th>Assortment</th>\n",
       "      <th>CompetitionDistance</th>\n",
       "      <th>Store_Sales_mean</th>\n",
       "      <th>Store_Customers_mean</th>\n",
       "    </tr>\n",
       "  </thead>\n",
       "  <tbody>\n",
       "    <tr>\n",
       "      <th>0</th>\n",
       "      <td>353.0</td>\n",
       "      <td>2.0</td>\n",
       "      <td>0.0</td>\n",
       "      <td>1.0</td>\n",
       "      <td>1.0</td>\n",
       "      <td>1</td>\n",
       "      <td>1</td>\n",
       "      <td>b</td>\n",
       "      <td>b</td>\n",
       "      <td>900.0</td>\n",
       "      <td>4139.474576</td>\n",
       "      <td>1153.783333</td>\n",
       "    </tr>\n",
       "    <tr>\n",
       "      <th>1</th>\n",
       "      <td>335.0</td>\n",
       "      <td>2.0</td>\n",
       "      <td>0.0</td>\n",
       "      <td>1.0</td>\n",
       "      <td>1.0</td>\n",
       "      <td>1</td>\n",
       "      <td>1</td>\n",
       "      <td>b</td>\n",
       "      <td>a</td>\n",
       "      <td>90.0</td>\n",
       "      <td>12845.896552</td>\n",
       "      <td>2384.271186</td>\n",
       "    </tr>\n",
       "    <tr>\n",
       "      <th>2</th>\n",
       "      <td>512.0</td>\n",
       "      <td>2.0</td>\n",
       "      <td>0.0</td>\n",
       "      <td>1.0</td>\n",
       "      <td>1.0</td>\n",
       "      <td>1</td>\n",
       "      <td>1</td>\n",
       "      <td>b</td>\n",
       "      <td>b</td>\n",
       "      <td>590.0</td>\n",
       "      <td>3725.649123</td>\n",
       "      <td>888.627119</td>\n",
       "    </tr>\n",
       "    <tr>\n",
       "      <th>3</th>\n",
       "      <td>494.0</td>\n",
       "      <td>2.0</td>\n",
       "      <td>0.0</td>\n",
       "      <td>1.0</td>\n",
       "      <td>1.0</td>\n",
       "      <td>1</td>\n",
       "      <td>1</td>\n",
       "      <td>b</td>\n",
       "      <td>a</td>\n",
       "      <td>1260.0</td>\n",
       "      <td>7079.150000</td>\n",
       "      <td>1010.583333</td>\n",
       "    </tr>\n",
       "    <tr>\n",
       "      <th>4</th>\n",
       "      <td>530.0</td>\n",
       "      <td>2.0</td>\n",
       "      <td>0.0</td>\n",
       "      <td>1.0</td>\n",
       "      <td>1.0</td>\n",
       "      <td>1</td>\n",
       "      <td>1</td>\n",
       "      <td>a</td>\n",
       "      <td>c</td>\n",
       "      <td>18160.0</td>\n",
       "      <td>2260.783333</td>\n",
       "      <td>333.610169</td>\n",
       "    </tr>\n",
       "  </tbody>\n",
       "</table>\n",
       "</div>"
      ],
      "text/plain": [
       "   Store  DayOfWeek  Promo  StateHoliday  SchoolHoliday  week  month  \\\n",
       "0  353.0        2.0    0.0           1.0            1.0     1      1   \n",
       "1  335.0        2.0    0.0           1.0            1.0     1      1   \n",
       "2  512.0        2.0    0.0           1.0            1.0     1      1   \n",
       "3  494.0        2.0    0.0           1.0            1.0     1      1   \n",
       "4  530.0        2.0    0.0           1.0            1.0     1      1   \n",
       "\n",
       "  StoreType Assortment  CompetitionDistance  Store_Sales_mean  \\\n",
       "0         b          b                900.0       4139.474576   \n",
       "1         b          a                 90.0      12845.896552   \n",
       "2         b          b                590.0       3725.649123   \n",
       "3         b          a               1260.0       7079.150000   \n",
       "4         a          c              18160.0       2260.783333   \n",
       "\n",
       "   Store_Customers_mean  \n",
       "0           1153.783333  \n",
       "1           2384.271186  \n",
       "2            888.627119  \n",
       "3           1010.583333  \n",
       "4            333.610169  "
      ]
     },
     "execution_count": 4,
     "metadata": {},
     "output_type": "execute_result"
    }
   ],
   "source": [
    "X.head()"
   ]
  },
  {
   "cell_type": "code",
   "execution_count": 5,
   "metadata": {},
   "outputs": [
    {
     "name": "stdout",
     "output_type": "stream",
     "text": [
      "<class 'pandas.core.frame.DataFrame'>\n",
      "Int64Index: 440048 entries, 0 to 440047\n",
      "Data columns (total 12 columns):\n",
      " #   Column                Non-Null Count   Dtype  \n",
      "---  ------                --------------   -----  \n",
      " 0   Store                 440048 non-null  float64\n",
      " 1   DayOfWeek             440048 non-null  float64\n",
      " 2   Promo                 440048 non-null  float64\n",
      " 3   StateHoliday          440048 non-null  float64\n",
      " 4   SchoolHoliday         440048 non-null  float64\n",
      " 5   week                  440048 non-null  int64  \n",
      " 6   month                 440048 non-null  int64  \n",
      " 7   StoreType             440048 non-null  object \n",
      " 8   Assortment            440048 non-null  object \n",
      " 9   CompetitionDistance   440048 non-null  float64\n",
      " 10  Store_Sales_mean      440048 non-null  float64\n",
      " 11  Store_Customers_mean  440048 non-null  float64\n",
      "dtypes: float64(8), int64(2), object(2)\n",
      "memory usage: 43.6+ MB\n"
     ]
    }
   ],
   "source": [
    "X.info()"
   ]
  },
  {
   "cell_type": "markdown",
   "metadata": {},
   "source": [
    "## Simple Models"
   ]
  },
  {
   "cell_type": "code",
   "execution_count": 6,
   "metadata": {},
   "outputs": [],
   "source": [
    "from scripts.processing import metric"
   ]
  },
  {
   "cell_type": "markdown",
   "metadata": {},
   "source": [
    "### Naive mean predictor"
   ]
  },
  {
   "cell_type": "code",
   "execution_count": 7,
   "metadata": {},
   "outputs": [
    {
     "data": {
      "text/html": [
       "<div>\n",
       "<style scoped>\n",
       "    .dataframe tbody tr th:only-of-type {\n",
       "        vertical-align: middle;\n",
       "    }\n",
       "\n",
       "    .dataframe tbody tr th {\n",
       "        vertical-align: top;\n",
       "    }\n",
       "\n",
       "    .dataframe thead th {\n",
       "        text-align: right;\n",
       "    }\n",
       "</style>\n",
       "<table border=\"1\" class=\"dataframe\">\n",
       "  <thead>\n",
       "    <tr style=\"text-align: right;\">\n",
       "      <th></th>\n",
       "      <th>Sales</th>\n",
       "      <th>y_pred</th>\n",
       "    </tr>\n",
       "  </thead>\n",
       "  <tbody>\n",
       "    <tr>\n",
       "      <th>32402</th>\n",
       "      <td>5719.0</td>\n",
       "      <td>6836.900917</td>\n",
       "    </tr>\n",
       "    <tr>\n",
       "      <th>157830</th>\n",
       "      <td>2365.0</td>\n",
       "      <td>6836.900917</td>\n",
       "    </tr>\n",
       "    <tr>\n",
       "      <th>320221</th>\n",
       "      <td>5975.0</td>\n",
       "      <td>6836.900917</td>\n",
       "    </tr>\n",
       "    <tr>\n",
       "      <th>404627</th>\n",
       "      <td>3791.0</td>\n",
       "      <td>6836.900917</td>\n",
       "    </tr>\n",
       "    <tr>\n",
       "      <th>376992</th>\n",
       "      <td>11611.0</td>\n",
       "      <td>6836.900917</td>\n",
       "    </tr>\n",
       "  </tbody>\n",
       "</table>\n",
       "</div>"
      ],
      "text/plain": [
       "          Sales       y_pred\n",
       "32402    5719.0  6836.900917\n",
       "157830   2365.0  6836.900917\n",
       "320221   5975.0  6836.900917\n",
       "404627   3791.0  6836.900917\n",
       "376992  11611.0  6836.900917"
      ]
     },
     "execution_count": 7,
     "metadata": {},
     "output_type": "execute_result"
    }
   ],
   "source": [
    "mean_predictor = pd.DataFrame(y_train.copy())\n",
    "\n",
    "mean_predictor.loc[:, 'y_pred'] = mean_predictor.mean()['Sales']\n",
    "mean_predictor.head()"
   ]
  },
  {
   "cell_type": "code",
   "execution_count": 8,
   "metadata": {},
   "outputs": [
    {
     "name": "stdout",
     "output_type": "stream",
     "text": [
      "RMSPE for mean predictor:\n",
      "62.03\n"
     ]
    }
   ],
   "source": [
    "rmspe_mean_predictor = metric(mean_predictor.loc[:, 'y_pred'].values, mean_predictor.loc[:, 'Sales'].values)\n",
    "print(f\"RMSPE for mean predictor:\\n{rmspe_mean_predictor:.2f}\")\n"
   ]
  },
  {
   "cell_type": "markdown",
   "metadata": {},
   "source": [
    "## Linear Regression"
   ]
  },
  {
   "cell_type": "code",
   "execution_count": 9,
   "metadata": {},
   "outputs": [
    {
     "name": "stderr",
     "output_type": "stream",
     "text": [
      "/Users/frank/miniforge3/envs/rossman-comp/lib/python3.8/site-packages/statsmodels/compat/pandas.py:65: FutureWarning: pandas.Int64Index is deprecated and will be removed from pandas in a future version. Use pandas.Index with the appropriate dtype instead.\n",
      "  from pandas import Int64Index as NumericIndex\n",
      "/Users/frank/.local/lib/python3.8/site-packages/category_encoders/utils.py:21: FutureWarning: is_categorical is deprecated and will be removed in a future version. Use is_categorical_dtype instead.\n",
      "  elif pd.api.types.is_categorical(cols):\n"
     ]
    },
    {
     "name": "stdout",
     "output_type": "stream",
     "text": [
      "\n",
      "RMSPE for Linear regression:\n",
      "22.81\n"
     ]
    }
   ],
   "source": [
    "from sklearn.linear_model import LinearRegression, Ridge\n",
    "from sklearn.preprocessing import StandardScaler\n",
    "from category_encoders import TargetEncoder\n",
    "from sklearn.pipeline import Pipeline\n",
    "\n",
    "\n",
    "target_encoder = TargetEncoder(cols=['StoreType', 'Assortment', 'Store'])\n",
    "scaler = StandardScaler()\n",
    "\n",
    "reg = LinearRegression()\n",
    "# reg = Ridge(alpha=40000)\n",
    "\n",
    "pipe = Pipeline(steps=[ \n",
    "                ('target_encode', target_encoder),\n",
    "                ('scaler', scaler),\n",
    "                ('model', reg)])     \n",
    "\n",
    "pipe.fit(X_train, y_train)\n",
    "\n",
    "y_pred = pipe.predict(X_test)\n",
    "\n",
    "rmspe = metric(y_test.values, y_pred)\n",
    "print(f\"\\nRMSPE for Linear regression:\\n{rmspe:.2f}\")"
   ]
  },
  {
   "cell_type": "markdown",
   "metadata": {},
   "source": [
    "## Random Forest"
   ]
  },
  {
   "cell_type": "code",
   "execution_count": 10,
   "metadata": {},
   "outputs": [
    {
     "name": "stderr",
     "output_type": "stream",
     "text": [
      "/Users/frank/.local/lib/python3.8/site-packages/category_encoders/utils.py:21: FutureWarning: is_categorical is deprecated and will be removed in a future version. Use is_categorical_dtype instead.\n",
      "  elif pd.api.types.is_categorical(cols):\n"
     ]
    },
    {
     "data": {
      "text/plain": [
       "17.073040674742312"
      ]
     },
     "execution_count": 10,
     "metadata": {},
     "output_type": "execute_result"
    }
   ],
   "source": [
    "from sklearn.ensemble import RandomForestRegressor\n",
    "from sklearn.pipeline import Pipeline\n",
    "from category_encoders import TargetEncoder\n",
    "from sklearn.preprocessing import OneHotEncoder, StandardScaler\n",
    "\n",
    "target_encoder = TargetEncoder(cols=['StoreType', 'Assortment', 'Store'])\n",
    "scaler = StandardScaler()\n",
    " \n",
    "rf = RandomForestRegressor(max_depth=10, min_samples_split=100)\n",
    "\n",
    "pipe = Pipeline(steps=[ \n",
    "                ('target_encode', target_encoder),\n",
    "                ('scaler', scaler),\n",
    "                ('model', rf)])     \n",
    "\n",
    "\n",
    "\n",
    "pipe.fit(X_train, y_train)\n",
    "\n",
    "\n",
    "y_pred = pipe.predict(X_test)\n",
    "metric(y_test.values, y_pred)"
   ]
  },
  {
   "cell_type": "code",
   "execution_count": 11,
   "metadata": {},
   "outputs": [
    {
     "name": "stdout",
     "output_type": "stream",
     "text": [
      " - Loading pipeline \"random_forest_2\" at:\n",
      "../data/trained_pipelines/pipeline_random_forest_2.p\n"
     ]
    }
   ],
   "source": [
    "from scripts.pipeline import save_pipeline, load_pipeline\n",
    "\n",
    "# save_pipeline(reg, name='random_forest_2')\n",
    "pipe = load_pipeline(name='random_forest_2')\n"
   ]
  }
 ],
 "metadata": {
  "interpreter": {
   "hash": "0ff12d4eed094120c91f1ffe1dee8a0b8612ad4a9cafaf463216d72bd5198085"
  },
  "kernelspec": {
   "display_name": "Python 3.8.12 ('rossmann-comp')",
   "language": "python",
   "name": "python3"
  },
  "language_info": {
   "codemirror_mode": {
    "name": "ipython",
    "version": 3
   },
   "file_extension": ".py",
   "mimetype": "text/x-python",
   "name": "python",
   "nbconvert_exporter": "python",
   "pygments_lexer": "ipython3",
   "version": "3.8.12"
  },
  "orig_nbformat": 4
 },
 "nbformat": 4,
 "nbformat_minor": 2
}
