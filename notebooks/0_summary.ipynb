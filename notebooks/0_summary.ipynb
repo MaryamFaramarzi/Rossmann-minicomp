{
 "cells": [
  {
   "cell_type": "markdown",
   "metadata": {},
   "source": [
    "# Rossman Store Sales Compatition\n",
    "\n",
    "This notebook contains a brief description of the analysis done and the final model.\n",
    "\n",
    "\n",
    "## Table of Contents\n",
    "\n",
    "1. [Data Processing](#data-pre-processing)\n",
    "    * [Load raw sales data](#load-data)\n",
    "    * [Add features: months, weeks](#features-months-weeks)\n",
    "    * [Add features: beggining and end of month](#features-beginning-end-month)\n",
    "    * [Clean data](#clean-data)\n",
    "    * [Add features: store info](#features-store-info)\n",
    "2. [Model Training](#model-training)\n",
    "    * [Prepare train/test data](#prepare-train-test)\n",
    "    * [Feature encoding](#feature-encoding)\n",
    "    * [Feature scaling](#feature-scaling)\n",
    "    * [Models](#models)\n",
    "    * [Processing pipeline](#processing-pipeline)\n",
    "3. [Model Selection](#model-selection)\n",
    "    * [Hyperparameter optimization](#hyperparameter-optimization)\n",
    "    * [Final training](#final-training)\n",
    "    * [Saving the model](#saving-model)\n",
    "4. [Model Evaluation](#model-evaluation)\n"
   ]
  },
  {
   "cell_type": "markdown",
   "metadata": {},
   "source": [
    "## Data Processing <a class=\"anchor\" id=\"data-pre-processing\"></a>"
   ]
  },
  {
   "cell_type": "code",
   "execution_count": 99,
   "metadata": {},
   "outputs": [],
   "source": [
    "import numpy as np\n",
    "import pandas as pd\n",
    "import matplotlib\n",
    "import matplotlib.pyplot as plt\n",
    "matplotlib.rcParams['figure.dpi']=150\n",
    "import plotly.express as px\n",
    "import plotly.graph_objects as go\n",
    "from datetime import datetime\n",
    "\n",
    "# Load scripts from parent path\n",
    "import sys, os\n",
    "sys.path.insert(0, os.path.abspath('..'))"
   ]
  },
  {
   "cell_type": "markdown",
   "metadata": {},
   "source": [
    "### Load raw sales data <a class=\"anchor\" id=\"load-data\"></a>\n",
    "\n",
    "This table contains the raw daily sales by Rossmann store.\n",
    "\n",
    "The target column is:\n",
    "  - `Sales`: The total sum of sales for this store and date\n",
    "\n",
    "The features columns are:\n",
    "  - `Date`: The date of the sales record\n",
    "  - `Store`: An ID of the store\n",
    "  - `DayOfWeek`: The day of the week, given as an integer, ranging from Monday (0) to Sunday (6).\n",
    "  - `Customers`: The number of customers for this store and date. We will drop this, as this information is not available for the future.\n",
    "  - `Open`: Whether the store was open on this date: 0 = closed, 1 = open\n",
    "  - `Promo`: Whether the store ran a promotion on this date.\n",
    "  - `StateHoliday`: Whether this date was a state holiday.\n",
    "  - `SchoolHoliday`: Whether this date was a school holiday.\n",
    "\n",
    "The training data includes data for one and a half years, from 2013-01-01 until 2014-07-31.\n",
    "\n",
    "The holdout (test) period is the following 6 months, from 2014-08-01 to 2015-07-31.\n"
   ]
  },
  {
   "cell_type": "code",
   "execution_count": 100,
   "metadata": {},
   "outputs": [
    {
     "data": {
      "text/html": [
       "<div>\n",
       "<style scoped>\n",
       "    .dataframe tbody tr th:only-of-type {\n",
       "        vertical-align: middle;\n",
       "    }\n",
       "\n",
       "    .dataframe tbody tr th {\n",
       "        vertical-align: top;\n",
       "    }\n",
       "\n",
       "    .dataframe thead th {\n",
       "        text-align: right;\n",
       "    }\n",
       "</style>\n",
       "<table border=\"1\" class=\"dataframe\">\n",
       "  <thead>\n",
       "    <tr style=\"text-align: right;\">\n",
       "      <th></th>\n",
       "      <th>Date</th>\n",
       "      <th>Store</th>\n",
       "      <th>DayOfWeek</th>\n",
       "      <th>Sales</th>\n",
       "      <th>Customers</th>\n",
       "      <th>Open</th>\n",
       "      <th>Promo</th>\n",
       "      <th>StateHoliday</th>\n",
       "      <th>SchoolHoliday</th>\n",
       "    </tr>\n",
       "  </thead>\n",
       "  <tbody>\n",
       "    <tr>\n",
       "      <th>0</th>\n",
       "      <td>2013-01-01</td>\n",
       "      <td>1115.0</td>\n",
       "      <td>2.0</td>\n",
       "      <td>0.0</td>\n",
       "      <td>0.0</td>\n",
       "      <td>0.0</td>\n",
       "      <td>0.0</td>\n",
       "      <td>a</td>\n",
       "      <td>1.0</td>\n",
       "    </tr>\n",
       "    <tr>\n",
       "      <th>1</th>\n",
       "      <td>2013-01-01</td>\n",
       "      <td>379.0</td>\n",
       "      <td>2.0</td>\n",
       "      <td>0.0</td>\n",
       "      <td>0.0</td>\n",
       "      <td>0.0</td>\n",
       "      <td>0.0</td>\n",
       "      <td>a</td>\n",
       "      <td>1.0</td>\n",
       "    </tr>\n",
       "    <tr>\n",
       "      <th>2</th>\n",
       "      <td>2013-01-01</td>\n",
       "      <td>378.0</td>\n",
       "      <td>2.0</td>\n",
       "      <td>0.0</td>\n",
       "      <td>0.0</td>\n",
       "      <td>0.0</td>\n",
       "      <td>0.0</td>\n",
       "      <td>a</td>\n",
       "      <td>1.0</td>\n",
       "    </tr>\n",
       "    <tr>\n",
       "      <th>3</th>\n",
       "      <td>2013-01-01</td>\n",
       "      <td>377.0</td>\n",
       "      <td>2.0</td>\n",
       "      <td>0.0</td>\n",
       "      <td>0.0</td>\n",
       "      <td>0.0</td>\n",
       "      <td>0.0</td>\n",
       "      <td>a</td>\n",
       "      <td>1.0</td>\n",
       "    </tr>\n",
       "    <tr>\n",
       "      <th>4</th>\n",
       "      <td>2013-01-01</td>\n",
       "      <td>376.0</td>\n",
       "      <td>2.0</td>\n",
       "      <td>0.0</td>\n",
       "      <td>0.0</td>\n",
       "      <td>0.0</td>\n",
       "      <td>0.0</td>\n",
       "      <td>a</td>\n",
       "      <td>1.0</td>\n",
       "    </tr>\n",
       "  </tbody>\n",
       "</table>\n",
       "</div>"
      ],
      "text/plain": [
       "        Date   Store  DayOfWeek  Sales  Customers  Open  Promo StateHoliday  \\\n",
       "0 2013-01-01  1115.0        2.0    0.0        0.0   0.0    0.0            a   \n",
       "1 2013-01-01   379.0        2.0    0.0        0.0   0.0    0.0            a   \n",
       "2 2013-01-01   378.0        2.0    0.0        0.0   0.0    0.0            a   \n",
       "3 2013-01-01   377.0        2.0    0.0        0.0   0.0    0.0            a   \n",
       "4 2013-01-01   376.0        2.0    0.0        0.0   0.0    0.0            a   \n",
       "\n",
       "   SchoolHoliday  \n",
       "0            1.0  \n",
       "1            1.0  \n",
       "2            1.0  \n",
       "3            1.0  \n",
       "4            1.0  "
      ]
     },
     "execution_count": 100,
     "metadata": {},
     "output_type": "execute_result"
    }
   ],
   "source": [
    "import scripts.processing as scr\n",
    "\n",
    "train_raw = scr.load_train_data()\n",
    "train_raw.head()"
   ]
  },
  {
   "cell_type": "markdown",
   "metadata": {},
   "source": [
    "**Plot sales**"
   ]
  },
  {
   "cell_type": "code",
   "execution_count": 101,
   "metadata": {},
   "outputs": [
    {
     "data": {
      "image/png": "[encoded data removed]"
     },
     "metadata": {},
     "output_type": "display_data"
    }
   ],
   "source": [
    "sales = train_raw.groupby(by='Date').agg({'Sales': 'sum'}).reset_index()\n",
    "\n",
    "fig = go.Figure()\n",
    "fig.add_trace(go.Scatter(x=sales['Date'], y=sales['Sales'],\n",
    "                    mode='lines+markers',\n",
    "                    name='actual'))\n",
    "fig.update_layout(title='Sales over Time',\n",
    "                   xaxis_title='Date',\n",
    "                   yaxis_title='Total Sales')\n",
    "fig.show('png')"
   ]
  },
  {
   "cell_type": "markdown",
   "metadata": {},
   "source": [
    "### Add features: months, weeks <a class=\"anchor\" id=\"features-months-weeks\"></a>\n",
    "\n",
    "The `Date`-column in itself is not informative, as our prediction should\n",
    "extrapolate in the future. However, features of the date can be extracted.\n",
    "\n",
    "To captures seasonal trends in sales, we added the features:\n",
    "- `month`: The month of the year.\n",
    "- `week`: The week of the year.\n",
    "\n",
    "Note: The functions used here (such as `add_week_month_info`) are also implemented in `scripts.processing`, we\n",
    "repeat them here just for illustration."
   ]
  },
  {
   "cell_type": "code",
   "execution_count": 102,
   "metadata": {},
   "outputs": [
    {
     "data": {
      "text/html": [
       "<div>\n",
       "<style scoped>\n",
       "    .dataframe tbody tr th:only-of-type {\n",
       "        vertical-align: middle;\n",
       "    }\n",
       "\n",
       "    .dataframe tbody tr th {\n",
       "        vertical-align: top;\n",
       "    }\n",
       "\n",
       "    .dataframe thead th {\n",
       "        text-align: right;\n",
       "    }\n",
       "</style>\n",
       "<table border=\"1\" class=\"dataframe\">\n",
       "  <thead>\n",
       "    <tr style=\"text-align: right;\">\n",
       "      <th></th>\n",
       "      <th>week</th>\n",
       "      <th>month</th>\n",
       "    </tr>\n",
       "  </thead>\n",
       "  <tbody>\n",
       "    <tr>\n",
       "      <th>0</th>\n",
       "      <td>1</td>\n",
       "      <td>1</td>\n",
       "    </tr>\n",
       "    <tr>\n",
       "      <th>1</th>\n",
       "      <td>1</td>\n",
       "      <td>1</td>\n",
       "    </tr>\n",
       "    <tr>\n",
       "      <th>2</th>\n",
       "      <td>1</td>\n",
       "      <td>1</td>\n",
       "    </tr>\n",
       "    <tr>\n",
       "      <th>3</th>\n",
       "      <td>1</td>\n",
       "      <td>1</td>\n",
       "    </tr>\n",
       "    <tr>\n",
       "      <th>4</th>\n",
       "      <td>1</td>\n",
       "      <td>1</td>\n",
       "    </tr>\n",
       "  </tbody>\n",
       "</table>\n",
       "</div>"
      ],
      "text/plain": [
       "   week  month\n",
       "0     1      1\n",
       "1     1      1\n",
       "2     1      1\n",
       "3     1      1\n",
       "4     1      1"
      ]
     },
     "execution_count": 102,
     "metadata": {},
     "output_type": "execute_result"
    }
   ],
   "source": [
    "def add_week_month_info(train):\n",
    "    \"\"\"\n",
    "    Add week and month information as another column to the features.\n",
    "    \"\"\"\n",
    "    train.loc[:,'week'] = train.loc[:,'Date'].dt.isocalendar().week.astype(int)\n",
    "    train.loc[:,'month'] = train.loc[:,'Date'].dt.month\n",
    "    return train\n",
    "\n",
    "train = add_week_month_info(train_raw)\n",
    "train.loc[:, ['week', 'month']].head()"
   ]
  },
  {
   "cell_type": "markdown",
   "metadata": {},
   "source": [
    "### Add features: Beggining and end of month signifiers <a class=\"anchor\" id=\"features-beginning-end-month\"></a>\n",
    "\n",
    "After our first round of modeling, we found that the errors/residuals of our models were very high towards the beginning and end of months (see analysis in the end of this notebook).\n",
    "\n",
    "This could indicate that sales patterns are different at the beginning and\n",
    "end of months (for example if people receive their paycheck with\n",
    "some regularity).\n",
    "\n",
    "To enable our model to learn these patterns, we decided to add features that\n",
    "signify the beginning and end of months:\n",
    "- `beginning_of_month`: Indicates whether the date is towards the *beginning* of the month, ranging from 0 (no) to 1 (yes).\n",
    "- `end_of_month`: Indicates whether the date is towards the *end* of the month, ranging from 0 (no) to 1 (yes).\n"
   ]
  },
  {
   "cell_type": "code",
   "execution_count": 103,
   "metadata": {},
   "outputs": [
    {
     "data": {
      "text/html": [
       "<div>\n",
       "<style scoped>\n",
       "    .dataframe tbody tr th:only-of-type {\n",
       "        vertical-align: middle;\n",
       "    }\n",
       "\n",
       "    .dataframe tbody tr th {\n",
       "        vertical-align: top;\n",
       "    }\n",
       "\n",
       "    .dataframe thead th {\n",
       "        text-align: right;\n",
       "    }\n",
       "</style>\n",
       "<table border=\"1\" class=\"dataframe\">\n",
       "  <thead>\n",
       "    <tr style=\"text-align: right;\">\n",
       "      <th></th>\n",
       "      <th>Date</th>\n",
       "      <th>end_of_month</th>\n",
       "      <th>beginning_of_month</th>\n",
       "    </tr>\n",
       "  </thead>\n",
       "  <tbody>\n",
       "    <tr>\n",
       "      <th>0</th>\n",
       "      <td>2013-01-01</td>\n",
       "      <td>0.000001</td>\n",
       "      <td>0.877078</td>\n",
       "    </tr>\n",
       "    <tr>\n",
       "      <th>1</th>\n",
       "      <td>2013-01-01</td>\n",
       "      <td>0.000001</td>\n",
       "      <td>0.877078</td>\n",
       "    </tr>\n",
       "    <tr>\n",
       "      <th>2</th>\n",
       "      <td>2013-01-01</td>\n",
       "      <td>0.000001</td>\n",
       "      <td>0.877078</td>\n",
       "    </tr>\n",
       "    <tr>\n",
       "      <th>3</th>\n",
       "      <td>2013-01-01</td>\n",
       "      <td>0.000001</td>\n",
       "      <td>0.877078</td>\n",
       "    </tr>\n",
       "    <tr>\n",
       "      <th>4</th>\n",
       "      <td>2013-01-01</td>\n",
       "      <td>0.000001</td>\n",
       "      <td>0.877078</td>\n",
       "    </tr>\n",
       "  </tbody>\n",
       "</table>\n",
       "</div>"
      ],
      "text/plain": [
       "        Date  end_of_month  beginning_of_month\n",
       "0 2013-01-01      0.000001            0.877078\n",
       "1 2013-01-01      0.000001            0.877078\n",
       "2 2013-01-01      0.000001            0.877078\n",
       "3 2013-01-01      0.000001            0.877078\n",
       "4 2013-01-01      0.000001            0.877078"
      ]
     },
     "execution_count": 103,
     "metadata": {},
     "output_type": "execute_result"
    }
   ],
   "source": [
    "def add_beginning_end_month(train):\n",
    "    \"\"\"\n",
    "    Add features that represent the beginning and end of months.\n",
    "    \"\"\"\n",
    "    def get_feature_end_month(day_of_month):\n",
    "        return (day_of_month/31)**4\n",
    "\n",
    "    def get_feature_beginning_month(day_of_month):\n",
    "        return ((31-day_of_month)/31)**4\n",
    "\n",
    "    # get_feature_end_month(33)\n",
    "    train.loc[:, 'end_of_month'] = train.loc[:, 'Date'].dt.day.apply(get_feature_end_month)\n",
    "    train.loc[:, 'beginning_of_month'] = train.loc[:, 'Date'].dt.day.apply(get_feature_beginning_month)\n",
    "    return train\n",
    "\n",
    "train = add_beginning_end_month(train)\n",
    "train.loc[:, ['Date', 'end_of_month', 'beginning_of_month']].head()"
   ]
  },
  {
   "cell_type": "markdown",
   "metadata": {},
   "source": [
    "**Visualization of beginning/end of month features**"
   ]
  },
  {
   "cell_type": "code",
   "execution_count": 104,
   "metadata": {},
   "outputs": [
    {
     "data": {
      "image/png": "[encoded data removed]"
     },
     "metadata": {},
     "output_type": "display_data"
    }
   ],
   "source": [
    "month_features = train.groupby(by='Date').agg({'end_of_month': 'first', 'beginning_of_month': 'first'}).reset_index()\n",
    "\n",
    "fig = go.Figure()\n",
    "fig.add_trace(go.Scatter(x=month_features['Date'], y=month_features['end_of_month'],\n",
    "                    mode='lines',\n",
    "                    name='end_of_month'))\n",
    "\n",
    "fig.add_trace(go.Scatter(x=month_features['Date'], y=month_features['beginning_of_month'],\n",
    "                    mode='lines',\n",
    "                    name='beginning_of_month'))\n",
    "                    \n",
    "fig.update_layout(title='End/Beginning of month features over time',\n",
    "                   xaxis_title='Date',\n",
    "                   yaxis_title='value',\n",
    "                   xaxis_range=[datetime(2013, 3, 1),\n",
    "                               datetime(2013, 7, 1)])\n",
    "\n",
    "fig.show('png')"
   ]
  },
  {
   "cell_type": "markdown",
   "metadata": {},
   "source": [
    "### Clean data <a class=\"anchor\" id=\"clean-data\"></a>\n",
    "\n",
    "We do some small data cleaning steps:\n",
    "- Drop the `Customers` column, as this info will not be available in the future.\n",
    "- Remove rows with sales that are null or 0.\n",
    "- Drop the `Open` column - stores that have non-zero sales are open.\n",
    "- Remove observations with null values in any feature.\n",
    "- etc."
   ]
  },
  {
   "cell_type": "code",
   "execution_count": 105,
   "metadata": {},
   "outputs": [],
   "source": [
    "def clean_data(train_raw, drop_null=True, drop_date=True):\n",
    "    \"\"\" Some common basic data processing. \n",
    "    \n",
    "    This function\n",
    "     - Encodes the state holidays\n",
    "     - Drops unneeded columns (Customers, Open, Date)\n",
    "     - Removes all rows where 'Sales' were 0\n",
    "     - Removes all rows with nan values\n",
    "    \"\"\"\n",
    "    train = train_raw.copy()\n",
    "    train.loc[:, 'StateHoliday'] = train.loc[:, 'StateHoliday'].replace(to_replace='0', value='d')\n",
    "    train.loc[:, 'StateHoliday'].replace({'a':1, 'b':2, 'c':3, 'd':4}, inplace = True)\n",
    "\n",
    "    # Drop customers, open and Date\n",
    "    train = train.drop([\"Customers\", \"Open\"], axis=1)\n",
    "    if drop_date:\n",
    "        train = train.drop(\"Date\", axis=1)\n",
    "\n",
    "    # Drop all where sales are nan or 0\n",
    "    if 'Sales' in train.columns:\n",
    "        train = train.dropna(axis=0, how='any', subset=['Sales'])\n",
    "        train = train.loc[train.loc[:, 'Sales']!=0, :]\n",
    "\n",
    "    # Drop all null value\n",
    "    if drop_null:\n",
    "        train = train.dropna(axis=0, how='any')\n",
    "\n",
    "    return train\n",
    "\n",
    "train = clean_data(train)"
   ]
  },
  {
   "cell_type": "markdown",
   "metadata": {},
   "source": [
    "### Add features: Store info <a class=\"anchor\" id=\"features-store-info\"></a>\n",
    "\n",
    "Some additional information on the stores was made available in the\n",
    "file `data/store.csv`.\n",
    "\n",
    "We combined this with the sales information and calculated some additional features.\n",
    "\n",
    "(The full details are given in the notebook `util_extract_store_info`)\n",
    "\n",
    "We added the following features:\n",
    " - `Store`: The ID of the store, for mapping to the sales data.\n",
    " - `StoreType`: The type of store, differing between four models, a, b, c, d.\n",
    " - `Assortment`: The type of goods that the store is carrying, a = basic, b = extra, c = extended.\n",
    " - `CompetitionDistance`: The distance to the nearest competing store, in meters.\n",
    " - `month`: The month for which average sales and customers were calculated.\n",
    " - `Store_Sales_mean`: The mean sales for this store and month.\n",
    " - `Store_Customers_mean`: The mean customers for this store and month."
   ]
  },
  {
   "cell_type": "code",
   "execution_count": 106,
   "metadata": {},
   "outputs": [
    {
     "data": {
      "text/html": [
       "<div>\n",
       "<style scoped>\n",
       "    .dataframe tbody tr th:only-of-type {\n",
       "        vertical-align: middle;\n",
       "    }\n",
       "\n",
       "    .dataframe tbody tr th {\n",
       "        vertical-align: top;\n",
       "    }\n",
       "\n",
       "    .dataframe thead th {\n",
       "        text-align: right;\n",
       "    }\n",
       "</style>\n",
       "<table border=\"1\" class=\"dataframe\">\n",
       "  <thead>\n",
       "    <tr style=\"text-align: right;\">\n",
       "      <th></th>\n",
       "      <th>Store</th>\n",
       "      <th>StoreType</th>\n",
       "      <th>Assortment</th>\n",
       "      <th>CompetitionDistance</th>\n",
       "      <th>month</th>\n",
       "      <th>Store_Sales_mean</th>\n",
       "      <th>Store_Customers_mean</th>\n",
       "    </tr>\n",
       "  </thead>\n",
       "  <tbody>\n",
       "    <tr>\n",
       "      <th>0</th>\n",
       "      <td>1</td>\n",
       "      <td>c</td>\n",
       "      <td>a</td>\n",
       "      <td>1270.0</td>\n",
       "      <td>1</td>\n",
       "      <td>3926.966102</td>\n",
       "      <td>487.442623</td>\n",
       "    </tr>\n",
       "    <tr>\n",
       "      <th>1</th>\n",
       "      <td>1</td>\n",
       "      <td>c</td>\n",
       "      <td>a</td>\n",
       "      <td>1270.0</td>\n",
       "      <td>2</td>\n",
       "      <td>4175.722222</td>\n",
       "      <td>508.716981</td>\n",
       "    </tr>\n",
       "    <tr>\n",
       "      <th>2</th>\n",
       "      <td>1</td>\n",
       "      <td>c</td>\n",
       "      <td>a</td>\n",
       "      <td>1270.0</td>\n",
       "      <td>3</td>\n",
       "      <td>4273.250000</td>\n",
       "      <td>517.338983</td>\n",
       "    </tr>\n",
       "    <tr>\n",
       "      <th>3</th>\n",
       "      <td>1</td>\n",
       "      <td>c</td>\n",
       "      <td>a</td>\n",
       "      <td>1270.0</td>\n",
       "      <td>4</td>\n",
       "      <td>3912.875000</td>\n",
       "      <td>471.948276</td>\n",
       "    </tr>\n",
       "    <tr>\n",
       "      <th>4</th>\n",
       "      <td>1</td>\n",
       "      <td>c</td>\n",
       "      <td>a</td>\n",
       "      <td>1270.0</td>\n",
       "      <td>5</td>\n",
       "      <td>3784.733333</td>\n",
       "      <td>454.762712</td>\n",
       "    </tr>\n",
       "  </tbody>\n",
       "</table>\n",
       "</div>"
      ],
      "text/plain": [
       "   Store StoreType Assortment  CompetitionDistance  month  Store_Sales_mean  \\\n",
       "0      1         c          a               1270.0      1       3926.966102   \n",
       "1      1         c          a               1270.0      2       4175.722222   \n",
       "2      1         c          a               1270.0      3       4273.250000   \n",
       "3      1         c          a               1270.0      4       3912.875000   \n",
       "4      1         c          a               1270.0      5       3784.733333   \n",
       "\n",
       "   Store_Customers_mean  \n",
       "0            487.442623  \n",
       "1            508.716981  \n",
       "2            517.338983  \n",
       "3            471.948276  \n",
       "4            454.762712  "
      ]
     },
     "execution_count": 106,
     "metadata": {},
     "output_type": "execute_result"
    }
   ],
   "source": [
    "store_info = pd.read_csv(\"../data/store_info.csv\")\n",
    "store_info.head()"
   ]
  },
  {
   "cell_type": "markdown",
   "metadata": {},
   "source": [
    "Merge the store info onto the sales table."
   ]
  },
  {
   "cell_type": "code",
   "execution_count": 107,
   "metadata": {},
   "outputs": [
    {
     "data": {
      "text/html": [
       "<div>\n",
       "<style scoped>\n",
       "    .dataframe tbody tr th:only-of-type {\n",
       "        vertical-align: middle;\n",
       "    }\n",
       "\n",
       "    .dataframe tbody tr th {\n",
       "        vertical-align: top;\n",
       "    }\n",
       "\n",
       "    .dataframe thead th {\n",
       "        text-align: right;\n",
       "    }\n",
       "</style>\n",
       "<table border=\"1\" class=\"dataframe\">\n",
       "  <thead>\n",
       "    <tr style=\"text-align: right;\">\n",
       "      <th></th>\n",
       "      <th>StoreType</th>\n",
       "      <th>Assortment</th>\n",
       "      <th>CompetitionDistance</th>\n",
       "      <th>Store_Sales_mean</th>\n",
       "      <th>Store_Customers_mean</th>\n",
       "    </tr>\n",
       "  </thead>\n",
       "  <tbody>\n",
       "    <tr>\n",
       "      <th>0</th>\n",
       "      <td>b</td>\n",
       "      <td>b</td>\n",
       "      <td>900.0</td>\n",
       "      <td>4139.474576</td>\n",
       "      <td>1153.783333</td>\n",
       "    </tr>\n",
       "    <tr>\n",
       "      <th>1</th>\n",
       "      <td>b</td>\n",
       "      <td>a</td>\n",
       "      <td>90.0</td>\n",
       "      <td>12845.896552</td>\n",
       "      <td>2384.271186</td>\n",
       "    </tr>\n",
       "    <tr>\n",
       "      <th>2</th>\n",
       "      <td>b</td>\n",
       "      <td>b</td>\n",
       "      <td>590.0</td>\n",
       "      <td>3725.649123</td>\n",
       "      <td>888.627119</td>\n",
       "    </tr>\n",
       "    <tr>\n",
       "      <th>3</th>\n",
       "      <td>b</td>\n",
       "      <td>a</td>\n",
       "      <td>1260.0</td>\n",
       "      <td>7079.150000</td>\n",
       "      <td>1010.583333</td>\n",
       "    </tr>\n",
       "    <tr>\n",
       "      <th>4</th>\n",
       "      <td>a</td>\n",
       "      <td>c</td>\n",
       "      <td>18160.0</td>\n",
       "      <td>2260.783333</td>\n",
       "      <td>333.610169</td>\n",
       "    </tr>\n",
       "  </tbody>\n",
       "</table>\n",
       "</div>"
      ],
      "text/plain": [
       "  StoreType Assortment  CompetitionDistance  Store_Sales_mean  \\\n",
       "0         b          b                900.0       4139.474576   \n",
       "1         b          a                 90.0      12845.896552   \n",
       "2         b          b                590.0       3725.649123   \n",
       "3         b          a               1260.0       7079.150000   \n",
       "4         a          c              18160.0       2260.783333   \n",
       "\n",
       "   Store_Customers_mean  \n",
       "0           1153.783333  \n",
       "1           2384.271186  \n",
       "2            888.627119  \n",
       "3           1010.583333  \n",
       "4            333.610169  "
      ]
     },
     "execution_count": 107,
     "metadata": {},
     "output_type": "execute_result"
    }
   ],
   "source": [
    "def add_store_info(train):\n",
    "    \"\"\" Add the store info to sales data.\n",
    "\n",
    "    Merges the store info on the train table and returns the combined table\n",
    "    \"\"\"\n",
    "    # Load store info\n",
    "    store_info = pd.read_csv(\"../data/store_info.csv\")\n",
    "    # Merge store info onto train data\n",
    "    train = pd.merge(left=train, right=store_info, how='left', on=['Store', 'month'])\n",
    "    return train\n",
    "\n",
    "train = add_store_info(train)\n",
    "train.loc[:, ['StoreType', 'Assortment',\n",
    "              'CompetitionDistance', 'Store_Sales_mean',\n",
    "              'Store_Customers_mean']].head()"
   ]
  },
  {
   "cell_type": "markdown",
   "metadata": {},
   "source": [
    "## Model Training <a class=\"anchor\" id=\"model-training\"></a>"
   ]
  },
  {
   "cell_type": "markdown",
   "metadata": {},
   "source": [
    "### Prepare train/test data <a class=\"anchor\" id=\"prepare-train-test\"></a>\n",
    "\n",
    "The target label is `Sales`.\n",
    "\n",
    "The features include all the other columns in the dataset.\n",
    "\n"
   ]
  },
  {
   "cell_type": "code",
   "execution_count": 108,
   "metadata": {},
   "outputs": [
    {
     "data": {
      "text/html": [
       "<div>\n",
       "<style scoped>\n",
       "    .dataframe tbody tr th:only-of-type {\n",
       "        vertical-align: middle;\n",
       "    }\n",
       "\n",
       "    .dataframe tbody tr th {\n",
       "        vertical-align: top;\n",
       "    }\n",
       "\n",
       "    .dataframe thead th {\n",
       "        text-align: right;\n",
       "    }\n",
       "</style>\n",
       "<table border=\"1\" class=\"dataframe\">\n",
       "  <thead>\n",
       "    <tr style=\"text-align: right;\">\n",
       "      <th></th>\n",
       "      <th>Store</th>\n",
       "      <th>DayOfWeek</th>\n",
       "      <th>Sales</th>\n",
       "      <th>Promo</th>\n",
       "      <th>StateHoliday</th>\n",
       "      <th>SchoolHoliday</th>\n",
       "      <th>week</th>\n",
       "      <th>month</th>\n",
       "      <th>end_of_month</th>\n",
       "      <th>beginning_of_month</th>\n",
       "      <th>StoreType</th>\n",
       "      <th>Assortment</th>\n",
       "      <th>CompetitionDistance</th>\n",
       "      <th>Store_Sales_mean</th>\n",
       "      <th>Store_Customers_mean</th>\n",
       "    </tr>\n",
       "  </thead>\n",
       "  <tbody>\n",
       "    <tr>\n",
       "      <th>0</th>\n",
       "      <td>353.0</td>\n",
       "      <td>2.0</td>\n",
       "      <td>3139.0</td>\n",
       "      <td>0.0</td>\n",
       "      <td>1.0</td>\n",
       "      <td>1.0</td>\n",
       "      <td>1</td>\n",
       "      <td>1</td>\n",
       "      <td>0.000001</td>\n",
       "      <td>0.877078</td>\n",
       "      <td>b</td>\n",
       "      <td>b</td>\n",
       "      <td>900.0</td>\n",
       "      <td>4139.474576</td>\n",
       "      <td>1153.783333</td>\n",
       "    </tr>\n",
       "    <tr>\n",
       "      <th>1</th>\n",
       "      <td>335.0</td>\n",
       "      <td>2.0</td>\n",
       "      <td>2401.0</td>\n",
       "      <td>0.0</td>\n",
       "      <td>1.0</td>\n",
       "      <td>1.0</td>\n",
       "      <td>1</td>\n",
       "      <td>1</td>\n",
       "      <td>0.000001</td>\n",
       "      <td>0.877078</td>\n",
       "      <td>b</td>\n",
       "      <td>a</td>\n",
       "      <td>90.0</td>\n",
       "      <td>12845.896552</td>\n",
       "      <td>2384.271186</td>\n",
       "    </tr>\n",
       "    <tr>\n",
       "      <th>2</th>\n",
       "      <td>512.0</td>\n",
       "      <td>2.0</td>\n",
       "      <td>2646.0</td>\n",
       "      <td>0.0</td>\n",
       "      <td>1.0</td>\n",
       "      <td>1.0</td>\n",
       "      <td>1</td>\n",
       "      <td>1</td>\n",
       "      <td>0.000001</td>\n",
       "      <td>0.877078</td>\n",
       "      <td>b</td>\n",
       "      <td>b</td>\n",
       "      <td>590.0</td>\n",
       "      <td>3725.649123</td>\n",
       "      <td>888.627119</td>\n",
       "    </tr>\n",
       "    <tr>\n",
       "      <th>3</th>\n",
       "      <td>494.0</td>\n",
       "      <td>2.0</td>\n",
       "      <td>3113.0</td>\n",
       "      <td>0.0</td>\n",
       "      <td>1.0</td>\n",
       "      <td>1.0</td>\n",
       "      <td>1</td>\n",
       "      <td>1</td>\n",
       "      <td>0.000001</td>\n",
       "      <td>0.877078</td>\n",
       "      <td>b</td>\n",
       "      <td>a</td>\n",
       "      <td>1260.0</td>\n",
       "      <td>7079.150000</td>\n",
       "      <td>1010.583333</td>\n",
       "    </tr>\n",
       "    <tr>\n",
       "      <th>4</th>\n",
       "      <td>530.0</td>\n",
       "      <td>2.0</td>\n",
       "      <td>2907.0</td>\n",
       "      <td>0.0</td>\n",
       "      <td>1.0</td>\n",
       "      <td>1.0</td>\n",
       "      <td>1</td>\n",
       "      <td>1</td>\n",
       "      <td>0.000001</td>\n",
       "      <td>0.877078</td>\n",
       "      <td>a</td>\n",
       "      <td>c</td>\n",
       "      <td>18160.0</td>\n",
       "      <td>2260.783333</td>\n",
       "      <td>333.610169</td>\n",
       "    </tr>\n",
       "  </tbody>\n",
       "</table>\n",
       "</div>"
      ],
      "text/plain": [
       "   Store  DayOfWeek   Sales  Promo  StateHoliday  SchoolHoliday  week  month  \\\n",
       "0  353.0        2.0  3139.0    0.0           1.0            1.0     1      1   \n",
       "1  335.0        2.0  2401.0    0.0           1.0            1.0     1      1   \n",
       "2  512.0        2.0  2646.0    0.0           1.0            1.0     1      1   \n",
       "3  494.0        2.0  3113.0    0.0           1.0            1.0     1      1   \n",
       "4  530.0        2.0  2907.0    0.0           1.0            1.0     1      1   \n",
       "\n",
       "   end_of_month  beginning_of_month StoreType Assortment  CompetitionDistance  \\\n",
       "0      0.000001            0.877078         b          b                900.0   \n",
       "1      0.000001            0.877078         b          a                 90.0   \n",
       "2      0.000001            0.877078         b          b                590.0   \n",
       "3      0.000001            0.877078         b          a               1260.0   \n",
       "4      0.000001            0.877078         a          c              18160.0   \n",
       "\n",
       "   Store_Sales_mean  Store_Customers_mean  \n",
       "0       4139.474576           1153.783333  \n",
       "1      12845.896552           2384.271186  \n",
       "2       3725.649123            888.627119  \n",
       "3       7079.150000           1010.583333  \n",
       "4       2260.783333            333.610169  "
      ]
     },
     "execution_count": 108,
     "metadata": {},
     "output_type": "execute_result"
    }
   ],
   "source": [
    "train.head()"
   ]
  },
  {
   "cell_type": "code",
   "execution_count": 109,
   "metadata": {},
   "outputs": [],
   "source": [
    "# Split label and features\n",
    "X = train.copy(deep=True).drop(columns=[\"Sales\"])\n",
    "y = train.loc[:, \"Sales\"]\n",
    "\n",
    "# Make train test split\n",
    "from sklearn.model_selection import train_test_split\n",
    "X_train, X_test, y_train, y_test = train_test_split(X, y, test_size=0.1)"
   ]
  },
  {
   "cell_type": "markdown",
   "metadata": {},
   "source": [
    "### Feature Encoding <a class=\"anchor\" id=\"feature-encoding\"></a>\n",
    "\n",
    "We originally used one-hot encoding for certain features such as Assortment type, State holiday, Store type, ... but the final score for target encoding was better. Therefore, we chose to target encode any feature that needs to be encoded."
   ]
  },
  {
   "cell_type": "code",
   "execution_count": 110,
   "metadata": {},
   "outputs": [],
   "source": [
    "import category_encoders as ce\n",
    "target_encode  = ce.TargetEncoder()"
   ]
  },
  {
   "cell_type": "markdown",
   "metadata": {},
   "source": [
    "### Feature Scaling <a class=\"anchor\" id=\"feature-scaling\"></a>\n",
    "We scaled the features, to have the same range. This step has a higher importance, when using linear regression models."
   ]
  },
  {
   "cell_type": "code",
   "execution_count": 111,
   "metadata": {},
   "outputs": [],
   "source": [
    "from sklearn.preprocessing import StandardScaler\n",
    "scaler = StandardScaler()"
   ]
  },
  {
   "cell_type": "code",
   "execution_count": 112,
   "metadata": {},
   "outputs": [],
   "source": [
    "from lightgbm import LGBMRegressor\n",
    "model = LGBMRegressor()"
   ]
  },
  {
   "cell_type": "markdown",
   "metadata": {},
   "source": [
    "### Models <a class=\"anchor\" id=\"models\"></a>\n",
    "\n",
    "In the first step, we tried a simple mean estimator as the baseline.\n",
    "\n",
    "We then selected two models, Random Forest Regressor and Gradient Boosting Machine (LGBM). We compared the performance of the two models and LGBM was scoring better, hence was selected as our model of choice. "
   ]
  },
  {
   "cell_type": "markdown",
   "metadata": {},
   "source": [
    "### Processing pipeline <a class=\"anchor\" id=\"processing-pipeline\"></a>\n",
    "We created a pipeline consisting of different processing steps: encoding, scaling and modeling"
   ]
  },
  {
   "cell_type": "code",
   "execution_count": 113,
   "metadata": {
    "tags": []
   },
   "outputs": [],
   "source": [
    "from sklearn.model_selection import GridSearchCV\n",
    "from sklearn.pipeline import Pipeline\n",
    "pipe = Pipeline(steps=[ \n",
    "                ('target_encode', target_encode),\n",
    "                ('scaler',scaler),\n",
    "                ('model',model)])                           "
   ]
  },
  {
   "cell_type": "markdown",
   "metadata": {},
   "source": [
    "## Model Selection <a class=\"anchor\" id=\"model-selection\"></a>"
   ]
  },
  {
   "cell_type": "markdown",
   "metadata": {},
   "source": [
    "### Hyperparameter optimization <a class=\"anchor\" id=\"hyperparameter-optimization\"></a>\n",
    "\n",
    "In order to select the best hyperparameters for our pipeline, we performed a grid search on a number of parameters. \n",
    "The hyperparameters corresponding the model that we explored were: n_estimators, max_depth, num_leaves.\n",
    "\n",
    "Here, we only show the resulting best parameter set."
   ]
  },
  {
   "cell_type": "code",
   "execution_count": 114,
   "metadata": {},
   "outputs": [],
   "source": [
    "# parameters = {'model__n_estimators': [600, 900],\n",
    "#               'model__max_depth': [15, 25, 25],\n",
    "#               'model__num_leaves': [31, 50, 80, 100],\n",
    "#              }\n",
    "parameters = {'model__n_estimators': [900],\n",
    "              'model__max_depth': [25],\n",
    "              'model__num_leaves': [80],\n",
    "             }"
   ]
  },
  {
   "cell_type": "code",
   "execution_count": 115,
   "metadata": {
    "tags": []
   },
   "outputs": [
    {
     "name": "stdout",
     "output_type": "stream",
     "text": [
      "Fitting 5 folds for each of 1 candidates, totalling 5 fits\n"
     ]
    },
    {
     "name": "stderr",
     "output_type": "stream",
     "text": [
      "/home/maryam/.local/lib/python3.8/site-packages/statsmodels/compat/pandas.py:65: FutureWarning: pandas.Int64Index is deprecated and will be removed from pandas in a future version. Use pandas.Index with the appropriate dtype instead.\n",
      "  from pandas import Int64Index as NumericIndex\n",
      "/home/maryam/.local/lib/python3.8/site-packages/statsmodels/compat/pandas.py:65: FutureWarning: pandas.Int64Index is deprecated and will be removed from pandas in a future version. Use pandas.Index with the appropriate dtype instead.\n",
      "  from pandas import Int64Index as NumericIndex\n",
      "/home/maryam/.local/lib/python3.8/site-packages/statsmodels/compat/pandas.py:65: FutureWarning: pandas.Int64Index is deprecated and will be removed from pandas in a future version. Use pandas.Index with the appropriate dtype instead.\n",
      "  from pandas import Int64Index as NumericIndex\n",
      "/home/maryam/.local/lib/python3.8/site-packages/statsmodels/compat/pandas.py:65: FutureWarning: pandas.Int64Index is deprecated and will be removed from pandas in a future version. Use pandas.Index with the appropriate dtype instead.\n",
      "  from pandas import Int64Index as NumericIndex\n",
      "/home/maryam/.local/lib/python3.8/site-packages/statsmodels/compat/pandas.py:65: FutureWarning: pandas.Int64Index is deprecated and will be removed from pandas in a future version. Use pandas.Index with the appropriate dtype instead.\n",
      "  from pandas import Int64Index as NumericIndex\n"
     ]
    }
   ],
   "source": [
    "# Surpress some FutureWarnings that pop up form category_encoders\n",
    "import warnings\n",
    "warnings.filterwarnings(\"ignore\", category=FutureWarning)\n",
    "\n",
    "\n",
    "regLGBMGridSearch = GridSearchCV(pipe, parameters, cv=5, n_jobs=-1, verbose=1, error_score='raise')\n",
    "grid_search = regLGBMGridSearch.fit(X_train, y_train) "
   ]
  },
  {
   "cell_type": "code",
   "execution_count": 116,
   "metadata": {
    "collapsed": true,
    "jupyter": {
     "outputs_hidden": true
    },
    "tags": []
   },
   "outputs": [
    {
     "data": {
      "text/plain": [
       "Pipeline(steps=[('target_encode',\n",
       "                 TargetEncoder(cols=['StoreType', 'Assortment'])),\n",
       "                ('scaler', StandardScaler()),\n",
       "                ('model',\n",
       "                 LGBMRegressor(max_depth=25, n_estimators=900, num_leaves=80))])"
      ]
     },
     "execution_count": 116,
     "metadata": {},
     "output_type": "execute_result"
    }
   ],
   "source": [
    "grid_search.best_estimator_"
   ]
  },
  {
   "cell_type": "markdown",
   "metadata": {
    "tags": []
   },
   "source": [
    "We iterated over the value of these parameters a couple of times and selected the best parameters. We looked at other parameters than can be tuned and in the next step and took various subsets of different features to target encode."
   ]
  },
  {
   "cell_type": "code",
   "execution_count": 117,
   "metadata": {},
   "outputs": [
    {
     "data": {
      "text/plain": [
       "dict_keys(['memory', 'steps', 'verbose', 'target_encode', 'scaler', 'model', 'target_encode__cols', 'target_encode__drop_invariant', 'target_encode__handle_missing', 'target_encode__handle_unknown', 'target_encode__min_samples_leaf', 'target_encode__return_df', 'target_encode__smoothing', 'target_encode__verbose', 'scaler__copy', 'scaler__with_mean', 'scaler__with_std', 'model__boosting_type', 'model__class_weight', 'model__colsample_bytree', 'model__importance_type', 'model__learning_rate', 'model__max_depth', 'model__min_child_samples', 'model__min_child_weight', 'model__min_split_gain', 'model__n_estimators', 'model__n_jobs', 'model__num_leaves', 'model__objective', 'model__random_state', 'model__reg_alpha', 'model__reg_lambda', 'model__silent', 'model__subsample', 'model__subsample_for_bin', 'model__subsample_freq'])"
      ]
     },
     "execution_count": 117,
     "metadata": {},
     "output_type": "execute_result"
    }
   ],
   "source": [
    "regLGBMGridSearch.estimator.get_params().keys()"
   ]
  },
  {
   "cell_type": "markdown",
   "metadata": {},
   "source": [
    "**Hyperparameter search over Target Encodings**"
   ]
  },
  {
   "cell_type": "code",
   "execution_count": 118,
   "metadata": {
    "tags": []
   },
   "outputs": [],
   "source": [
    "parameters = {'model__n_estimators': [900],\n",
    "              'model__max_depth': [25],\n",
    "              'model__num_leaves': [80],\n",
    "             'target_encode__cols':\n",
    "             [\n",
    "                ['Store','StoreType','Assortment','StateHoliday','week','month','beginning_of_month','end_of_month'],\n",
    "                ['Store','StoreType','Assortment','StateHoliday','week','month'],\n",
    "                ['Store','StoreType','Assortment']\n",
    "            ]\n",
    "             }"
   ]
  },
  {
   "cell_type": "code",
   "execution_count": 119,
   "metadata": {},
   "outputs": [
    {
     "name": "stdout",
     "output_type": "stream",
     "text": [
      "Fitting 5 folds for each of 3 candidates, totalling 15 fits\n"
     ]
    },
    {
     "name": "stderr",
     "output_type": "stream",
     "text": [
      "/home/maryam/.local/lib/python3.8/site-packages/statsmodels/compat/pandas.py:65: FutureWarning: pandas.Int64Index is deprecated and will be removed from pandas in a future version. Use pandas.Index with the appropriate dtype instead.\n",
      "  from pandas import Int64Index as NumericIndex\n",
      "/home/maryam/.local/lib/python3.8/site-packages/statsmodels/compat/pandas.py:65: FutureWarning: pandas.Int64Index is deprecated and will be removed from pandas in a future version. Use pandas.Index with the appropriate dtype instead.\n",
      "  from pandas import Int64Index as NumericIndex\n",
      "/home/maryam/.local/lib/python3.8/site-packages/statsmodels/compat/pandas.py:65: FutureWarning: pandas.Int64Index is deprecated and will be removed from pandas in a future version. Use pandas.Index with the appropriate dtype instead.\n",
      "  from pandas import Int64Index as NumericIndex\n"
     ]
    }
   ],
   "source": [
    "regLGBMGridSearch = GridSearchCV(pipe, parameters, cv=5, n_jobs=-1, verbose=1, error_score='raise')\n",
    "grid_search = regLGBMGridSearch.fit(X_train, y_train) "
   ]
  },
  {
   "cell_type": "code",
   "execution_count": 120,
   "metadata": {},
   "outputs": [
    {
     "name": "stdout",
     "output_type": "stream",
     "text": [
      "Best parameter (CV score=0.940):\n"
     ]
    },
    {
     "data": {
      "text/plain": [
       "Pipeline(steps=[('target_encode',\n",
       "                 TargetEncoder(cols=['Store', 'StoreType', 'Assortment'])),\n",
       "                ('scaler', StandardScaler()),\n",
       "                ('model',\n",
       "                 LGBMRegressor(max_depth=25, n_estimators=900, num_leaves=80))])"
      ]
     },
     "execution_count": 120,
     "metadata": {},
     "output_type": "execute_result"
    }
   ],
   "source": [
    "print(\"Best parameter (CV score=%0.3f):\" % grid_search.best_score_)\n",
    "grid_search.best_estimator_"
   ]
  },
  {
   "cell_type": "markdown",
   "metadata": {},
   "source": [
    "### Model's performance on the test data\n",
    "Finally, we evaluated the error using on the validation data set."
   ]
  },
  {
   "cell_type": "code",
   "execution_count": 121,
   "metadata": {},
   "outputs": [
    {
     "name": "stdout",
     "output_type": "stream",
     "text": [
      "RMSPE metric on test set: 11.32\n"
     ]
    }
   ],
   "source": [
    "from scripts.processing import metric\n",
    "y_pred = grid_search.best_estimator_.predict(X_test)\n",
    "error_regLGBM = metric(y_test.values, y_pred)\n",
    "print(f\"RMSPE metric on test set: {error_regLGBM:.2f}\")"
   ]
  },
  {
   "cell_type": "markdown",
   "metadata": {},
   "source": [
    "### Final Training <a class=\"anchor\" id=\"final-training\"></a>\n",
    "\n",
    "Finally, we used the best model and trained it once again on the total data to create the final model"
   ]
  },
  {
   "cell_type": "code",
   "execution_count": 122,
   "metadata": {
    "collapsed": true,
    "jupyter": {
     "outputs_hidden": true
    },
    "tags": []
   },
   "outputs": [],
   "source": [
    "best_model = grid_search.best_estimator_\n",
    "best_model_wholeDataRefitted = best_model.fit(X,y)"
   ]
  },
  {
   "cell_type": "code",
   "execution_count": 123,
   "metadata": {},
   "outputs": [],
   "source": [
    "best_model_wholeDataRefitted\n",
    "y_pred = best_model_wholeDataRefitted.predict(X)"
   ]
  },
  {
   "cell_type": "markdown",
   "metadata": {},
   "source": [
    "### Saving the model <a class=\"anchor\" id=\"saving-model\"></a>\n",
    "\n",
    "We save the trained model so that it can be reused later."
   ]
  },
  {
   "cell_type": "code",
   "execution_count": 124,
   "metadata": {
    "tags": []
   },
   "outputs": [],
   "source": [
    "#from scripts.pipeline import save_pipeline\n",
    "#save_pipeline(pipeline=best_model_wholeDataRefitted, name='LGBM_hyperparam_optim_3')"
   ]
  },
  {
   "cell_type": "markdown",
   "metadata": {},
   "source": [
    "## Model Evaluation <a class=\"anchor\" id=\"model-evaluation\"></a>\n",
    "\n",
    "We now load the final model, with was a Gradient Boosted Tree classifier."
   ]
  },
  {
   "cell_type": "code",
   "execution_count": 125,
   "metadata": {},
   "outputs": [
    {
     "name": "stdout",
     "output_type": "stream",
     "text": [
      " - Loading pipeline \"LGBM_hyperparam_optim_3\" at:\n",
      "../data/trained_pipelines/pipeline_LGBM_hyperparam_optim_3.p\n"
     ]
    }
   ],
   "source": [
    "import warnings\n",
    "from scripts.pipeline import load_pipeline\n",
    "pipe = load_pipeline(name='LGBM_hyperparam_optim_3')\n",
    "y_pred = pipe.predict(X)"
   ]
  },
  {
   "cell_type": "markdown",
   "metadata": {},
   "source": [
    "### Score on test set "
   ]
  },
  {
   "cell_type": "code",
   "execution_count": 126,
   "metadata": {},
   "outputs": [
    {
     "name": "stdout",
     "output_type": "stream",
     "text": [
      "RMSPE metric on test set: 10.18\n"
     ]
    }
   ],
   "source": [
    "from scripts.processing import metric\n",
    "y_pred = pipe.predict(X_test)\n",
    "error_regLGBM = metric(y_test.values, y_pred)\n",
    "print(f\"RMSPE metric on test set: {error_regLGBM:.2f}\")"
   ]
  },
  {
   "cell_type": "markdown",
   "metadata": {},
   "source": [
    "### Compare daily sales\n",
    "\n",
    "To better evaluate the model, we compare the daily sales\n",
    "numbers predicted by our model and the actual daily sales"
   ]
  },
  {
   "cell_type": "code",
   "execution_count": 127,
   "metadata": {},
   "outputs": [
    {
     "data": {
      "text/html": [
       "<div>\n",
       "<style scoped>\n",
       "    .dataframe tbody tr th:only-of-type {\n",
       "        vertical-align: middle;\n",
       "    }\n",
       "\n",
       "    .dataframe tbody tr th {\n",
       "        vertical-align: top;\n",
       "    }\n",
       "\n",
       "    .dataframe thead th {\n",
       "        text-align: right;\n",
       "    }\n",
       "</style>\n",
       "<table border=\"1\" class=\"dataframe\">\n",
       "  <thead>\n",
       "    <tr style=\"text-align: right;\">\n",
       "      <th></th>\n",
       "      <th>Date</th>\n",
       "      <th>index</th>\n",
       "      <th>pred</th>\n",
       "      <th>actual</th>\n",
       "      <th>error</th>\n",
       "      <th>error_abs</th>\n",
       "    </tr>\n",
       "  </thead>\n",
       "  <tbody>\n",
       "    <tr>\n",
       "      <th>0</th>\n",
       "      <td>2013-01-01</td>\n",
       "      <td>7453</td>\n",
       "      <td>1.247358e+05</td>\n",
       "      <td>87980.0</td>\n",
       "      <td>-41.777470</td>\n",
       "      <td>41.777470</td>\n",
       "    </tr>\n",
       "    <tr>\n",
       "      <th>1</th>\n",
       "      <td>2013-01-02</td>\n",
       "      <td>1538235</td>\n",
       "      <td>5.706822e+06</td>\n",
       "      <td>5707185.0</td>\n",
       "      <td>0.006356</td>\n",
       "      <td>0.006356</td>\n",
       "    </tr>\n",
       "    <tr>\n",
       "      <th>2</th>\n",
       "      <td>2013-01-03</td>\n",
       "      <td>2521226</td>\n",
       "      <td>5.233531e+06</td>\n",
       "      <td>5177894.0</td>\n",
       "      <td>-1.074515</td>\n",
       "      <td>1.074515</td>\n",
       "    </tr>\n",
       "    <tr>\n",
       "      <th>3</th>\n",
       "      <td>2013-01-04</td>\n",
       "      <td>3657192</td>\n",
       "      <td>5.629987e+06</td>\n",
       "      <td>5627268.0</td>\n",
       "      <td>-0.048311</td>\n",
       "      <td>0.048311</td>\n",
       "    </tr>\n",
       "    <tr>\n",
       "      <th>4</th>\n",
       "      <td>2013-01-05</td>\n",
       "      <td>4645127</td>\n",
       "      <td>5.017485e+06</td>\n",
       "      <td>4960593.0</td>\n",
       "      <td>-1.146888</td>\n",
       "      <td>1.146888</td>\n",
       "    </tr>\n",
       "  </tbody>\n",
       "</table>\n",
       "</div>"
      ],
      "text/plain": [
       "        Date    index          pred     actual      error  error_abs\n",
       "0 2013-01-01     7453  1.247358e+05    87980.0 -41.777470  41.777470\n",
       "1 2013-01-02  1538235  5.706822e+06  5707185.0   0.006356   0.006356\n",
       "2 2013-01-03  2521226  5.233531e+06  5177894.0  -1.074515   1.074515\n",
       "3 2013-01-04  3657192  5.629987e+06  5627268.0  -0.048311   0.048311\n",
       "4 2013-01-05  4645127  5.017485e+06  4960593.0  -1.146888   1.146888"
      ]
     },
     "execution_count": 127,
     "metadata": {},
     "output_type": "execute_result"
    }
   ],
   "source": [
    "def metric_not_summed(preds, actuals):\n",
    "    \"\"\" The RMSPE metric per observation \"\"\"\n",
    "    preds = preds.reshape(-1)\n",
    "    actuals = actuals.reshape(-1)\n",
    "    assert preds.shape == actuals.shape\n",
    "    return 100 * (actuals - preds) / actuals\n",
    "\n",
    "y_pred = pipe.predict(X)\n",
    "\n",
    "# Load the dates from the data\n",
    "train_raw = scr.load_train_data()\n",
    "dates = pd.DataFrame(scr.process_data(train_raw, drop_null=True, drop_date=False).loc[:, 'Date'])\n",
    "\n",
    "# Merge predicted and actual values\n",
    "result = dates.copy()\n",
    "result = result.reset_index() #added step to solve the problem with keys and nan values in y_actual\n",
    "\n",
    "result.loc[:, 'pred'] = y_pred  \n",
    "result.loc[:, 'actual'] = y\n",
    "\n",
    "# Sum up result by date\n",
    "result = result.groupby(by='Date').sum().reset_index()\n",
    "\n",
    "# Calculate the error\n",
    "result.loc[:, 'error'] = metric_not_summed(result.loc[:, 'pred'].values, result.loc[:, 'actual'].values)\n",
    "result.loc[:, 'error_abs'] = np.abs(result.loc[:, 'error'])\n",
    "result.head()"
   ]
  },
  {
   "cell_type": "code",
   "execution_count": 128,
   "metadata": {},
   "outputs": [
    {
     "data": {
      "application/vnd.plotly.v1+json": {
       "config": {
        "plotlyServerURL": "https://plot.ly"
       },
       "data": [
        {
         "mode": "lines+markers",
         "name": "actual",
         "type": "scatter",
         "x": [
          "2013-01-01T00:00:00",
          "2013-01-02T00:00:00",
          "2013-01-03T00:00:00",
          "2013-01-04T00:00:00",
          "2013-01-05T00:00:00",
          "2013-01-06T00:00:00",
          "2013-01-07T00:00:00",
          "2013-01-08T00:00:00",
          "2013-01-09T00:00:00",
          "2013-01-10T00:00:00",
          "2013-01-11T00:00:00",
          "2013-01-12T00:00:00",
          "2013-01-13T00:00:00",
          "2013-01-14T00:00:00",
          "2013-01-15T00:00:00",
          "2013-01-16T00:00:00",
          "2013-01-17T00:00:00",
          "2013-01-18T00:00:00",
          "2013-01-19T00:00:00",
          "2013-01-20T00:00:00",
          "2013-01-21T00:00:00",
          "2013-01-22T00:00:00",
          "2013-01-23T00:00:00",
          "2013-01-24T00:00:00",
          "2013-01-25T00:00:00",
          "2013-01-26T00:00:00",
          "2013-01-27T00:00:00",
          "2013-01-28T00:00:00",
          "2013-01-29T00:00:00",
          "2013-01-30T00:00:00",
          "2013-01-31T00:00:00",
          "2013-02-01T00:00:00",
          "2013-02-02T00:00:00",
          "2013-02-03T00:00:00",
          "2013-02-04T00:00:00",
          "2013-02-05T00:00:00",
          "2013-02-06T00:00:00",
          "2013-02-07T00:00:00",
          "2013-02-08T00:00:00",
          "2013-02-09T00:00:00",
          "2013-02-10T00:00:00",
          "2013-02-11T00:00:00",
          "2013-02-12T00:00:00",
          "2013-02-13T00:00:00",
          "2013-02-14T00:00:00",
          "2013-02-15T00:00:00",
          "2013-02-16T00:00:00",
          "2013-02-17T00:00:00",
          "2013-02-18T00:00:00",
          "2013-02-19T00:00:00",
          "2013-02-20T00:00:00",
          "2013-02-21T00:00:00",
          "2013-02-22T00:00:00",
          "2013-02-23T00:00:00",
          "2013-02-24T00:00:00",
          "2013-02-25T00:00:00",
          "2013-02-26T00:00:00",
          "2013-02-27T00:00:00",
          "2013-02-28T00:00:00",
          "2013-03-01T00:00:00",
          "2013-03-02T00:00:00",
          "2013-03-03T00:00:00",
          "2013-03-04T00:00:00",
          "2013-03-05T00:00:00",
          "2013-03-06T00:00:00",
          "2013-03-07T00:00:00",
          "2013-03-08T00:00:00",
          "2013-03-09T00:00:00",
          "2013-03-10T00:00:00",
          "2013-03-11T00:00:00",
          "2013-03-12T00:00:00",
          "2013-03-13T00:00:00",
          "2013-03-14T00:00:00",
          "2013-03-15T00:00:00",
          "2013-03-16T00:00:00",
          "2013-03-17T00:00:00",
          "2013-03-18T00:00:00",
          "2013-03-19T00:00:00",
          "2013-03-20T00:00:00",
          "2013-03-21T00:00:00",
          "2013-03-22T00:00:00",
          "2013-03-23T00:00:00",
          "2013-03-24T00:00:00",
          "2013-03-25T00:00:00",
          "2013-03-26T00:00:00",
          "2013-03-27T00:00:00",
          "2013-03-28T00:00:00",
          "2013-03-29T00:00:00",
          "2013-03-30T00:00:00",
          "2013-03-31T00:00:00",
          "2013-04-01T00:00:00",
          "2013-04-02T00:00:00",
          "2013-04-03T00:00:00",
          "2013-04-04T00:00:00",
          "2013-04-05T00:00:00",
          "2013-04-06T00:00:00",
          "2013-04-07T00:00:00",
          "2013-04-08T00:00:00",
          "2013-04-09T00:00:00",
          "2013-04-10T00:00:00",
          "2013-04-11T00:00:00",
          "2013-04-12T00:00:00",
          "2013-04-13T00:00:00",
          "2013-04-14T00:00:00",
          "2013-04-15T00:00:00",
          "2013-04-16T00:00:00",
          "2013-04-17T00:00:00",
          "2013-04-18T00:00:00",
          "2013-04-19T00:00:00",
          "2013-04-20T00:00:00",
          "2013-04-21T00:00:00",
          "2013-04-22T00:00:00",
          "2013-04-23T00:00:00",
          "2013-04-24T00:00:00",
          "2013-04-25T00:00:00",
          "2013-04-26T00:00:00",
          "2013-04-27T00:00:00",
          "2013-04-28T00:00:00",
          "2013-04-29T00:00:00",
          "2013-04-30T00:00:00",
          "2013-05-01T00:00:00",
          "2013-05-02T00:00:00",
          "2013-05-03T00:00:00",
          "2013-05-04T00:00:00",
          "2013-05-05T00:00:00",
          "2013-05-06T00:00:00",
          "2013-05-07T00:00:00",
          "2013-05-08T00:00:00",
          "2013-05-09T00:00:00",
          "2013-05-10T00:00:00",
          "2013-05-11T00:00:00",
          "2013-05-12T00:00:00",
          "2013-05-13T00:00:00",
          "2013-05-14T00:00:00",
          "2013-05-15T00:00:00",
          "2013-05-16T00:00:00",
          "2013-05-17T00:00:00",
          "2013-05-18T00:00:00",
          "2013-05-19T00:00:00",
          "2013-05-20T00:00:00",
          "2013-05-21T00:00:00",
          "2013-05-22T00:00:00",
          "2013-05-23T00:00:00",
          "2013-05-24T00:00:00",
          "2013-05-25T00:00:00",
          "2013-05-26T00:00:00",
          "2013-05-27T00:00:00",
          "2013-05-28T00:00:00",
          "2013-05-29T00:00:00",
          "2013-05-30T00:00:00",
          "2013-05-31T00:00:00",
          "2013-06-01T00:00:00",
          "2013-06-02T00:00:00",
          "2013-06-03T00:00:00",
          "2013-06-04T00:00:00",
          "2013-06-05T00:00:00",
          "2013-06-06T00:00:00",
          "2013-06-07T00:00:00",
          "2013-06-08T00:00:00",
          "2013-06-09T00:00:00",
          "2013-06-10T00:00:00",
          "2013-06-11T00:00:00",
          "2013-06-12T00:00:00",
          "2013-06-13T00:00:00",
          "2013-06-14T00:00:00",
          "2013-06-15T00:00:00",
          "2013-06-16T00:00:00",
          "2013-06-17T00:00:00",
          "2013-06-18T00:00:00",
          "2013-06-19T00:00:00",
          "2013-06-20T00:00:00",
          "2013-06-21T00:00:00",
          "2013-06-22T00:00:00",
          "2013-06-23T00:00:00",
          "2013-06-24T00:00:00",
          "2013-06-25T00:00:00",
          "2013-06-26T00:00:00",
          "2013-06-27T00:00:00",
          "2013-06-28T00:00:00",
          "2013-06-29T00:00:00",
          "2013-06-30T00:00:00",
          "2013-07-01T00:00:00",
          "2013-07-02T00:00:00",
          "2013-07-03T00:00:00",
          "2013-07-04T00:00:00",
          "2013-07-05T00:00:00",
          "2013-07-06T00:00:00",
          "2013-07-07T00:00:00",
          "2013-07-08T00:00:00",
          "2013-07-09T00:00:00",
          "2013-07-10T00:00:00",
          "2013-07-11T00:00:00",
          "2013-07-12T00:00:00",
          "2013-07-13T00:00:00",
          "2013-07-14T00:00:00",
          "2013-07-15T00:00:00",
          "2013-07-16T00:00:00",
          "2013-07-17T00:00:00",
          "2013-07-18T00:00:00",
          "2013-07-19T00:00:00",
          "2013-07-20T00:00:00",
          "2013-07-21T00:00:00",
          "2013-07-22T00:00:00",
          "2013-07-23T00:00:00",
          "2013-07-24T00:00:00",
          "2013-07-25T00:00:00",
          "2013-07-26T00:00:00",
          "2013-07-27T00:00:00",
          "2013-07-28T00:00:00",
          "2013-07-29T00:00:00",
          "2013-07-30T00:00:00",
          "2013-07-31T00:00:00",
          "2013-08-01T00:00:00",
          "2013-08-02T00:00:00",
          "2013-08-03T00:00:00",
          "2013-08-04T00:00:00",
          "2013-08-05T00:00:00",
          "2013-08-06T00:00:00",
          "2013-08-07T00:00:00",
          "2013-08-08T00:00:00",
          "2013-08-09T00:00:00",
          "2013-08-10T00:00:00",
          "2013-08-11T00:00:00",
          "2013-08-12T00:00:00",
          "2013-08-13T00:00:00",
          "2013-08-14T00:00:00",
          "2013-08-15T00:00:00",
          "2013-08-16T00:00:00",
          "2013-08-17T00:00:00",
          "2013-08-18T00:00:00",
          "2013-08-19T00:00:00",
          "2013-08-20T00:00:00",
          "2013-08-21T00:00:00",
          "2013-08-22T00:00:00",
          "2013-08-23T00:00:00",
          "2013-08-24T00:00:00",
          "2013-08-25T00:00:00",
          "2013-08-26T00:00:00",
          "2013-08-27T00:00:00",
          "2013-08-28T00:00:00",
          "2013-08-29T00:00:00",
          "2013-08-30T00:00:00",
          "2013-08-31T00:00:00",
          "2013-09-01T00:00:00",
          "2013-09-02T00:00:00",
          "2013-09-03T00:00:00",
          "2013-09-04T00:00:00",
          "2013-09-05T00:00:00",
          "2013-09-06T00:00:00",
          "2013-09-07T00:00:00",
          "2013-09-08T00:00:00",
          "2013-09-09T00:00:00",
          "2013-09-10T00:00:00",
          "2013-09-11T00:00:00",
          "2013-09-12T00:00:00",
          "2013-09-13T00:00:00",
          "2013-09-14T00:00:00",
          "2013-09-15T00:00:00",
          "2013-09-16T00:00:00",
          "2013-09-17T00:00:00",
          "2013-09-18T00:00:00",
          "2013-09-19T00:00:00",
          "2013-09-20T00:00:00",
          "2013-09-21T00:00:00",
          "2013-09-22T00:00:00",
          "2013-09-23T00:00:00",
          "2013-09-24T00:00:00",
          "2013-09-25T00:00:00",
          "2013-09-26T00:00:00",
          "2013-09-27T00:00:00",
          "2013-09-28T00:00:00",
          "2013-09-29T00:00:00",
          "2013-09-30T00:00:00",
          "2013-10-01T00:00:00",
          "2013-10-02T00:00:00",
          "2013-10-03T00:00:00",
          "2013-10-04T00:00:00",
          "2013-10-05T00:00:00",
          "2013-10-06T00:00:00",
          "2013-10-07T00:00:00",
          "2013-10-08T00:00:00",
          "2013-10-09T00:00:00",
          "2013-10-10T00:00:00",
          "2013-10-11T00:00:00",
          "2013-10-12T00:00:00",
          "2013-10-13T00:00:00",
          "2013-10-14T00:00:00",
          "2013-10-15T00:00:00",
          "2013-10-16T00:00:00",
          "2013-10-17T00:00:00",
          "2013-10-18T00:00:00",
          "2013-10-19T00:00:00",
          "2013-10-20T00:00:00",
          "2013-10-21T00:00:00",
          "2013-10-22T00:00:00",
          "2013-10-23T00:00:00",
          "2013-10-24T00:00:00",
          "2013-10-25T00:00:00",
          "2013-10-26T00:00:00",
          "2013-10-27T00:00:00",
          "2013-10-28T00:00:00",
          "2013-10-29T00:00:00",
          "2013-10-30T00:00:00",
          "2013-10-31T00:00:00",
          "2013-11-01T00:00:00",
          "2013-11-02T00:00:00",
          "2013-11-03T00:00:00",
          "2013-11-04T00:00:00",
          "2013-11-05T00:00:00",
          "2013-11-06T00:00:00",
          "2013-11-07T00:00:00",
          "2013-11-08T00:00:00",
          "2013-11-09T00:00:00",
          "2013-11-10T00:00:00",
          "2013-11-11T00:00:00",
          "2013-11-12T00:00:00",
          "2013-11-13T00:00:00",
          "2013-11-14T00:00:00",
          "2013-11-15T00:00:00",
          "2013-11-16T00:00:00",
          "2013-11-17T00:00:00",
          "2013-11-18T00:00:00",
          "2013-11-19T00:00:00",
          "2013-11-20T00:00:00",
          "2013-11-21T00:00:00",
          "2013-11-22T00:00:00",
          "2013-11-23T00:00:00",
          "2013-11-24T00:00:00",
          "2013-11-25T00:00:00",
          "2013-11-26T00:00:00",
          "2013-11-27T00:00:00",
          "2013-11-28T00:00:00",
          "2013-11-29T00:00:00",
          "2013-11-30T00:00:00",
          "2013-12-01T00:00:00",
          "2013-12-02T00:00:00",
          "2013-12-03T00:00:00",
          "2013-12-04T00:00:00",
          "2013-12-05T00:00:00",
          "2013-12-06T00:00:00",
          "2013-12-07T00:00:00",
          "2013-12-08T00:00:00",
          "2013-12-09T00:00:00",
          "2013-12-10T00:00:00",
          "2013-12-11T00:00:00",
          "2013-12-12T00:00:00",
          "2013-12-13T00:00:00",
          "2013-12-14T00:00:00",
          "2013-12-15T00:00:00",
          "2013-12-16T00:00:00",
          "2013-12-17T00:00:00",
          "2013-12-18T00:00:00",
          "2013-12-19T00:00:00",
          "2013-12-20T00:00:00",
          "2013-12-21T00:00:00",
          "2013-12-22T00:00:00",
          "2013-12-23T00:00:00",
          "2013-12-24T00:00:00",
          "2013-12-25T00:00:00",
          "2013-12-26T00:00:00",
          "2013-12-27T00:00:00",
          "2013-12-28T00:00:00",
          "2013-12-29T00:00:00",
          "2013-12-30T00:00:00",
          "2013-12-31T00:00:00",
          "2014-01-01T00:00:00",
          "2014-01-02T00:00:00",
          "2014-01-03T00:00:00",
          "2014-01-04T00:00:00",
          "2014-01-05T00:00:00",
          "2014-01-06T00:00:00",
          "2014-01-07T00:00:00",
          "2014-01-08T00:00:00",
          "2014-01-09T00:00:00",
          "2014-01-10T00:00:00",
          "2014-01-11T00:00:00",
          "2014-01-12T00:00:00",
          "2014-01-13T00:00:00",
          "2014-01-14T00:00:00",
          "2014-01-15T00:00:00",
          "2014-01-16T00:00:00",
          "2014-01-17T00:00:00",
          "2014-01-18T00:00:00",
          "2014-01-19T00:00:00",
          "2014-01-20T00:00:00",
          "2014-01-21T00:00:00",
          "2014-01-22T00:00:00",
          "2014-01-23T00:00:00",
          "2014-01-24T00:00:00",
          "2014-01-25T00:00:00",
          "2014-01-26T00:00:00",
          "2014-01-27T00:00:00",
          "2014-01-28T00:00:00",
          "2014-01-29T00:00:00",
          "2014-01-30T00:00:00",
          "2014-01-31T00:00:00",
          "2014-02-01T00:00:00",
          "2014-02-02T00:00:00",
          "2014-02-03T00:00:00",
          "2014-02-04T00:00:00",
          "2014-02-05T00:00:00",
          "2014-02-06T00:00:00",
          "2014-02-07T00:00:00",
          "2014-02-08T00:00:00",
          "2014-02-09T00:00:00",
          "2014-02-10T00:00:00",
          "2014-02-11T00:00:00",
          "2014-02-12T00:00:00",
          "2014-02-13T00:00:00",
          "2014-02-14T00:00:00",
          "2014-02-15T00:00:00",
          "2014-02-16T00:00:00",
          "2014-02-17T00:00:00",
          "2014-02-18T00:00:00",
          "2014-02-19T00:00:00",
          "2014-02-20T00:00:00",
          "2014-02-21T00:00:00",
          "2014-02-22T00:00:00",
          "2014-02-23T00:00:00",
          "2014-02-24T00:00:00",
          "2014-02-25T00:00:00",
          "2014-02-26T00:00:00",
          "2014-02-27T00:00:00",
          "2014-02-28T00:00:00",
          "2014-03-01T00:00:00",
          "2014-03-02T00:00:00",
          "2014-03-03T00:00:00",
          "2014-03-04T00:00:00",
          "2014-03-05T00:00:00",
          "2014-03-06T00:00:00",
          "2014-03-07T00:00:00",
          "2014-03-08T00:00:00",
          "2014-03-09T00:00:00",
          "2014-03-10T00:00:00",
          "2014-03-11T00:00:00",
          "2014-03-12T00:00:00",
          "2014-03-13T00:00:00",
          "2014-03-14T00:00:00",
          "2014-03-15T00:00:00",
          "2014-03-16T00:00:00",
          "2014-03-17T00:00:00",
          "2014-03-18T00:00:00",
          "2014-03-19T00:00:00",
          "2014-03-20T00:00:00",
          "2014-03-21T00:00:00",
          "2014-03-22T00:00:00",
          "2014-03-23T00:00:00",
          "2014-03-24T00:00:00",
          "2014-03-25T00:00:00",
          "2014-03-26T00:00:00",
          "2014-03-27T00:00:00",
          "2014-03-28T00:00:00",
          "2014-03-29T00:00:00",
          "2014-03-30T00:00:00",
          "2014-03-31T00:00:00",
          "2014-04-01T00:00:00",
          "2014-04-02T00:00:00",
          "2014-04-03T00:00:00",
          "2014-04-04T00:00:00",
          "2014-04-05T00:00:00",
          "2014-04-06T00:00:00",
          "2014-04-07T00:00:00",
          "2014-04-08T00:00:00",
          "2014-04-09T00:00:00",
          "2014-04-10T00:00:00",
          "2014-04-11T00:00:00",
          "2014-04-12T00:00:00",
          "2014-04-13T00:00:00",
          "2014-04-14T00:00:00",
          "2014-04-15T00:00:00",
          "2014-04-16T00:00:00",
          "2014-04-17T00:00:00",
          "2014-04-18T00:00:00",
          "2014-04-19T00:00:00",
          "2014-04-20T00:00:00",
          "2014-04-21T00:00:00",
          "2014-04-22T00:00:00",
          "2014-04-23T00:00:00",
          "2014-04-24T00:00:00",
          "2014-04-25T00:00:00",
          "2014-04-26T00:00:00",
          "2014-04-27T00:00:00",
          "2014-04-28T00:00:00",
          "2014-04-29T00:00:00",
          "2014-04-30T00:00:00",
          "2014-05-01T00:00:00",
          "2014-05-02T00:00:00",
          "2014-05-03T00:00:00",
          "2014-05-04T00:00:00",
          "2014-05-05T00:00:00",
          "2014-05-06T00:00:00",
          "2014-05-07T00:00:00",
          "2014-05-08T00:00:00",
          "2014-05-09T00:00:00",
          "2014-05-10T00:00:00",
          "2014-05-11T00:00:00",
          "2014-05-12T00:00:00",
          "2014-05-13T00:00:00",
          "2014-05-14T00:00:00",
          "2014-05-15T00:00:00",
          "2014-05-16T00:00:00",
          "2014-05-17T00:00:00",
          "2014-05-18T00:00:00",
          "2014-05-19T00:00:00",
          "2014-05-20T00:00:00",
          "2014-05-21T00:00:00",
          "2014-05-22T00:00:00",
          "2014-05-23T00:00:00",
          "2014-05-24T00:00:00",
          "2014-05-25T00:00:00",
          "2014-05-26T00:00:00",
          "2014-05-27T00:00:00",
          "2014-05-28T00:00:00",
          "2014-05-29T00:00:00",
          "2014-05-30T00:00:00",
          "2014-05-31T00:00:00",
          "2014-06-01T00:00:00",
          "2014-06-02T00:00:00",
          "2014-06-03T00:00:00",
          "2014-06-04T00:00:00",
          "2014-06-05T00:00:00",
          "2014-06-06T00:00:00",
          "2014-06-07T00:00:00",
          "2014-06-08T00:00:00",
          "2014-06-09T00:00:00",
          "2014-06-10T00:00:00",
          "2014-06-11T00:00:00",
          "2014-06-12T00:00:00",
          "2014-06-13T00:00:00",
          "2014-06-14T00:00:00",
          "2014-06-15T00:00:00",
          "2014-06-16T00:00:00",
          "2014-06-17T00:00:00",
          "2014-06-18T00:00:00",
          "2014-06-19T00:00:00",
          "2014-06-20T00:00:00",
          "2014-06-21T00:00:00",
          "2014-06-22T00:00:00",
          "2014-06-23T00:00:00",
          "2014-06-24T00:00:00",
          "2014-06-25T00:00:00",
          "2014-06-26T00:00:00",
          "2014-06-27T00:00:00",
          "2014-06-28T00:00:00",
          "2014-06-29T00:00:00",
          "2014-06-30T00:00:00",
          "2014-07-01T00:00:00",
          "2014-07-02T00:00:00",
          "2014-07-03T00:00:00",
          "2014-07-04T00:00:00",
          "2014-07-05T00:00:00",
          "2014-07-06T00:00:00",
          "2014-07-07T00:00:00",
          "2014-07-08T00:00:00",
          "2014-07-09T00:00:00",
          "2014-07-10T00:00:00",
          "2014-07-11T00:00:00",
          "2014-07-12T00:00:00",
          "2014-07-13T00:00:00",
          "2014-07-14T00:00:00",
          "2014-07-15T00:00:00",
          "2014-07-16T00:00:00",
          "2014-07-17T00:00:00",
          "2014-07-18T00:00:00",
          "2014-07-19T00:00:00",
          "2014-07-20T00:00:00",
          "2014-07-21T00:00:00",
          "2014-07-22T00:00:00",
          "2014-07-23T00:00:00",
          "2014-07-24T00:00:00",
          "2014-07-25T00:00:00",
          "2014-07-26T00:00:00",
          "2014-07-27T00:00:00",
          "2014-07-28T00:00:00",
          "2014-07-29T00:00:00",
          "2014-07-30T00:00:00",
          "2014-07-31T00:00:00"
         ],
         "y": [
          87980,
          5707185,
          5177894,
          5627268,
          4960593,
          129750,
          9052240,
          7400444,
          6550366,
          6519942,
          6716231,
          5087220,
          131752,
          5011275,
          4454498,
          4285095,
          4452828,
          4939523,
          5025962,
          132599,
          7267965,
          6931561,
          6492281,
          6325765,
          6308163,
          4776873,
          99881,
          4763736,
          4584988,
          4876851,
          5832477,
          6047488,
          5573578,
          129359,
          8600653,
          7497738,
          6748286,
          6196686,
          6799504,
          5100705,
          126369,
          4673143,
          4631830,
          5095935,
          5450962,
          5123002,
          5118357,
          132531,
          9129627,
          6596503,
          6605811,
          6320951,
          6399880,
          4701842,
          134043,
          4682744,
          4686548,
          5087732,
          5793071,
          5911851,
          5562871,
          168089,
          9308796,
          7207301,
          6662834,
          6610291,
          6749619,
          4991121,
          111559,
          5117666,
          4379871,
          4717998,
          5008524,
          5606216,
          5419415,
          147884,
          8221417,
          7028860,
          6365942,
          6619718,
          6758734,
          5215551,
          177318,
          8674158,
          7969395,
          7833946,
          9540180,
          179238,
          7757841,
          159878,
          221427,
          5997078,
          5335306,
          5382813,
          5432367,
          4965805,
          170269,
          8329275,
          6975975,
          6499005,
          6266875,
          6641995,
          5074309,
          149534,
          4669907,
          4724998,
          4588117,
          4784366,
          5299950,
          4988263,
          144881,
          7878745,
          6590667,
          5981901,
          5881028,
          6246783,
          5061406,
          176347,
          8155621,
          8815564,
          159750,
          8205179,
          7483180,
          5376197,
          175963,
          5871459,
          5488690,
          6488963,
          176910,
          7020738,
          5551553,
          180524,
          8200128,
          7280391,
          6494515,
          6642560,
          6665494,
          5309954,
          171839,
          201875,
          6047718,
          5089255,
          5189637,
          5396532,
          4983309,
          160213,
          8532650,
          6939859,
          7569988,
          2909271,
          9086748,
          5723884,
          211850,
          8442193,
          7101807,
          6420521,
          6287814,
          6686556,
          4883720,
          192753,
          5564993,
          5216613,
          4980283,
          5018499,
          5733189,
          5053593,
          187448,
          8410147,
          6678223,
          6101024,
          6076241,
          6970508,
          5165247,
          171999,
          5438514,
          4844521,
          5006087,
          5368232,
          6455003,
          5732368,
          189395,
          9113597,
          7414129,
          6967091,
          6973121,
          6932547,
          4907907,
          212707,
          5654168,
          5093722,
          5181087,
          5408234,
          5557252,
          4951677,
          212976,
          9726068,
          7649824,
          7016600,
          6816466,
          6977209,
          4954533,
          188255,
          5124564,
          4823227,
          4887750,
          5029388,
          5216227,
          4614323,
          219518,
          9472170,
          8473552,
          8595651,
          7398402,
          6784146,
          5188542,
          212362,
          6009557,
          5233931,
          5350947,
          5337935,
          5539171,
          4868267,
          181497,
          9233180,
          7611791,
          7019090,
          5689577,
          6623735,
          4722982,
          160775,
          5403178,
          5088969,
          4688823,
          4769776,
          4989946,
          4541662,
          180877,
          8791060,
          6948493,
          6432759,
          6575650,
          7566772,
          5324956,
          228706,
          5566008,
          5415719,
          5082542,
          4971948,
          5101407,
          4898895,
          187930,
          9126830,
          7440128,
          7023416,
          6634188,
          6984817,
          4895698,
          207285,
          5274376,
          4863678,
          4539243,
          4729841,
          5004034,
          4801846,
          187768,
          7768186,
          6649412,
          6240368,
          6000338,
          6956873,
          5267257,
          177070,
          6456771,
          5659918,
          5860221,
          223028,
          6542569,
          5104760,
          207017,
          9462209,
          7448217,
          6747966,
          6415489,
          6630306,
          5261516,
          137127,
          5477810,
          4994846,
          4882840,
          5013386,
          5251194,
          4903332,
          182777,
          8102417,
          6598326,
          6197950,
          6139292,
          6384684,
          4785618,
          156014,
          4835312,
          5163897,
          5788415,
          5601741,
          3404796,
          6152085,
          149314,
          8557130,
          7721224,
          6813284,
          6756675,
          6981501,
          5447088,
          166724,
          5404614,
          4996865,
          4910140,
          5143331,
          5426341,
          5519768,
          194615,
          8895567,
          7275185,
          6181510,
          6791704,
          6897147,
          5469231,
          175844,
          5742241,
          5515819,
          5618071,
          6027984,
          7230616,
          7272904,
          209083,
          10552187,
          9030760,
          8373052,
          8765779,
          7098527,
          5994642,
          134116,
          6401671,
          5981061,
          6073126,
          6229212,
          6538149,
          6666046,
          185984,
          12877322,
          11041985,
          10123557,
          9932257,
          10268380,
          8464367,
          190142,
          12105220,
          4418346,
          142585,
          145564,
          6827389,
          5624765,
          158690,
          8984285,
          3846057,
          107471,
          5861932,
          5840154,
          5303548,
          152221,
          7095691,
          8606067,
          7207976,
          6725158,
          7074608,
          5225784,
          141999,
          5025174,
          4678625,
          4739474,
          4828084,
          5235971,
          5252072,
          142264,
          8964291,
          7149363,
          6641447,
          6364209,
          6530520,
          4784383,
          134983,
          4626331,
          4902495,
          4863393,
          5265910,
          6633080,
          5682168,
          154222,
          10020940,
          8026741,
          6960401,
          6958287,
          6555083,
          5287905,
          120689,
          5379649,
          5000141,
          4974748,
          5148111,
          5842100,
          5260324,
          164549,
          8797516,
          7336888,
          6612119,
          6317228,
          6586308,
          5080487,
          153890,
          4927836,
          4829392,
          4912182,
          4857918,
          6598215,
          5914984,
          171751,
          8577053,
          7646522,
          7108293,
          6881713,
          6836574,
          5057391,
          165196,
          5111012,
          4892316,
          4806410,
          4922815,
          5407082,
          5300901,
          178146,
          8498227,
          7062954,
          6475147,
          5928331,
          6332408,
          5141175,
          155606,
          5444581,
          5021332,
          4872758,
          4960743,
          5855518,
          5206958,
          171374,
          10061024,
          7654742,
          6746200,
          7004342,
          7026724,
          5563059,
          195021,
          5450190,
          5270682,
          5528658,
          5521027,
          5843100,
          5356715,
          171286,
          9780451,
          8867548,
          8451501,
          8705915,
          183011,
          7065378,
          186136,
          215757,
          5866026,
          4936155,
          5083956,
          5208623,
          4942874,
          165256,
          8833249,
          7902206,
          9094016,
          222999,
          9398327,
          5787062,
          193751,
          8919406,
          7777460,
          7110431,
          7009315,
          7374097,
          5728342,
          188696,
          5341483,
          5129960,
          5079903,
          5186844,
          5348229,
          4963270,
          145720,
          8535881,
          6982970,
          6419373,
          6249162,
          6761894,
          5215437,
          152639,
          5451925,
          5250909,
          6510173,
          246886,
          8107790,
          5812130,
          230028,
          9627845,
          7952376,
          7195868,
          7392558,
          7251244,
          5502185,
          202517,
          256162,
          6419643,
          5602686,
          5878947,
          5952477,
          5561590,
          196342,
          8756335,
          7626353,
          7707127,
          2706435,
          8096074,
          4991904,
          174361,
          5520673,
          5018673,
          4952588,
          4798758,
          5747726,
          5648707,
          217374,
          11080445,
          6914158,
          6390130,
          5944111,
          5386273,
          4510796,
          196532,
          5056084,
          4176701,
          4178494,
          4745562,
          4688440,
          4384335,
          224499,
          7185306,
          6340229,
          6070706,
          5681468,
          5572315,
          3824474,
          206780,
          4743237,
          4338746,
          4186709,
          4294773,
          4596832,
          4047876,
          201300,
          7148305,
          6183238,
          6282604,
          6766117
         ]
        },
        {
         "mode": "lines",
         "name": "predicted",
         "type": "scatter",
         "x": [
          "2013-01-01T00:00:00",
          "2013-01-02T00:00:00",
          "2013-01-03T00:00:00",
          "2013-01-04T00:00:00",
          "2013-01-05T00:00:00",
          "2013-01-06T00:00:00",
          "2013-01-07T00:00:00",
          "2013-01-08T00:00:00",
          "2013-01-09T00:00:00",
          "2013-01-10T00:00:00",
          "2013-01-11T00:00:00",
          "2013-01-12T00:00:00",
          "2013-01-13T00:00:00",
          "2013-01-14T00:00:00",
          "2013-01-15T00:00:00",
          "2013-01-16T00:00:00",
          "2013-01-17T00:00:00",
          "2013-01-18T00:00:00",
          "2013-01-19T00:00:00",
          "2013-01-20T00:00:00",
          "2013-01-21T00:00:00",
          "2013-01-22T00:00:00",
          "2013-01-23T00:00:00",
          "2013-01-24T00:00:00",
          "2013-01-25T00:00:00",
          "2013-01-26T00:00:00",
          "2013-01-27T00:00:00",
          "2013-01-28T00:00:00",
          "2013-01-29T00:00:00",
          "2013-01-30T00:00:00",
          "2013-01-31T00:00:00",
          "2013-02-01T00:00:00",
          "2013-02-02T00:00:00",
          "2013-02-03T00:00:00",
          "2013-02-04T00:00:00",
          "2013-02-05T00:00:00",
          "2013-02-06T00:00:00",
          "2013-02-07T00:00:00",
          "2013-02-08T00:00:00",
          "2013-02-09T00:00:00",
          "2013-02-10T00:00:00",
          "2013-02-11T00:00:00",
          "2013-02-12T00:00:00",
          "2013-02-13T00:00:00",
          "2013-02-14T00:00:00",
          "2013-02-15T00:00:00",
          "2013-02-16T00:00:00",
          "2013-02-17T00:00:00",
          "2013-02-18T00:00:00",
          "2013-02-19T00:00:00",
          "2013-02-20T00:00:00",
          "2013-02-21T00:00:00",
          "2013-02-22T00:00:00",
          "2013-02-23T00:00:00",
          "2013-02-24T00:00:00",
          "2013-02-25T00:00:00",
          "2013-02-26T00:00:00",
          "2013-02-27T00:00:00",
          "2013-02-28T00:00:00",
          "2013-03-01T00:00:00",
          "2013-03-02T00:00:00",
          "2013-03-03T00:00:00",
          "2013-03-04T00:00:00",
          "2013-03-05T00:00:00",
          "2013-03-06T00:00:00",
          "2013-03-07T00:00:00",
          "2013-03-08T00:00:00",
          "2013-03-09T00:00:00",
          "2013-03-10T00:00:00",
          "2013-03-11T00:00:00",
          "2013-03-12T00:00:00",
          "2013-03-13T00:00:00",
          "2013-03-14T00:00:00",
          "2013-03-15T00:00:00",
          "2013-03-16T00:00:00",
          "2013-03-17T00:00:00",
          "2013-03-18T00:00:00",
          "2013-03-19T00:00:00",
          "2013-03-20T00:00:00",
          "2013-03-21T00:00:00",
          "2013-03-22T00:00:00",
          "2013-03-23T00:00:00",
          "2013-03-24T00:00:00",
          "2013-03-25T00:00:00",
          "2013-03-26T00:00:00",
          "2013-03-27T00:00:00",
          "2013-03-28T00:00:00",
          "2013-03-29T00:00:00",
          "2013-03-30T00:00:00",
          "2013-03-31T00:00:00",
          "2013-04-01T00:00:00",
          "2013-04-02T00:00:00",
          "2013-04-03T00:00:00",
          "2013-04-04T00:00:00",
          "2013-04-05T00:00:00",
          "2013-04-06T00:00:00",
          "2013-04-07T00:00:00",
          "2013-04-08T00:00:00",
          "2013-04-09T00:00:00",
          "2013-04-10T00:00:00",
          "2013-04-11T00:00:00",
          "2013-04-12T00:00:00",
          "2013-04-13T00:00:00",
          "2013-04-14T00:00:00",
          "2013-04-15T00:00:00",
          "2013-04-16T00:00:00",
          "2013-04-17T00:00:00",
          "2013-04-18T00:00:00",
          "2013-04-19T00:00:00",
          "2013-04-20T00:00:00",
          "2013-04-21T00:00:00",
          "2013-04-22T00:00:00",
          "2013-04-23T00:00:00",
          "2013-04-24T00:00:00",
          "2013-04-25T00:00:00",
          "2013-04-26T00:00:00",
          "2013-04-27T00:00:00",
          "2013-04-28T00:00:00",
          "2013-04-29T00:00:00",
          "2013-04-30T00:00:00",
          "2013-05-01T00:00:00",
          "2013-05-02T00:00:00",
          "2013-05-03T00:00:00",
          "2013-05-04T00:00:00",
          "2013-05-05T00:00:00",
          "2013-05-06T00:00:00",
          "2013-05-07T00:00:00",
          "2013-05-08T00:00:00",
          "2013-05-09T00:00:00",
          "2013-05-10T00:00:00",
          "2013-05-11T00:00:00",
          "2013-05-12T00:00:00",
          "2013-05-13T00:00:00",
          "2013-05-14T00:00:00",
          "2013-05-15T00:00:00",
          "2013-05-16T00:00:00",
          "2013-05-17T00:00:00",
          "2013-05-18T00:00:00",
          "2013-05-19T00:00:00",
          "2013-05-20T00:00:00",
          "2013-05-21T00:00:00",
          "2013-05-22T00:00:00",
          "2013-05-23T00:00:00",
          "2013-05-24T00:00:00",
          "2013-05-25T00:00:00",
          "2013-05-26T00:00:00",
          "2013-05-27T00:00:00",
          "2013-05-28T00:00:00",
          "2013-05-29T00:00:00",
          "2013-05-30T00:00:00",
          "2013-05-31T00:00:00",
          "2013-06-01T00:00:00",
          "2013-06-02T00:00:00",
          "2013-06-03T00:00:00",
          "2013-06-04T00:00:00",
          "2013-06-05T00:00:00",
          "2013-06-06T00:00:00",
          "2013-06-07T00:00:00",
          "2013-06-08T00:00:00",
          "2013-06-09T00:00:00",
          "2013-06-10T00:00:00",
          "2013-06-11T00:00:00",
          "2013-06-12T00:00:00",
          "2013-06-13T00:00:00",
          "2013-06-14T00:00:00",
          "2013-06-15T00:00:00",
          "2013-06-16T00:00:00",
          "2013-06-17T00:00:00",
          "2013-06-18T00:00:00",
          "2013-06-19T00:00:00",
          "2013-06-20T00:00:00",
          "2013-06-21T00:00:00",
          "2013-06-22T00:00:00",
          "2013-06-23T00:00:00",
          "2013-06-24T00:00:00",
          "2013-06-25T00:00:00",
          "2013-06-26T00:00:00",
          "2013-06-27T00:00:00",
          "2013-06-28T00:00:00",
          "2013-06-29T00:00:00",
          "2013-06-30T00:00:00",
          "2013-07-01T00:00:00",
          "2013-07-02T00:00:00",
          "2013-07-03T00:00:00",
          "2013-07-04T00:00:00",
          "2013-07-05T00:00:00",
          "2013-07-06T00:00:00",
          "2013-07-07T00:00:00",
          "2013-07-08T00:00:00",
          "2013-07-09T00:00:00",
          "2013-07-10T00:00:00",
          "2013-07-11T00:00:00",
          "2013-07-12T00:00:00",
          "2013-07-13T00:00:00",
          "2013-07-14T00:00:00",
          "2013-07-15T00:00:00",
          "2013-07-16T00:00:00",
          "2013-07-17T00:00:00",
          "2013-07-18T00:00:00",
          "2013-07-19T00:00:00",
          "2013-07-20T00:00:00",
          "2013-07-21T00:00:00",
          "2013-07-22T00:00:00",
          "2013-07-23T00:00:00",
          "2013-07-24T00:00:00",
          "2013-07-25T00:00:00",
          "2013-07-26T00:00:00",
          "2013-07-27T00:00:00",
          "2013-07-28T00:00:00",
          "2013-07-29T00:00:00",
          "2013-07-30T00:00:00",
          "2013-07-31T00:00:00",
          "2013-08-01T00:00:00",
          "2013-08-02T00:00:00",
          "2013-08-03T00:00:00",
          "2013-08-04T00:00:00",
          "2013-08-05T00:00:00",
          "2013-08-06T00:00:00",
          "2013-08-07T00:00:00",
          "2013-08-08T00:00:00",
          "2013-08-09T00:00:00",
          "2013-08-10T00:00:00",
          "2013-08-11T00:00:00",
          "2013-08-12T00:00:00",
          "2013-08-13T00:00:00",
          "2013-08-14T00:00:00",
          "2013-08-15T00:00:00",
          "2013-08-16T00:00:00",
          "2013-08-17T00:00:00",
          "2013-08-18T00:00:00",
          "2013-08-19T00:00:00",
          "2013-08-20T00:00:00",
          "2013-08-21T00:00:00",
          "2013-08-22T00:00:00",
          "2013-08-23T00:00:00",
          "2013-08-24T00:00:00",
          "2013-08-25T00:00:00",
          "2013-08-26T00:00:00",
          "2013-08-27T00:00:00",
          "2013-08-28T00:00:00",
          "2013-08-29T00:00:00",
          "2013-08-30T00:00:00",
          "2013-08-31T00:00:00",
          "2013-09-01T00:00:00",
          "2013-09-02T00:00:00",
          "2013-09-03T00:00:00",
          "2013-09-04T00:00:00",
          "2013-09-05T00:00:00",
          "2013-09-06T00:00:00",
          "2013-09-07T00:00:00",
          "2013-09-08T00:00:00",
          "2013-09-09T00:00:00",
          "2013-09-10T00:00:00",
          "2013-09-11T00:00:00",
          "2013-09-12T00:00:00",
          "2013-09-13T00:00:00",
          "2013-09-14T00:00:00",
          "2013-09-15T00:00:00",
          "2013-09-16T00:00:00",
          "2013-09-17T00:00:00",
          "2013-09-18T00:00:00",
          "2013-09-19T00:00:00",
          "2013-09-20T00:00:00",
          "2013-09-21T00:00:00",
          "2013-09-22T00:00:00",
          "2013-09-23T00:00:00",
          "2013-09-24T00:00:00",
          "2013-09-25T00:00:00",
          "2013-09-26T00:00:00",
          "2013-09-27T00:00:00",
          "2013-09-28T00:00:00",
          "2013-09-29T00:00:00",
          "2013-09-30T00:00:00",
          "2013-10-01T00:00:00",
          "2013-10-02T00:00:00",
          "2013-10-03T00:00:00",
          "2013-10-04T00:00:00",
          "2013-10-05T00:00:00",
          "2013-10-06T00:00:00",
          "2013-10-07T00:00:00",
          "2013-10-08T00:00:00",
          "2013-10-09T00:00:00",
          "2013-10-10T00:00:00",
          "2013-10-11T00:00:00",
          "2013-10-12T00:00:00",
          "2013-10-13T00:00:00",
          "2013-10-14T00:00:00",
          "2013-10-15T00:00:00",
          "2013-10-16T00:00:00",
          "2013-10-17T00:00:00",
          "2013-10-18T00:00:00",
          "2013-10-19T00:00:00",
          "2013-10-20T00:00:00",
          "2013-10-21T00:00:00",
          "2013-10-22T00:00:00",
          "2013-10-23T00:00:00",
          "2013-10-24T00:00:00",
          "2013-10-25T00:00:00",
          "2013-10-26T00:00:00",
          "2013-10-27T00:00:00",
          "2013-10-28T00:00:00",
          "2013-10-29T00:00:00",
          "2013-10-30T00:00:00",
          "2013-10-31T00:00:00",
          "2013-11-01T00:00:00",
          "2013-11-02T00:00:00",
          "2013-11-03T00:00:00",
          "2013-11-04T00:00:00",
          "2013-11-05T00:00:00",
          "2013-11-06T00:00:00",
          "2013-11-07T00:00:00",
          "2013-11-08T00:00:00",
          "2013-11-09T00:00:00",
          "2013-11-10T00:00:00",
          "2013-11-11T00:00:00",
          "2013-11-12T00:00:00",
          "2013-11-13T00:00:00",
          "2013-11-14T00:00:00",
          "2013-11-15T00:00:00",
          "2013-11-16T00:00:00",
          "2013-11-17T00:00:00",
          "2013-11-18T00:00:00",
          "2013-11-19T00:00:00",
          "2013-11-20T00:00:00",
          "2013-11-21T00:00:00",
          "2013-11-22T00:00:00",
          "2013-11-23T00:00:00",
          "2013-11-24T00:00:00",
          "2013-11-25T00:00:00",
          "2013-11-26T00:00:00",
          "2013-11-27T00:00:00",
          "2013-11-28T00:00:00",
          "2013-11-29T00:00:00",
          "2013-11-30T00:00:00",
          "2013-12-01T00:00:00",
          "2013-12-02T00:00:00",
          "2013-12-03T00:00:00",
          "2013-12-04T00:00:00",
          "2013-12-05T00:00:00",
          "2013-12-06T00:00:00",
          "2013-12-07T00:00:00",
          "2013-12-08T00:00:00",
          "2013-12-09T00:00:00",
          "2013-12-10T00:00:00",
          "2013-12-11T00:00:00",
          "2013-12-12T00:00:00",
          "2013-12-13T00:00:00",
          "2013-12-14T00:00:00",
          "2013-12-15T00:00:00",
          "2013-12-16T00:00:00",
          "2013-12-17T00:00:00",
          "2013-12-18T00:00:00",
          "2013-12-19T00:00:00",
          "2013-12-20T00:00:00",
          "2013-12-21T00:00:00",
          "2013-12-22T00:00:00",
          "2013-12-23T00:00:00",
          "2013-12-24T00:00:00",
          "2013-12-25T00:00:00",
          "2013-12-26T00:00:00",
          "2013-12-27T00:00:00",
          "2013-12-28T00:00:00",
          "2013-12-29T00:00:00",
          "2013-12-30T00:00:00",
          "2013-12-31T00:00:00",
          "2014-01-01T00:00:00",
          "2014-01-02T00:00:00",
          "2014-01-03T00:00:00",
          "2014-01-04T00:00:00",
          "2014-01-05T00:00:00",
          "2014-01-06T00:00:00",
          "2014-01-07T00:00:00",
          "2014-01-08T00:00:00",
          "2014-01-09T00:00:00",
          "2014-01-10T00:00:00",
          "2014-01-11T00:00:00",
          "2014-01-12T00:00:00",
          "2014-01-13T00:00:00",
          "2014-01-14T00:00:00",
          "2014-01-15T00:00:00",
          "2014-01-16T00:00:00",
          "2014-01-17T00:00:00",
          "2014-01-18T00:00:00",
          "2014-01-19T00:00:00",
          "2014-01-20T00:00:00",
          "2014-01-21T00:00:00",
          "2014-01-22T00:00:00",
          "2014-01-23T00:00:00",
          "2014-01-24T00:00:00",
          "2014-01-25T00:00:00",
          "2014-01-26T00:00:00",
          "2014-01-27T00:00:00",
          "2014-01-28T00:00:00",
          "2014-01-29T00:00:00",
          "2014-01-30T00:00:00",
          "2014-01-31T00:00:00",
          "2014-02-01T00:00:00",
          "2014-02-02T00:00:00",
          "2014-02-03T00:00:00",
          "2014-02-04T00:00:00",
          "2014-02-05T00:00:00",
          "2014-02-06T00:00:00",
          "2014-02-07T00:00:00",
          "2014-02-08T00:00:00",
          "2014-02-09T00:00:00",
          "2014-02-10T00:00:00",
          "2014-02-11T00:00:00",
          "2014-02-12T00:00:00",
          "2014-02-13T00:00:00",
          "2014-02-14T00:00:00",
          "2014-02-15T00:00:00",
          "2014-02-16T00:00:00",
          "2014-02-17T00:00:00",
          "2014-02-18T00:00:00",
          "2014-02-19T00:00:00",
          "2014-02-20T00:00:00",
          "2014-02-21T00:00:00",
          "2014-02-22T00:00:00",
          "2014-02-23T00:00:00",
          "2014-02-24T00:00:00",
          "2014-02-25T00:00:00",
          "2014-02-26T00:00:00",
          "2014-02-27T00:00:00",
          "2014-02-28T00:00:00",
          "2014-03-01T00:00:00",
          "2014-03-02T00:00:00",
          "2014-03-03T00:00:00",
          "2014-03-04T00:00:00",
          "2014-03-05T00:00:00",
          "2014-03-06T00:00:00",
          "2014-03-07T00:00:00",
          "2014-03-08T00:00:00",
          "2014-03-09T00:00:00",
          "2014-03-10T00:00:00",
          "2014-03-11T00:00:00",
          "2014-03-12T00:00:00",
          "2014-03-13T00:00:00",
          "2014-03-14T00:00:00",
          "2014-03-15T00:00:00",
          "2014-03-16T00:00:00",
          "2014-03-17T00:00:00",
          "2014-03-18T00:00:00",
          "2014-03-19T00:00:00",
          "2014-03-20T00:00:00",
          "2014-03-21T00:00:00",
          "2014-03-22T00:00:00",
          "2014-03-23T00:00:00",
          "2014-03-24T00:00:00",
          "2014-03-25T00:00:00",
          "2014-03-26T00:00:00",
          "2014-03-27T00:00:00",
          "2014-03-28T00:00:00",
          "2014-03-29T00:00:00",
          "2014-03-30T00:00:00",
          "2014-03-31T00:00:00",
          "2014-04-01T00:00:00",
          "2014-04-02T00:00:00",
          "2014-04-03T00:00:00",
          "2014-04-04T00:00:00",
          "2014-04-05T00:00:00",
          "2014-04-06T00:00:00",
          "2014-04-07T00:00:00",
          "2014-04-08T00:00:00",
          "2014-04-09T00:00:00",
          "2014-04-10T00:00:00",
          "2014-04-11T00:00:00",
          "2014-04-12T00:00:00",
          "2014-04-13T00:00:00",
          "2014-04-14T00:00:00",
          "2014-04-15T00:00:00",
          "2014-04-16T00:00:00",
          "2014-04-17T00:00:00",
          "2014-04-18T00:00:00",
          "2014-04-19T00:00:00",
          "2014-04-20T00:00:00",
          "2014-04-21T00:00:00",
          "2014-04-22T00:00:00",
          "2014-04-23T00:00:00",
          "2014-04-24T00:00:00",
          "2014-04-25T00:00:00",
          "2014-04-26T00:00:00",
          "2014-04-27T00:00:00",
          "2014-04-28T00:00:00",
          "2014-04-29T00:00:00",
          "2014-04-30T00:00:00",
          "2014-05-01T00:00:00",
          "2014-05-02T00:00:00",
          "2014-05-03T00:00:00",
          "2014-05-04T00:00:00",
          "2014-05-05T00:00:00",
          "2014-05-06T00:00:00",
          "2014-05-07T00:00:00",
          "2014-05-08T00:00:00",
          "2014-05-09T00:00:00",
          "2014-05-10T00:00:00",
          "2014-05-11T00:00:00",
          "2014-05-12T00:00:00",
          "2014-05-13T00:00:00",
          "2014-05-14T00:00:00",
          "2014-05-15T00:00:00",
          "2014-05-16T00:00:00",
          "2014-05-17T00:00:00",
          "2014-05-18T00:00:00",
          "2014-05-19T00:00:00",
          "2014-05-20T00:00:00",
          "2014-05-21T00:00:00",
          "2014-05-22T00:00:00",
          "2014-05-23T00:00:00",
          "2014-05-24T00:00:00",
          "2014-05-25T00:00:00",
          "2014-05-26T00:00:00",
          "2014-05-27T00:00:00",
          "2014-05-28T00:00:00",
          "2014-05-29T00:00:00",
          "2014-05-30T00:00:00",
          "2014-05-31T00:00:00",
          "2014-06-01T00:00:00",
          "2014-06-02T00:00:00",
          "2014-06-03T00:00:00",
          "2014-06-04T00:00:00",
          "2014-06-05T00:00:00",
          "2014-06-06T00:00:00",
          "2014-06-07T00:00:00",
          "2014-06-08T00:00:00",
          "2014-06-09T00:00:00",
          "2014-06-10T00:00:00",
          "2014-06-11T00:00:00",
          "2014-06-12T00:00:00",
          "2014-06-13T00:00:00",
          "2014-06-14T00:00:00",
          "2014-06-15T00:00:00",
          "2014-06-16T00:00:00",
          "2014-06-17T00:00:00",
          "2014-06-18T00:00:00",
          "2014-06-19T00:00:00",
          "2014-06-20T00:00:00",
          "2014-06-21T00:00:00",
          "2014-06-22T00:00:00",
          "2014-06-23T00:00:00",
          "2014-06-24T00:00:00",
          "2014-06-25T00:00:00",
          "2014-06-26T00:00:00",
          "2014-06-27T00:00:00",
          "2014-06-28T00:00:00",
          "2014-06-29T00:00:00",
          "2014-06-30T00:00:00",
          "2014-07-01T00:00:00",
          "2014-07-02T00:00:00",
          "2014-07-03T00:00:00",
          "2014-07-04T00:00:00",
          "2014-07-05T00:00:00",
          "2014-07-06T00:00:00",
          "2014-07-07T00:00:00",
          "2014-07-08T00:00:00",
          "2014-07-09T00:00:00",
          "2014-07-10T00:00:00",
          "2014-07-11T00:00:00",
          "2014-07-12T00:00:00",
          "2014-07-13T00:00:00",
          "2014-07-14T00:00:00",
          "2014-07-15T00:00:00",
          "2014-07-16T00:00:00",
          "2014-07-17T00:00:00",
          "2014-07-18T00:00:00",
          "2014-07-19T00:00:00",
          "2014-07-20T00:00:00",
          "2014-07-21T00:00:00",
          "2014-07-22T00:00:00",
          "2014-07-23T00:00:00",
          "2014-07-24T00:00:00",
          "2014-07-25T00:00:00",
          "2014-07-26T00:00:00",
          "2014-07-27T00:00:00",
          "2014-07-28T00:00:00",
          "2014-07-29T00:00:00",
          "2014-07-30T00:00:00",
          "2014-07-31T00:00:00"
         ],
         "y": [
          124735.81843788216,
          5706822.248183608,
          5233531.25733189,
          5629986.608186491,
          5017485.459488705,
          137259.5724197068,
          9109997.409032293,
          7478556.752038064,
          6628907.4244379625,
          6545393.732822979,
          6743380.43869596,
          5136513.876673669,
          145552.73322984218,
          5040342.978770951,
          4517964.019559501,
          4392145.994614796,
          4548254.406200195,
          5015061.186329363,
          5053268.241460064,
          138523.3035055796,
          7362654.615543649,
          6949984.041355272,
          6495231.976403603,
          6377925.438301063,
          6322903.253316409,
          4781499.225112119,
          110990.21183700865,
          4757106.825543364,
          4664649.657619997,
          4907621.499768342,
          5776811.372674623,
          6057432.868354722,
          5592230.871698503,
          132589.6746910251,
          8730178.681993835,
          7578926.667492891,
          6769395.795771171,
          6326613.450499995,
          6839060.722481865,
          5115339.142815104,
          127285.20874129358,
          4838549.239427702,
          4679903.837694519,
          5033233.77560102,
          5398534.060761473,
          5231383.405504397,
          5160319.5549195595,
          135333.76390103475,
          8996734.916086543,
          6726944.596523361,
          6604776.811029608,
          6338252.459791416,
          6452114.963466695,
          4797538.957323591,
          137284.01838196474,
          4746660.6595729,
          4755940.402606863,
          5071665.122669793,
          5795615.205044825,
          5951593.551141529,
          5618933.580755299,
          168778.2249887838,
          9256861.201008167,
          7287288.211305744,
          6755349.586668729,
          6647720.168875714,
          6778695.761619814,
          5021137.3011816805,
          115682.24077539342,
          5064393.455033141,
          4496351.49598073,
          4729944.866892156,
          4966955.602669648,
          5505240.908618317,
          5357610.200867531,
          146641.9743767376,
          8273105.2238288,
          6961964.693818392,
          6367771.717301843,
          6532106.79912537,
          6679978.482280027,
          5163976.211530311,
          175102.19912278288,
          8688548.326509003,
          7898901.113034891,
          7847805.482938701,
          9470452.509118197,
          208366.0583097642,
          7696093.458537252,
          162413.09907644842,
          226925.42067113865,
          5945963.515474861,
          5373163.604735067,
          5370320.115936449,
          5456366.225602909,
          5028849.093958632,
          182224.57164347472,
          8372426.947776568,
          6973983.8749949,
          6499479.0538970735,
          6364105.847064441,
          6664541.563759126,
          5138016.5769957,
          157388.22586314892,
          4783768.507914038,
          4745587.389616086,
          4689550.277823348,
          4831435.033877481,
          5383511.933316569,
          5027709.805660612,
          146110.55325810082,
          7952207.116279413,
          6561299.638361781,
          6069436.047259054,
          5921029.853621513,
          6249092.969176299,
          4998068.444395515,
          181633.5952632252,
          8270766.1937366305,
          8851289.627552353,
          170849.1102018203,
          8235088.640878479,
          7526468.775655122,
          5460616.246197416,
          184694.74721439695,
          5837167.7362218425,
          5559504.119361371,
          6346138.968408224,
          182885.0596251008,
          6945067.590725418,
          5592107.975848769,
          190072.23024936,
          8277232.457499586,
          7243668.447567459,
          6569031.007128416,
          6626941.68883415,
          6681375.968492362,
          5234356.990807307,
          171462.18453457186,
          208849.09068891554,
          5883664.453740961,
          5175391.25833914,
          5124790.865277501,
          5439903.621794181,
          5031369.540021629,
          166656.16425371016,
          8513659.628958624,
          7042654.987705956,
          7575353.13057105,
          2983556.078590286,
          9071789.011298686,
          5747644.926861265,
          221844.10673231917,
          8563767.46461479,
          7268195.6821792815,
          6625856.783572673,
          6426981.975077981,
          6805917.412513817,
          4987159.091396608,
          198390.43953126954,
          5574496.96911089,
          5311919.0096587,
          5194891.654649199,
          5151137.839086415,
          5744437.192112592,
          5119191.7632569,
          193488.95131146093,
          8503452.834683044,
          6870229.9685705025,
          6367711.546440577,
          6250302.283786093,
          6955692.5754279215,
          5131486.218673309,
          172133.92897820313,
          5435898.982953126,
          4899603.4271952845,
          4998665.520860031,
          5338841.815329213,
          6520681.599100067,
          5685103.7130715335,
          191725.23908394354,
          9158638.909815222,
          7547502.16455729,
          6998958.405746481,
          6957217.306643188,
          6917912.831908932,
          4949949.919981713,
          221217.39901641879,
          5678211.703701359,
          5077252.502056075,
          5253160.705679662,
          5414933.200430403,
          5576366.430195384,
          5025200.012057312,
          211892.8173309709,
          9605616.930040056,
          7665599.109879849,
          7006862.900654268,
          6809241.172873546,
          6868726.138946213,
          4901986.743249965,
          195035.8350693134,
          5235952.960554589,
          4930709.908766475,
          4897100.832604132,
          5040048.5726586385,
          5223861.110088779,
          4714300.341408786,
          224737.63246101546,
          9415190.86324778,
          8398140.56307854,
          8551812.25095781,
          7384976.019169996,
          6795406.821922644,
          5167243.533609348,
          213002.82009296503,
          5974950.747050594,
          5246401.746759567,
          5327856.418159753,
          5297195.449908824,
          5538830.179438273,
          4908224.0399167165,
          182822.40545197838,
          9224096.287810462,
          7579237.76665761,
          6991772.161679244,
          5738812.559847966,
          6638276.957337336,
          4773731.825862048,
          157100.77776687194,
          5400682.359121861,
          5076036.818334246,
          4716529.454151168,
          4766574.211584313,
          5017804.19409995,
          4565726.302315857,
          183146.17571166088,
          8770875.51614121,
          6935548.134805038,
          6445894.434910019,
          6585122.339087912,
          7554254.295172844,
          5330926.593611042,
          225706.19836794323,
          5613819.075243306,
          5394774.43516735,
          5112087.0186115755,
          4996208.182806106,
          5149899.236319816,
          4844270.847237583,
          184858.95084884364,
          9104962.158342179,
          7439203.500026065,
          6988588.656405846,
          6636253.604105235,
          6923966.537603598,
          4930292.049770013,
          207341.51552940352,
          5293444.837505259,
          4815462.783172531,
          4659192.422648706,
          4645738.794057568,
          5070538.94734116,
          4782843.001853985,
          193814.384649952,
          7836587.389629637,
          6641401.426477546,
          6234023.775638748,
          5996836.639638415,
          6918559.3800041,
          5215808.254285525,
          176243.3769760728,
          6466101.48853258,
          5681710.503589318,
          5836508.864852985,
          222152.5056873605,
          6481341.814202596,
          5144104.441142646,
          204288.64190901638,
          9432726.825956509,
          7422814.648690345,
          6758284.595148588,
          6451380.832536879,
          6651729.865817287,
          5241361.79368229,
          137819.0413733142,
          5441938.873035667,
          5028178.593102041,
          4869611.69572904,
          4983369.115403252,
          5254544.998251751,
          4914594.376871989,
          185290.4118945763,
          8079922.536216273,
          6627228.363789328,
          6185061.320798364,
          6121521.369100292,
          6380781.811017575,
          4821701.157222221,
          152913.73489942314,
          4890010.720752607,
          5128078.683854029,
          5792791.395171823,
          5592745.555704844,
          3413814.9975822065,
          6140742.279706071,
          154227.4915643718,
          8595075.375094999,
          7685872.916325133,
          6789804.17244763,
          6829024.844581574,
          6939118.753178516,
          5454099.60488831,
          165342.1809288186,
          5384748.4594915155,
          5048642.46632425,
          4931674.684833852,
          5147472.091280287,
          5428768.833811317,
          5486076.997805379,
          192550.69690509644,
          8918803.487131612,
          7193734.068034378,
          6193198.052377036,
          6746809.380938192,
          6947402.047203603,
          5454243.083010359,
          170774.9307306012,
          5735563.181650442,
          5526386.123554625,
          5636418.080761183,
          6025616.623906811,
          7198100.010920921,
          7303290.454102973,
          209110.25790175458,
          10522539.855739417,
          9062295.68714269,
          8366977.692989062,
          8729935.371204592,
          7139672.783867489,
          5993483.929292471,
          139744.66226728968,
          6409014.193905748,
          5968113.046962297,
          6101311.111472262,
          6234103.346394653,
          6535732.544954864,
          6665142.680975204,
          184461.67517572932,
          12888426.572891511,
          11017020.547663782,
          10119819.620873382,
          9976763.516520008,
          10271568.605988164,
          8438051.853410438,
          194701.99366778572,
          12090284.357327627,
          4445689.314091063,
          208507.8795295306,
          182016.91868201012,
          6807528.701777555,
          5644719.809119339,
          157633.9930747081,
          8967455.57295132,
          3853427.85387249,
          140586.52319257008,
          5844099.201889108,
          5785996.586272383,
          5289894.140683778,
          140899.9789369254,
          7072950.36167559,
          8506032.689675884,
          7106649.387420855,
          6699247.676940437,
          7028754.387862443,
          5194728.533676221,
          134994.27794040588,
          4949030.516442359,
          4655945.450744767,
          4640082.152093096,
          4782783.435243674,
          5166055.092139185,
          5181651.134226211,
          135817.8951194569,
          8897912.362278527,
          7089600.101285605,
          6564844.341197377,
          6341260.367578482,
          6506728.553565894,
          4755722.058342397,
          131296.52911613727,
          4660324.443769004,
          4826905.200539206,
          4798137.049314721,
          5315132.23767918,
          6646183.280107805,
          5702528.6013608305,
          153820.51085669067,
          9929049.650189832,
          7910965.094905231,
          6945417.094684034,
          6912170.259610486,
          6541357.501711896,
          5201854.442407247,
          115240.21221573789,
          5332081.931710789,
          4905913.461675133,
          4912965.35807061,
          5159312.929736699,
          5782533.109202486,
          5220588.680512623,
          154497.82403061714,
          8768136.874973932,
          7324709.519137958,
          6607552.153057702,
          6272944.915117988,
          6604267.4797068015,
          5044682.164492976,
          145136.49159127302,
          4895172.576218893,
          4811231.53958797,
          4839811.6958842985,
          4891044.119779973,
          6510634.413714058,
          5852495.170838617,
          167451.47501674635,
          8619353.750721043,
          7632165.735951137,
          6993832.494047604,
          6759625.257054708,
          6735590.677067434,
          5111711.953778832,
          165648.34837344868,
          5129443.185197783,
          4877199.574243959,
          4829391.426476007,
          4943827.763966238,
          5469765.296651178,
          5330539.60996948,
          177599.37685180243,
          8520077.994801667,
          7090851.575490565,
          6460932.462100278,
          6072301.791207372,
          6452937.275848114,
          5170871.075280572,
          153213.78653948868,
          5373185.739252501,
          5007976.565732841,
          4902466.409514406,
          4990880.983693998,
          5956469.796074958,
          5265855.610076869,
          176320.71212160698,
          10062652.307033906,
          7644961.923120936,
          6838259.793901014,
          7012019.981377233,
          6979212.331080476,
          5492937.286915935,
          188296.57804552984,
          5410569.355786886,
          5261946.621123324,
          5482965.921743169,
          5513929.708160111,
          5757320.7069946,
          5292698.789331409,
          157778.2534867661,
          9745686.032107165,
          8790714.272569846,
          8408117.255212,
          8598307.529385071,
          203103.35281703464,
          6874216.890691239,
          197668.18242275767,
          232317.07178284123,
          5777666.751211974,
          4945216.061290303,
          5051678.730497192,
          5211529.374523937,
          4962150.174169362,
          158277.14785091125,
          8734487.160541678,
          7826741.445471118,
          9059715.456519634,
          219362.53394908615,
          9325953.316298347,
          5758596.691646399,
          188857.25334663322,
          8869620.525779054,
          7794778.763470357,
          7111789.35504866,
          7037113.783597865,
          7374966.0510327425,
          5739290.941875718,
          184939.15280118765,
          5279315.549423688,
          5140261.137345282,
          5099895.188882418,
          5110029.10438851,
          5447723.27572343,
          5020700.311738795,
          144401.06304350425,
          8500388.680252476,
          7027621.872816376,
          6407837.542915962,
          6313671.872826211,
          6731633.225233427,
          5153980.531740837,
          145978.80495920705,
          5405696.8451074585,
          5279303.330349034,
          6431134.038244653,
          248093.86753096143,
          8050650.708971189,
          5858534.927405413,
          223076.01976470381,
          9507645.35444353,
          7790038.181828951,
          7014001.3611209635,
          7248160.728578135,
          7137504.525783716,
          5369257.129003956,
          188770.2428026619,
          252375.75610047262,
          6325135.15258766,
          5450604.140430439,
          5659562.536889759,
          5887440.998940525,
          5499239.84075551,
          192656.32005119536,
          8705479.055860303,
          7483417.981857345,
          7349886.732350934,
          2623361.2179334904,
          7949878.892268546,
          5101227.693850557,
          174106.93375769097,
          5412189.504610758,
          5004480.020520975,
          4933543.4193806425,
          4895095.819491646,
          5765616.868458472,
          5661797.46835852,
          208596.57256191495,
          11065130.793742333,
          6834724.0825242195,
          6318342.140848665,
          5954499.565650892,
          5488147.606946794,
          4438539.623257584,
          193267.7885286637,
          5005092.933049288,
          4223226.135273076,
          4233509.4554693885,
          4685561.227935244,
          4666117.192287114,
          4301018.684988119,
          215681.0472049508,
          7266826.6016616225,
          6353929.740497603,
          5999818.296115118,
          5701220.556454314,
          5666283.949290132,
          3887859.546862777,
          201671.95664520655,
          4684751.135122705,
          4213803.460553806,
          4158897.1062933016,
          4242566.427203743,
          4518348.83912657,
          3992174.012847268,
          193319.27309689467,
          7183312.15191008,
          6206528.829607323,
          6375521.184989214,
          6799016.518086941
         ]
        }
       ],
       "layout": {
        "template": {
         "data": {
          "bar": [
           {
            "error_x": {
             "color": "#2a3f5f"
            },
            "error_y": {
             "color": "#2a3f5f"
            },
            "marker": {
             "line": {
              "color": "#E5ECF6",
              "width": 0.5
             },
             "pattern": {
              "fillmode": "overlay",
              "size": 10,
              "solidity": 0.2
             }
            },
            "type": "bar"
           }
          ],
          "barpolar": [
           {
            "marker": {
             "line": {
              "color": "#E5ECF6",
              "width": 0.5
             },
             "pattern": {
              "fillmode": "overlay",
              "size": 10,
              "solidity": 0.2
             }
            },
            "type": "barpolar"
           }
          ],
          "carpet": [
           {
            "aaxis": {
             "endlinecolor": "#2a3f5f",
             "gridcolor": "white",
             "linecolor": "white",
             "minorgridcolor": "white",
             "startlinecolor": "#2a3f5f"
            },
            "baxis": {
             "endlinecolor": "#2a3f5f",
             "gridcolor": "white",
             "linecolor": "white",
             "minorgridcolor": "white",
             "startlinecolor": "#2a3f5f"
            },
            "type": "carpet"
           }
          ],
          "choropleth": [
           {
            "colorbar": {
             "outlinewidth": 0,
             "ticks": ""
            },
            "type": "choropleth"
           }
          ],
          "contour": [
           {
            "colorbar": {
             "outlinewidth": 0,
             "ticks": ""
            },
            "colorscale": [
             [
              0,
              "#0d0887"
             ],
             [
              0.1111111111111111,
              "#46039f"
             ],
             [
              0.2222222222222222,
              "#7201a8"
             ],
             [
              0.3333333333333333,
              "#9c179e"
             ],
             [
              0.4444444444444444,
              "#bd3786"
             ],
             [
              0.5555555555555556,
              "#d8576b"
             ],
             [
              0.6666666666666666,
              "#ed7953"
             ],
             [
              0.7777777777777778,
              "#fb9f3a"
             ],
             [
              0.8888888888888888,
              "#fdca26"
             ],
             [
              1,
              "#f0f921"
             ]
            ],
            "type": "contour"
           }
          ],
          "contourcarpet": [
           {
            "colorbar": {
             "outlinewidth": 0,
             "ticks": ""
            },
            "type": "contourcarpet"
           }
          ],
          "heatmap": [
           {
            "colorbar": {
             "outlinewidth": 0,
             "ticks": ""
            },
            "colorscale": [
             [
              0,
              "#0d0887"
             ],
             [
              0.1111111111111111,
              "#46039f"
             ],
             [
              0.2222222222222222,
              "#7201a8"
             ],
             [
              0.3333333333333333,
              "#9c179e"
             ],
             [
              0.4444444444444444,
              "#bd3786"
             ],
             [
              0.5555555555555556,
              "#d8576b"
             ],
             [
              0.6666666666666666,
              "#ed7953"
             ],
             [
              0.7777777777777778,
              "#fb9f3a"
             ],
             [
              0.8888888888888888,
              "#fdca26"
             ],
             [
              1,
              "#f0f921"
             ]
            ],
            "type": "heatmap"
           }
          ],
          "heatmapgl": [
           {
            "colorbar": {
             "outlinewidth": 0,
             "ticks": ""
            },
            "colorscale": [
             [
              0,
              "#0d0887"
             ],
             [
              0.1111111111111111,
              "#46039f"
             ],
             [
              0.2222222222222222,
              "#7201a8"
             ],
             [
              0.3333333333333333,
              "#9c179e"
             ],
             [
              0.4444444444444444,
              "#bd3786"
             ],
             [
              0.5555555555555556,
              "#d8576b"
             ],
             [
              0.6666666666666666,
              "#ed7953"
             ],
             [
              0.7777777777777778,
              "#fb9f3a"
             ],
             [
              0.8888888888888888,
              "#fdca26"
             ],
             [
              1,
              "#f0f921"
             ]
            ],
            "type": "heatmapgl"
           }
          ],
          "histogram": [
           {
            "marker": {
             "pattern": {
              "fillmode": "overlay",
              "size": 10,
              "solidity": 0.2
             }
            },
            "type": "histogram"
           }
          ],
          "histogram2d": [
           {
            "colorbar": {
             "outlinewidth": 0,
             "ticks": ""
            },
            "colorscale": [
             [
              0,
              "#0d0887"
             ],
             [
              0.1111111111111111,
              "#46039f"
             ],
             [
              0.2222222222222222,
              "#7201a8"
             ],
             [
              0.3333333333333333,
              "#9c179e"
             ],
             [
              0.4444444444444444,
              "#bd3786"
             ],
             [
              0.5555555555555556,
              "#d8576b"
             ],
             [
              0.6666666666666666,
              "#ed7953"
             ],
             [
              0.7777777777777778,
              "#fb9f3a"
             ],
             [
              0.8888888888888888,
              "#fdca26"
             ],
             [
              1,
              "#f0f921"
             ]
            ],
            "type": "histogram2d"
           }
          ],
          "histogram2dcontour": [
           {
            "colorbar": {
             "outlinewidth": 0,
             "ticks": ""
            },
            "colorscale": [
             [
              0,
              "#0d0887"
             ],
             [
              0.1111111111111111,
              "#46039f"
             ],
             [
              0.2222222222222222,
              "#7201a8"
             ],
             [
              0.3333333333333333,
              "#9c179e"
             ],
             [
              0.4444444444444444,
              "#bd3786"
             ],
             [
              0.5555555555555556,
              "#d8576b"
             ],
             [
              0.6666666666666666,
              "#ed7953"
             ],
             [
              0.7777777777777778,
              "#fb9f3a"
             ],
             [
              0.8888888888888888,
              "#fdca26"
             ],
             [
              1,
              "#f0f921"
             ]
            ],
            "type": "histogram2dcontour"
           }
          ],
          "mesh3d": [
           {
            "colorbar": {
             "outlinewidth": 0,
             "ticks": ""
            },
            "type": "mesh3d"
           }
          ],
          "parcoords": [
           {
            "line": {
             "colorbar": {
              "outlinewidth": 0,
              "ticks": ""
             }
            },
            "type": "parcoords"
           }
          ],
          "pie": [
           {
            "automargin": true,
            "type": "pie"
           }
          ],
          "scatter": [
           {
            "marker": {
             "colorbar": {
              "outlinewidth": 0,
              "ticks": ""
             }
            },
            "type": "scatter"
           }
          ],
          "scatter3d": [
           {
            "line": {
             "colorbar": {
              "outlinewidth": 0,
              "ticks": ""
             }
            },
            "marker": {
             "colorbar": {
              "outlinewidth": 0,
              "ticks": ""
             }
            },
            "type": "scatter3d"
           }
          ],
          "scattercarpet": [
           {
            "marker": {
             "colorbar": {
              "outlinewidth": 0,
              "ticks": ""
             }
            },
            "type": "scattercarpet"
           }
          ],
          "scattergeo": [
           {
            "marker": {
             "colorbar": {
              "outlinewidth": 0,
              "ticks": ""
             }
            },
            "type": "scattergeo"
           }
          ],
          "scattergl": [
           {
            "marker": {
             "colorbar": {
              "outlinewidth": 0,
              "ticks": ""
             }
            },
            "type": "scattergl"
           }
          ],
          "scattermapbox": [
           {
            "marker": {
             "colorbar": {
              "outlinewidth": 0,
              "ticks": ""
             }
            },
            "type": "scattermapbox"
           }
          ],
          "scatterpolar": [
           {
            "marker": {
             "colorbar": {
              "outlinewidth": 0,
              "ticks": ""
             }
            },
            "type": "scatterpolar"
           }
          ],
          "scatterpolargl": [
           {
            "marker": {
             "colorbar": {
              "outlinewidth": 0,
              "ticks": ""
             }
            },
            "type": "scatterpolargl"
           }
          ],
          "scatterternary": [
           {
            "marker": {
             "colorbar": {
              "outlinewidth": 0,
              "ticks": ""
             }
            },
            "type": "scatterternary"
           }
          ],
          "surface": [
           {
            "colorbar": {
             "outlinewidth": 0,
             "ticks": ""
            },
            "colorscale": [
             [
              0,
              "#0d0887"
             ],
             [
              0.1111111111111111,
              "#46039f"
             ],
             [
              0.2222222222222222,
              "#7201a8"
             ],
             [
              0.3333333333333333,
              "#9c179e"
             ],
             [
              0.4444444444444444,
              "#bd3786"
             ],
             [
              0.5555555555555556,
              "#d8576b"
             ],
             [
              0.6666666666666666,
              "#ed7953"
             ],
             [
              0.7777777777777778,
              "#fb9f3a"
             ],
             [
              0.8888888888888888,
              "#fdca26"
             ],
             [
              1,
              "#f0f921"
             ]
            ],
            "type": "surface"
           }
          ],
          "table": [
           {
            "cells": {
             "fill": {
              "color": "#EBF0F8"
             },
             "line": {
              "color": "white"
             }
            },
            "header": {
             "fill": {
              "color": "#C8D4E3"
             },
             "line": {
              "color": "white"
             }
            },
            "type": "table"
           }
          ]
         },
         "layout": {
          "annotationdefaults": {
           "arrowcolor": "#2a3f5f",
           "arrowhead": 0,
           "arrowwidth": 1
          },
          "autotypenumbers": "strict",
          "coloraxis": {
           "colorbar": {
            "outlinewidth": 0,
            "ticks": ""
           }
          },
          "colorscale": {
           "diverging": [
            [
             0,
             "#8e0152"
            ],
            [
             0.1,
             "#c51b7d"
            ],
            [
             0.2,
             "#de77ae"
            ],
            [
             0.3,
             "#f1b6da"
            ],
            [
             0.4,
             "#fde0ef"
            ],
            [
             0.5,
             "#f7f7f7"
            ],
            [
             0.6,
             "#e6f5d0"
            ],
            [
             0.7,
             "#b8e186"
            ],
            [
             0.8,
             "#7fbc41"
            ],
            [
             0.9,
             "#4d9221"
            ],
            [
             1,
             "#276419"
            ]
           ],
           "sequential": [
            [
             0,
             "#0d0887"
            ],
            [
             0.1111111111111111,
             "#46039f"
            ],
            [
             0.2222222222222222,
             "#7201a8"
            ],
            [
             0.3333333333333333,
             "#9c179e"
            ],
            [
             0.4444444444444444,
             "#bd3786"
            ],
            [
             0.5555555555555556,
             "#d8576b"
            ],
            [
             0.6666666666666666,
             "#ed7953"
            ],
            [
             0.7777777777777778,
             "#fb9f3a"
            ],
            [
             0.8888888888888888,
             "#fdca26"
            ],
            [
             1,
             "#f0f921"
            ]
           ],
           "sequentialminus": [
            [
             0,
             "#0d0887"
            ],
            [
             0.1111111111111111,
             "#46039f"
            ],
            [
             0.2222222222222222,
             "#7201a8"
            ],
            [
             0.3333333333333333,
             "#9c179e"
            ],
            [
             0.4444444444444444,
             "#bd3786"
            ],
            [
             0.5555555555555556,
             "#d8576b"
            ],
            [
             0.6666666666666666,
             "#ed7953"
            ],
            [
             0.7777777777777778,
             "#fb9f3a"
            ],
            [
             0.8888888888888888,
             "#fdca26"
            ],
            [
             1,
             "#f0f921"
            ]
           ]
          },
          "colorway": [
           "#636efa",
           "#EF553B",
           "#00cc96",
           "#ab63fa",
           "#FFA15A",
           "#19d3f3",
           "#FF6692",
           "#B6E880",
           "#FF97FF",
           "#FECB52"
          ],
          "font": {
           "color": "#2a3f5f"
          },
          "geo": {
           "bgcolor": "white",
           "lakecolor": "white",
           "landcolor": "#E5ECF6",
           "showlakes": true,
           "showland": true,
           "subunitcolor": "white"
          },
          "hoverlabel": {
           "align": "left"
          },
          "hovermode": "closest",
          "mapbox": {
           "style": "light"
          },
          "paper_bgcolor": "white",
          "plot_bgcolor": "#E5ECF6",
          "polar": {
           "angularaxis": {
            "gridcolor": "white",
            "linecolor": "white",
            "ticks": ""
           },
           "bgcolor": "#E5ECF6",
           "radialaxis": {
            "gridcolor": "white",
            "linecolor": "white",
            "ticks": ""
           }
          },
          "scene": {
           "xaxis": {
            "backgroundcolor": "#E5ECF6",
            "gridcolor": "white",
            "gridwidth": 2,
            "linecolor": "white",
            "showbackground": true,
            "ticks": "",
            "zerolinecolor": "white"
           },
           "yaxis": {
            "backgroundcolor": "#E5ECF6",
            "gridcolor": "white",
            "gridwidth": 2,
            "linecolor": "white",
            "showbackground": true,
            "ticks": "",
            "zerolinecolor": "white"
           },
           "zaxis": {
            "backgroundcolor": "#E5ECF6",
            "gridcolor": "white",
            "gridwidth": 2,
            "linecolor": "white",
            "showbackground": true,
            "ticks": "",
            "zerolinecolor": "white"
           }
          },
          "shapedefaults": {
           "line": {
            "color": "#2a3f5f"
           }
          },
          "ternary": {
           "aaxis": {
            "gridcolor": "white",
            "linecolor": "white",
            "ticks": ""
           },
           "baxis": {
            "gridcolor": "white",
            "linecolor": "white",
            "ticks": ""
           },
           "bgcolor": "#E5ECF6",
           "caxis": {
            "gridcolor": "white",
            "linecolor": "white",
            "ticks": ""
           }
          },
          "title": {
           "x": 0.05
          },
          "xaxis": {
           "automargin": true,
           "gridcolor": "white",
           "linecolor": "white",
           "ticks": "",
           "title": {
            "standoff": 15
           },
           "zerolinecolor": "white",
           "zerolinewidth": 2
          },
          "yaxis": {
           "automargin": true,
           "gridcolor": "white",
           "linecolor": "white",
           "ticks": "",
           "title": {
            "standoff": 15
           },
           "zerolinecolor": "white",
           "zerolinewidth": 2
          }
         }
        },
        "title": {
         "text": "Sales over Time - Prediction of Final Model vs. Actual"
        },
        "xaxis": {
         "title": {
          "text": "Date"
         }
        },
        "yaxis": {
         "title": {
          "text": "Total Sales"
         }
        }
       }
      }
     },
     "metadata": {},
     "output_type": "display_data"
    }
   ],
   "source": [
    "import plotly.express as px\n",
    "import plotly.graph_objects as go\n",
    "\n",
    "fig = go.Figure()\n",
    "fig.add_trace(go.Scatter(x=result['Date'], y=result['actual'],\n",
    "                    mode='lines+markers',\n",
    "                    name='actual'))\n",
    "\n",
    "fig.add_trace(go.Scatter(x=result['Date'], y=result['pred'],\n",
    "                    mode='lines',\n",
    "                    name='predicted'))\n",
    "# Edit the layout\n",
    "fig.update_layout(title='Sales over Time - Prediction of Final Model vs. Actual',\n",
    "                   xaxis_title='Date',\n",
    "                   yaxis_title='Total Sales')\n",
    "fig.show()"
   ]
  },
  {
   "cell_type": "code",
   "execution_count": 129,
   "metadata": {},
   "outputs": [
    {
     "data": {
      "application/vnd.plotly.v1+json": {
       "config": {
        "plotlyServerURL": "https://plot.ly"
       },
       "data": [
        {
         "mode": "markers",
         "name": "actual",
         "type": "scatter",
         "x": [
          "2013-01-01T00:00:00",
          "2013-01-02T00:00:00",
          "2013-01-03T00:00:00",
          "2013-01-04T00:00:00",
          "2013-01-05T00:00:00",
          "2013-01-06T00:00:00",
          "2013-01-07T00:00:00",
          "2013-01-08T00:00:00",
          "2013-01-09T00:00:00",
          "2013-01-10T00:00:00",
          "2013-01-11T00:00:00",
          "2013-01-12T00:00:00",
          "2013-01-13T00:00:00",
          "2013-01-14T00:00:00",
          "2013-01-15T00:00:00",
          "2013-01-16T00:00:00",
          "2013-01-17T00:00:00",
          "2013-01-18T00:00:00",
          "2013-01-19T00:00:00",
          "2013-01-20T00:00:00",
          "2013-01-21T00:00:00",
          "2013-01-22T00:00:00",
          "2013-01-23T00:00:00",
          "2013-01-24T00:00:00",
          "2013-01-25T00:00:00",
          "2013-01-26T00:00:00",
          "2013-01-27T00:00:00",
          "2013-01-28T00:00:00",
          "2013-01-29T00:00:00",
          "2013-01-30T00:00:00",
          "2013-01-31T00:00:00",
          "2013-02-01T00:00:00",
          "2013-02-02T00:00:00",
          "2013-02-03T00:00:00",
          "2013-02-04T00:00:00",
          "2013-02-05T00:00:00",
          "2013-02-06T00:00:00",
          "2013-02-07T00:00:00",
          "2013-02-08T00:00:00",
          "2013-02-09T00:00:00",
          "2013-02-10T00:00:00",
          "2013-02-11T00:00:00",
          "2013-02-12T00:00:00",
          "2013-02-13T00:00:00",
          "2013-02-14T00:00:00",
          "2013-02-15T00:00:00",
          "2013-02-16T00:00:00",
          "2013-02-17T00:00:00",
          "2013-02-18T00:00:00",
          "2013-02-19T00:00:00",
          "2013-02-20T00:00:00",
          "2013-02-21T00:00:00",
          "2013-02-22T00:00:00",
          "2013-02-23T00:00:00",
          "2013-02-24T00:00:00",
          "2013-02-25T00:00:00",
          "2013-02-26T00:00:00",
          "2013-02-27T00:00:00",
          "2013-02-28T00:00:00",
          "2013-03-01T00:00:00",
          "2013-03-02T00:00:00",
          "2013-03-03T00:00:00",
          "2013-03-04T00:00:00",
          "2013-03-05T00:00:00",
          "2013-03-06T00:00:00",
          "2013-03-07T00:00:00",
          "2013-03-08T00:00:00",
          "2013-03-09T00:00:00",
          "2013-03-10T00:00:00",
          "2013-03-11T00:00:00",
          "2013-03-12T00:00:00",
          "2013-03-13T00:00:00",
          "2013-03-14T00:00:00",
          "2013-03-15T00:00:00",
          "2013-03-16T00:00:00",
          "2013-03-17T00:00:00",
          "2013-03-18T00:00:00",
          "2013-03-19T00:00:00",
          "2013-03-20T00:00:00",
          "2013-03-21T00:00:00",
          "2013-03-22T00:00:00",
          "2013-03-23T00:00:00",
          "2013-03-24T00:00:00",
          "2013-03-25T00:00:00",
          "2013-03-26T00:00:00",
          "2013-03-27T00:00:00",
          "2013-03-28T00:00:00",
          "2013-03-29T00:00:00",
          "2013-03-30T00:00:00",
          "2013-03-31T00:00:00",
          "2013-04-01T00:00:00",
          "2013-04-02T00:00:00",
          "2013-04-03T00:00:00",
          "2013-04-04T00:00:00",
          "2013-04-05T00:00:00",
          "2013-04-06T00:00:00",
          "2013-04-07T00:00:00",
          "2013-04-08T00:00:00",
          "2013-04-09T00:00:00",
          "2013-04-10T00:00:00",
          "2013-04-11T00:00:00",
          "2013-04-12T00:00:00",
          "2013-04-13T00:00:00",
          "2013-04-14T00:00:00",
          "2013-04-15T00:00:00",
          "2013-04-16T00:00:00",
          "2013-04-17T00:00:00",
          "2013-04-18T00:00:00",
          "2013-04-19T00:00:00",
          "2013-04-20T00:00:00",
          "2013-04-21T00:00:00",
          "2013-04-22T00:00:00",
          "2013-04-23T00:00:00",
          "2013-04-24T00:00:00",
          "2013-04-25T00:00:00",
          "2013-04-26T00:00:00",
          "2013-04-27T00:00:00",
          "2013-04-28T00:00:00",
          "2013-04-29T00:00:00",
          "2013-04-30T00:00:00",
          "2013-05-01T00:00:00",
          "2013-05-02T00:00:00",
          "2013-05-03T00:00:00",
          "2013-05-04T00:00:00",
          "2013-05-05T00:00:00",
          "2013-05-06T00:00:00",
          "2013-05-07T00:00:00",
          "2013-05-08T00:00:00",
          "2013-05-09T00:00:00",
          "2013-05-10T00:00:00",
          "2013-05-11T00:00:00",
          "2013-05-12T00:00:00",
          "2013-05-13T00:00:00",
          "2013-05-14T00:00:00",
          "2013-05-15T00:00:00",
          "2013-05-16T00:00:00",
          "2013-05-17T00:00:00",
          "2013-05-18T00:00:00",
          "2013-05-19T00:00:00",
          "2013-05-20T00:00:00",
          "2013-05-21T00:00:00",
          "2013-05-22T00:00:00",
          "2013-05-23T00:00:00",
          "2013-05-24T00:00:00",
          "2013-05-25T00:00:00",
          "2013-05-26T00:00:00",
          "2013-05-27T00:00:00",
          "2013-05-28T00:00:00",
          "2013-05-29T00:00:00",
          "2013-05-30T00:00:00",
          "2013-05-31T00:00:00",
          "2013-06-01T00:00:00",
          "2013-06-02T00:00:00",
          "2013-06-03T00:00:00",
          "2013-06-04T00:00:00",
          "2013-06-05T00:00:00",
          "2013-06-06T00:00:00",
          "2013-06-07T00:00:00",
          "2013-06-08T00:00:00",
          "2013-06-09T00:00:00",
          "2013-06-10T00:00:00",
          "2013-06-11T00:00:00",
          "2013-06-12T00:00:00",
          "2013-06-13T00:00:00",
          "2013-06-14T00:00:00",
          "2013-06-15T00:00:00",
          "2013-06-16T00:00:00",
          "2013-06-17T00:00:00",
          "2013-06-18T00:00:00",
          "2013-06-19T00:00:00",
          "2013-06-20T00:00:00",
          "2013-06-21T00:00:00",
          "2013-06-22T00:00:00",
          "2013-06-23T00:00:00",
          "2013-06-24T00:00:00",
          "2013-06-25T00:00:00",
          "2013-06-26T00:00:00",
          "2013-06-27T00:00:00",
          "2013-06-28T00:00:00",
          "2013-06-29T00:00:00",
          "2013-06-30T00:00:00",
          "2013-07-01T00:00:00",
          "2013-07-02T00:00:00",
          "2013-07-03T00:00:00",
          "2013-07-04T00:00:00",
          "2013-07-05T00:00:00",
          "2013-07-06T00:00:00",
          "2013-07-07T00:00:00",
          "2013-07-08T00:00:00",
          "2013-07-09T00:00:00",
          "2013-07-10T00:00:00",
          "2013-07-11T00:00:00",
          "2013-07-12T00:00:00",
          "2013-07-13T00:00:00",
          "2013-07-14T00:00:00",
          "2013-07-15T00:00:00",
          "2013-07-16T00:00:00",
          "2013-07-17T00:00:00",
          "2013-07-18T00:00:00",
          "2013-07-19T00:00:00",
          "2013-07-20T00:00:00",
          "2013-07-21T00:00:00",
          "2013-07-22T00:00:00",
          "2013-07-23T00:00:00",
          "2013-07-24T00:00:00",
          "2013-07-25T00:00:00",
          "2013-07-26T00:00:00",
          "2013-07-27T00:00:00",
          "2013-07-28T00:00:00",
          "2013-07-29T00:00:00",
          "2013-07-30T00:00:00",
          "2013-07-31T00:00:00",
          "2013-08-01T00:00:00",
          "2013-08-02T00:00:00",
          "2013-08-03T00:00:00",
          "2013-08-04T00:00:00",
          "2013-08-05T00:00:00",
          "2013-08-06T00:00:00",
          "2013-08-07T00:00:00",
          "2013-08-08T00:00:00",
          "2013-08-09T00:00:00",
          "2013-08-10T00:00:00",
          "2013-08-11T00:00:00",
          "2013-08-12T00:00:00",
          "2013-08-13T00:00:00",
          "2013-08-14T00:00:00",
          "2013-08-15T00:00:00",
          "2013-08-16T00:00:00",
          "2013-08-17T00:00:00",
          "2013-08-18T00:00:00",
          "2013-08-19T00:00:00",
          "2013-08-20T00:00:00",
          "2013-08-21T00:00:00",
          "2013-08-22T00:00:00",
          "2013-08-23T00:00:00",
          "2013-08-24T00:00:00",
          "2013-08-25T00:00:00",
          "2013-08-26T00:00:00",
          "2013-08-27T00:00:00",
          "2013-08-28T00:00:00",
          "2013-08-29T00:00:00",
          "2013-08-30T00:00:00",
          "2013-08-31T00:00:00",
          "2013-09-01T00:00:00",
          "2013-09-02T00:00:00",
          "2013-09-03T00:00:00",
          "2013-09-04T00:00:00",
          "2013-09-05T00:00:00",
          "2013-09-06T00:00:00",
          "2013-09-07T00:00:00",
          "2013-09-08T00:00:00",
          "2013-09-09T00:00:00",
          "2013-09-10T00:00:00",
          "2013-09-11T00:00:00",
          "2013-09-12T00:00:00",
          "2013-09-13T00:00:00",
          "2013-09-14T00:00:00",
          "2013-09-15T00:00:00",
          "2013-09-16T00:00:00",
          "2013-09-17T00:00:00",
          "2013-09-18T00:00:00",
          "2013-09-19T00:00:00",
          "2013-09-20T00:00:00",
          "2013-09-21T00:00:00",
          "2013-09-22T00:00:00",
          "2013-09-23T00:00:00",
          "2013-09-24T00:00:00",
          "2013-09-25T00:00:00",
          "2013-09-26T00:00:00",
          "2013-09-27T00:00:00",
          "2013-09-28T00:00:00",
          "2013-09-29T00:00:00",
          "2013-09-30T00:00:00",
          "2013-10-01T00:00:00",
          "2013-10-02T00:00:00",
          "2013-10-03T00:00:00",
          "2013-10-04T00:00:00",
          "2013-10-05T00:00:00",
          "2013-10-06T00:00:00",
          "2013-10-07T00:00:00",
          "2013-10-08T00:00:00",
          "2013-10-09T00:00:00",
          "2013-10-10T00:00:00",
          "2013-10-11T00:00:00",
          "2013-10-12T00:00:00",
          "2013-10-13T00:00:00",
          "2013-10-14T00:00:00",
          "2013-10-15T00:00:00",
          "2013-10-16T00:00:00",
          "2013-10-17T00:00:00",
          "2013-10-18T00:00:00",
          "2013-10-19T00:00:00",
          "2013-10-20T00:00:00",
          "2013-10-21T00:00:00",
          "2013-10-22T00:00:00",
          "2013-10-23T00:00:00",
          "2013-10-24T00:00:00",
          "2013-10-25T00:00:00",
          "2013-10-26T00:00:00",
          "2013-10-27T00:00:00",
          "2013-10-28T00:00:00",
          "2013-10-29T00:00:00",
          "2013-10-30T00:00:00",
          "2013-10-31T00:00:00",
          "2013-11-01T00:00:00",
          "2013-11-02T00:00:00",
          "2013-11-03T00:00:00",
          "2013-11-04T00:00:00",
          "2013-11-05T00:00:00",
          "2013-11-06T00:00:00",
          "2013-11-07T00:00:00",
          "2013-11-08T00:00:00",
          "2013-11-09T00:00:00",
          "2013-11-10T00:00:00",
          "2013-11-11T00:00:00",
          "2013-11-12T00:00:00",
          "2013-11-13T00:00:00",
          "2013-11-14T00:00:00",
          "2013-11-15T00:00:00",
          "2013-11-16T00:00:00",
          "2013-11-17T00:00:00",
          "2013-11-18T00:00:00",
          "2013-11-19T00:00:00",
          "2013-11-20T00:00:00",
          "2013-11-21T00:00:00",
          "2013-11-22T00:00:00",
          "2013-11-23T00:00:00",
          "2013-11-24T00:00:00",
          "2013-11-25T00:00:00",
          "2013-11-26T00:00:00",
          "2013-11-27T00:00:00",
          "2013-11-28T00:00:00",
          "2013-11-29T00:00:00",
          "2013-11-30T00:00:00",
          "2013-12-01T00:00:00",
          "2013-12-02T00:00:00",
          "2013-12-03T00:00:00",
          "2013-12-04T00:00:00",
          "2013-12-05T00:00:00",
          "2013-12-06T00:00:00",
          "2013-12-07T00:00:00",
          "2013-12-08T00:00:00",
          "2013-12-09T00:00:00",
          "2013-12-10T00:00:00",
          "2013-12-11T00:00:00",
          "2013-12-12T00:00:00",
          "2013-12-13T00:00:00",
          "2013-12-14T00:00:00",
          "2013-12-15T00:00:00",
          "2013-12-16T00:00:00",
          "2013-12-17T00:00:00",
          "2013-12-18T00:00:00",
          "2013-12-19T00:00:00",
          "2013-12-20T00:00:00",
          "2013-12-21T00:00:00",
          "2013-12-22T00:00:00",
          "2013-12-23T00:00:00",
          "2013-12-24T00:00:00",
          "2013-12-25T00:00:00",
          "2013-12-26T00:00:00",
          "2013-12-27T00:00:00",
          "2013-12-28T00:00:00",
          "2013-12-29T00:00:00",
          "2013-12-30T00:00:00",
          "2013-12-31T00:00:00",
          "2014-01-01T00:00:00",
          "2014-01-02T00:00:00",
          "2014-01-03T00:00:00",
          "2014-01-04T00:00:00",
          "2014-01-05T00:00:00",
          "2014-01-06T00:00:00",
          "2014-01-07T00:00:00",
          "2014-01-08T00:00:00",
          "2014-01-09T00:00:00",
          "2014-01-10T00:00:00",
          "2014-01-11T00:00:00",
          "2014-01-12T00:00:00",
          "2014-01-13T00:00:00",
          "2014-01-14T00:00:00",
          "2014-01-15T00:00:00",
          "2014-01-16T00:00:00",
          "2014-01-17T00:00:00",
          "2014-01-18T00:00:00",
          "2014-01-19T00:00:00",
          "2014-01-20T00:00:00",
          "2014-01-21T00:00:00",
          "2014-01-22T00:00:00",
          "2014-01-23T00:00:00",
          "2014-01-24T00:00:00",
          "2014-01-25T00:00:00",
          "2014-01-26T00:00:00",
          "2014-01-27T00:00:00",
          "2014-01-28T00:00:00",
          "2014-01-29T00:00:00",
          "2014-01-30T00:00:00",
          "2014-01-31T00:00:00",
          "2014-02-01T00:00:00",
          "2014-02-02T00:00:00",
          "2014-02-03T00:00:00",
          "2014-02-04T00:00:00",
          "2014-02-05T00:00:00",
          "2014-02-06T00:00:00",
          "2014-02-07T00:00:00",
          "2014-02-08T00:00:00",
          "2014-02-09T00:00:00",
          "2014-02-10T00:00:00",
          "2014-02-11T00:00:00",
          "2014-02-12T00:00:00",
          "2014-02-13T00:00:00",
          "2014-02-14T00:00:00",
          "2014-02-15T00:00:00",
          "2014-02-16T00:00:00",
          "2014-02-17T00:00:00",
          "2014-02-18T00:00:00",
          "2014-02-19T00:00:00",
          "2014-02-20T00:00:00",
          "2014-02-21T00:00:00",
          "2014-02-22T00:00:00",
          "2014-02-23T00:00:00",
          "2014-02-24T00:00:00",
          "2014-02-25T00:00:00",
          "2014-02-26T00:00:00",
          "2014-02-27T00:00:00",
          "2014-02-28T00:00:00",
          "2014-03-01T00:00:00",
          "2014-03-02T00:00:00",
          "2014-03-03T00:00:00",
          "2014-03-04T00:00:00",
          "2014-03-05T00:00:00",
          "2014-03-06T00:00:00",
          "2014-03-07T00:00:00",
          "2014-03-08T00:00:00",
          "2014-03-09T00:00:00",
          "2014-03-10T00:00:00",
          "2014-03-11T00:00:00",
          "2014-03-12T00:00:00",
          "2014-03-13T00:00:00",
          "2014-03-14T00:00:00",
          "2014-03-15T00:00:00",
          "2014-03-16T00:00:00",
          "2014-03-17T00:00:00",
          "2014-03-18T00:00:00",
          "2014-03-19T00:00:00",
          "2014-03-20T00:00:00",
          "2014-03-21T00:00:00",
          "2014-03-22T00:00:00",
          "2014-03-23T00:00:00",
          "2014-03-24T00:00:00",
          "2014-03-25T00:00:00",
          "2014-03-26T00:00:00",
          "2014-03-27T00:00:00",
          "2014-03-28T00:00:00",
          "2014-03-29T00:00:00",
          "2014-03-30T00:00:00",
          "2014-03-31T00:00:00",
          "2014-04-01T00:00:00",
          "2014-04-02T00:00:00",
          "2014-04-03T00:00:00",
          "2014-04-04T00:00:00",
          "2014-04-05T00:00:00",
          "2014-04-06T00:00:00",
          "2014-04-07T00:00:00",
          "2014-04-08T00:00:00",
          "2014-04-09T00:00:00",
          "2014-04-10T00:00:00",
          "2014-04-11T00:00:00",
          "2014-04-12T00:00:00",
          "2014-04-13T00:00:00",
          "2014-04-14T00:00:00",
          "2014-04-15T00:00:00",
          "2014-04-16T00:00:00",
          "2014-04-17T00:00:00",
          "2014-04-18T00:00:00",
          "2014-04-19T00:00:00",
          "2014-04-20T00:00:00",
          "2014-04-21T00:00:00",
          "2014-04-22T00:00:00",
          "2014-04-23T00:00:00",
          "2014-04-24T00:00:00",
          "2014-04-25T00:00:00",
          "2014-04-26T00:00:00",
          "2014-04-27T00:00:00",
          "2014-04-28T00:00:00",
          "2014-04-29T00:00:00",
          "2014-04-30T00:00:00",
          "2014-05-01T00:00:00",
          "2014-05-02T00:00:00",
          "2014-05-03T00:00:00",
          "2014-05-04T00:00:00",
          "2014-05-05T00:00:00",
          "2014-05-06T00:00:00",
          "2014-05-07T00:00:00",
          "2014-05-08T00:00:00",
          "2014-05-09T00:00:00",
          "2014-05-10T00:00:00",
          "2014-05-11T00:00:00",
          "2014-05-12T00:00:00",
          "2014-05-13T00:00:00",
          "2014-05-14T00:00:00",
          "2014-05-15T00:00:00",
          "2014-05-16T00:00:00",
          "2014-05-17T00:00:00",
          "2014-05-18T00:00:00",
          "2014-05-19T00:00:00",
          "2014-05-20T00:00:00",
          "2014-05-21T00:00:00",
          "2014-05-22T00:00:00",
          "2014-05-23T00:00:00",
          "2014-05-24T00:00:00",
          "2014-05-25T00:00:00",
          "2014-05-26T00:00:00",
          "2014-05-27T00:00:00",
          "2014-05-28T00:00:00",
          "2014-05-29T00:00:00",
          "2014-05-30T00:00:00",
          "2014-05-31T00:00:00",
          "2014-06-01T00:00:00",
          "2014-06-02T00:00:00",
          "2014-06-03T00:00:00",
          "2014-06-04T00:00:00",
          "2014-06-05T00:00:00",
          "2014-06-06T00:00:00",
          "2014-06-07T00:00:00",
          "2014-06-08T00:00:00",
          "2014-06-09T00:00:00",
          "2014-06-10T00:00:00",
          "2014-06-11T00:00:00",
          "2014-06-12T00:00:00",
          "2014-06-13T00:00:00",
          "2014-06-14T00:00:00",
          "2014-06-15T00:00:00",
          "2014-06-16T00:00:00",
          "2014-06-17T00:00:00",
          "2014-06-18T00:00:00",
          "2014-06-19T00:00:00",
          "2014-06-20T00:00:00",
          "2014-06-21T00:00:00",
          "2014-06-22T00:00:00",
          "2014-06-23T00:00:00",
          "2014-06-24T00:00:00",
          "2014-06-25T00:00:00",
          "2014-06-26T00:00:00",
          "2014-06-27T00:00:00",
          "2014-06-28T00:00:00",
          "2014-06-29T00:00:00",
          "2014-06-30T00:00:00",
          "2014-07-01T00:00:00",
          "2014-07-02T00:00:00",
          "2014-07-03T00:00:00",
          "2014-07-04T00:00:00",
          "2014-07-05T00:00:00",
          "2014-07-06T00:00:00",
          "2014-07-07T00:00:00",
          "2014-07-08T00:00:00",
          "2014-07-09T00:00:00",
          "2014-07-10T00:00:00",
          "2014-07-11T00:00:00",
          "2014-07-12T00:00:00",
          "2014-07-13T00:00:00",
          "2014-07-14T00:00:00",
          "2014-07-15T00:00:00",
          "2014-07-16T00:00:00",
          "2014-07-17T00:00:00",
          "2014-07-18T00:00:00",
          "2014-07-19T00:00:00",
          "2014-07-20T00:00:00",
          "2014-07-21T00:00:00",
          "2014-07-22T00:00:00",
          "2014-07-23T00:00:00",
          "2014-07-24T00:00:00",
          "2014-07-25T00:00:00",
          "2014-07-26T00:00:00",
          "2014-07-27T00:00:00",
          "2014-07-28T00:00:00",
          "2014-07-29T00:00:00",
          "2014-07-30T00:00:00",
          "2014-07-31T00:00:00"
         ],
         "y": [
          -41.77747037722455,
          0.006356054979678158,
          -1.0745151857471407,
          -0.04831133307478574,
          -1.146888275024877,
          -5.7877244082518615,
          -0.6380454896499945,
          -1.0555143993801508,
          -1.1990387168894452,
          -0.39036747294652113,
          -0.4042362255848518,
          -0.9689747381412367,
          -10.474780822941725,
          -0.5800515591531259,
          -1.424762555949082,
          -2.4982175334454846,
          -2.143051701080633,
          -1.529260747026847,
          -0.5433037786609693,
          -4.46783422618541,
          -1.302835326582456,
          -0.26578488388505594,
          -0.04545361489441585,
          -0.8245712305320091,
          -0.23366950594664335,
          -0.0968463074508943,
          -11.12244754959267,
          0.13915914854719955,
          -1.7374452805546476,
          -0.6309501719109707,
          0.9544080041014723,
          -0.16444626851218103,
          -0.33466602061554324,
          -2.4974487210206555,
          -1.5059982305277828,
          -1.0828421517648488,
          -0.31281714751229184,
          -2.096724773532089,
          -0.5817589412678548,
          -0.28690431646417025,
          -0.7250265027764561,
          -3.5395073385877893,
          -1.0379016003290102,
          1.230416486846475,
          0.961810763651019,
          -2.115583899916438,
          -0.8198442375074562,
          -2.1147987271164848,
          1.4556135087825237,
          -1.9774355673507809,
          0.015655745681970593,
          -0.27371608783893914,
          -0.8161866076659965,
          -2.035307807527161,
          -2.41789454276966,
          -1.3649402908401629,
          -1.4806719702190738,
          0.31579645567430176,
          -0.04391807117200238,
          -0.6722522462343747,
          -1.0077994034968447,
          -0.4100357481951805,
          0.557911022991941,
          -1.1098081141018532,
          -1.388532067116318,
          -0.5662257361395109,
          -0.4307911545794472,
          -0.6013939790616281,
          -3.696018049098167,
          1.0409539224884705,
          -2.659450380632906,
          -0.2532189901766849,
          0.8299530426599154,
          1.801127380423498,
          1.1404330381133223,
          0.8398647745952194,
          -0.6287021304089067,
          0.9517234115006953,
          -0.028742286716447567,
          1.3234884155885547,
          1.1652406755462321,
          0.9888655766128827,
          1.2496198227010884,
          -0.16589882855491675,
          0.8845575726276466,
          -0.17691573236145983,
          0.7308823406036628,
          -16.251050731298157,
          0.7959371874565141,
          -1.5856459778383616,
          -2.4831753449844194,
          0.8523231567963505,
          -0.7095676374526056,
          0.23208839065282785,
          -0.4417821108719089,
          -1.2695644303115423,
          -7.021578586515876,
          -0.5180756761731138,
          0.02854260522865868,
          -0.007294253459929519,
          -1.551504490905612,
          -0.33945469334327666,
          -1.2554926591127908,
          -5.252468243442244,
          -2.4381964761619104,
          -0.435754462035458,
          -2.210782284395703,
          -0.9838092210646254,
          -1.5766551253609722,
          -0.7907924193373916,
          -0.8486642541815804,
          -0.932408858002296,
          0.44559012977319434,
          -1.4633315940710845,
          -0.6801847163712306,
          -0.03697854041510548,
          1.2513826317131023,
          -2.9978368008671548,
          -1.4118507191129956,
          -0.4052562893576956,
          -6.947799813346037,
          -0.3645214915906039,
          -0.5784810154923647,
          -1.5702409379235256,
          -4.962263211241539,
          0.5840330960014799,
          -1.290182527367565,
          2.201030142902276,
          -3.3774572523321518,
          1.0778127495226544,
          -0.7305158727435159,
          -5.289174984689017,
          -0.9402835845926557,
          0.5044035743758928,
          -1.1473683120050633,
          0.2351248790503914,
          -0.2382714393316042,
          1.4236848227440961,
          0.21928401901089906,
          -3.4546579263977932,
          2.7126520492364077,
          -1.6925121327019306,
          1.249531223908323,
          -0.8036943317334344,
          -0.9644302615316264,
          -4.0216238717895285,
          0.2225612329273572,
          -1.4812402918554428,
          -0.0708736998136541,
          -2.5533915056481833,
          0.16462422751586964,
          -0.41511894478058503,
          -4.717539170318228,
          -1.4400815595520018,
          -2.342906279757835,
          -3.1981171554874264,
          -2.2132966254724,
          -1.7850955336920342,
          -2.118038941557018,
          -2.924696129901761,
          -0.1707813309179417,
          -1.826971056865822,
          -4.309165857626946,
          -2.6429982169253248,
          -0.1961943363910042,
          -1.2980618592929825,
          -3.222734471139158,
          -1.1094435648157384,
          -2.875120650665641,
          -4.371193203642162,
          -2.864621133133016,
          0.21254440238901542,
          0.6536140735707447,
          -0.07844753644098307,
          0.048083300822143495,
          -1.137004611916937,
          0.14824910433975183,
          0.5474835042670902,
          -1.017483634013296,
          0.8245159230612291,
          -1.2303593463098494,
          -0.49422757902529624,
          -1.798905367809088,
          -0.4573990169854446,
          0.2280713809040744,
          0.21109367294686995,
          -0.8566364436350038,
          -4.000996213767664,
          -0.4252385797761796,
          0.32332934431688143,
          -1.3910923649740217,
          -0.12387038782721797,
          -0.34395471350559104,
          -1.4848103391499856,
          0.5085937706732709,
          1.2384354084296358,
          -0.20621533096511172,
          0.13877233055513424,
          0.10599080412714786,
          1.5548174213182833,
          1.060569316018989,
          -3.601941552316492,
          -2.1736280502026823,
          -2.228443918697473,
          -0.19131159744527976,
          -0.21196560413788854,
          -0.1463531032828644,
          -2.1666741016783257,
          -2.377769686775324,
          0.6015425900529643,
          0.8899625201032643,
          0.5100108071185139,
          0.18147136138323436,
          -0.16598731693928817,
          0.4104903919184166,
          -0.3017583621198867,
          0.5758536436114408,
          -0.23826731303044327,
          0.4315232769124216,
          0.7632080587563598,
          0.006152916415228517,
          -0.8207651699612308,
          -0.7302630081920816,
          0.0983811881663566,
          0.4276685124747852,
          0.38919344702456204,
          -0.865364153573558,
          -0.2195431631448976,
          -1.0745293092806238,
          2.285319379958367,
          0.04618838909506708,
          0.2541218401164154,
          -0.5909042450774633,
          0.06712659914610579,
          -0.5582864844619495,
          -0.5298567422202987,
          -1.254540771718283,
          0.22960238991418838,
          0.18629744888513755,
          -0.20419597423156888,
          -0.14405175287480146,
          0.16542991948423869,
          -0.11212475015834901,
          1.3116409853946855,
          -0.8589832289731949,
          0.3867365502650733,
          -0.5813039737118842,
          -0.48794120143867725,
          -0.9505659187713457,
          1.1150300784649754,
          1.6341452408643429,
          0.2395995286186013,
          0.012425861140226016,
          0.49587470817838986,
          -0.031135748719136047,
          0.8711819135190215,
          -0.706621400462476,
          -0.02726464983164301,
          -0.3615373174999018,
          0.9913324201863065,
          -2.642498378005001,
          1.778119094118225,
          -1.3290266880912462,
          0.39574359831646455,
          -3.2201358324911595,
          -0.8805323357298203,
          0.12047040433731776,
          0.10166426661459772,
          0.05835271882326285,
          0.550730478993945,
          0.9767654343517964,
          0.46683403395674694,
          -0.14450703815545626,
          -0.38503214338649666,
          0.4046286846010523,
          0.39254905780417426,
          0.9358278956997407,
          -0.7707402726601381,
          1.3179391504000233,
          0.3115781319509163,
          0.34105278229212754,
          -0.15291415440723322,
          -0.5594559126650984,
          -0.3231203177845337,
          0.38304941613234206,
          -0.5046718540580559,
          0.6548443075669389,
          -0.6673397558611557,
          0.2709141456808003,
          0.5987347592375348,
          -0.06381402499604975,
          -0.22968823795715054,
          -1.3751248212719893,
          0.2776265870261556,
          -0.4380257021148754,
          0.20795068049333187,
          0.28945733318610334,
          0.06111796578225731,
          -0.7539915894294253,
          1.987171087579869,
          -1.1312345667168344,
          0.693629562053066,
          -0.0756061058480254,
          0.16058300973136416,
          -0.2648909826669939,
          0.18437196972943107,
          -3.2907105592052974,
          -0.44343576754120395,
          0.4578430009913805,
          0.34461835955127945,
          -1.0707906563742402,
          0.6070649681420026,
          -0.12872207844466116,
          0.8288063333301802,
          0.36756631479111124,
          -1.0361990232725962,
          -0.43857578060608543,
          -0.08051380088676252,
          -0.04474163734488192,
          0.6103698958836797,
          1.060711196415261,
          -0.26121423324238213,
          1.119571969174971,
          -0.18908086174795222,
          0.661021432350528,
          -0.7286352922969918,
          0.2740406647596575,
          2.882708121629859,
          0.11629289591917039,
          -0.1915785045634133,
          -0.32657260403407246,
          0.039273098488470305,
          0.4496987404541834,
          -0.41780359128861666,
          -0.013036880929860155,
          0.2809573433505627,
          -0.3492030254672989,
          0.0725459128993635,
          0.4089040893616838,
          -0.5796383371858502,
          0.019318429816640458,
          -4.196861125659636,
          -0.11470745537764167,
          0.21648254444660253,
          -0.46409561521137666,
          -0.07852271514685055,
          0.03695931440436264,
          0.013551046974408313,
          0.8185246173169067,
          -0.08623355765671638,
          0.22608663511332616,
          0.03691764788421387,
          -0.44810073400243716,
          -0.03105266836797529,
          0.31089326100300585,
          -2.398204325075848,
          0.12338183587223514,
          -0.6188585975625971,
          -46.234091615198366,
          -25.0425370847257,
          0.2908915578480287,
          -0.35476698349778346,
          0.6654527224726862,
          0.18732071665891545,
          -0.19164702635686667,
          -30.813450319221072,
          0.304213663872117,
          0.9273285212618861,
          0.25744764290287125,
          7.437226836687833,
          0.3204851835347639,
          1.1623696436957285,
          1.4057567974580456,
          0.385274562464742,
          0.6481435033228273,
          0.5942738223351551,
          4.932937597866265,
          1.5152407370897123,
          0.48474817398772624,
          2.0971071453689647,
          0.9382720921244613,
          1.3352997535856213,
          1.340820647047273,
          4.531086487476175,
          0.740478390555074,
          0.8359192100666205,
          1.153403148479886,
          0.36058891877243104,
          0.3643116694245749,
          0.5990519918159308,
          2.731063084879375,
          -0.7347819204679518,
          1.5418638766749144,
          1.3417782746588534,
          -0.9347337436298714,
          -0.19754443045771458,
          -0.35832452262640735,
          0.2603319521918591,
          0.9169833349981953,
          1.442377486638336,
          0.2152735929433713,
          0.6627599636162432,
          0.20938710140061248,
          1.6273090683882052,
          4.514734386946705,
          0.8842039376400025,
          1.8844976236643602,
          1.2419250568951414,
          -0.21759301104228285,
          1.0196143646550648,
          0.7553777958805783,
          6.108317868466453,
          0.3339479578788799,
          0.1659897338223227,
          0.06906782745891467,
          0.7009891819958317,
          -0.2726790138997671,
          0.704752034736514,
          5.688159340260562,
          0.6628350412048449,
          0.37604030511563585,
          1.473282221947425,
          -0.6818995252693292,
          1.3273375645677237,
          1.056449673598157,
          2.503347860131033,
          -0.4931851385440078,
          0.18774894061461148,
          1.610238997638342,
          1.7740894301359564,
          1.4771042181736873,
          -1.0740904505669469,
          -0.27382525814709796,
          -0.3606171380106856,
          0.308983020639733,
          -0.47814120052195563,
          -0.4268444775243052,
          -1.1592814137306968,
          -0.5591240049470828,
          0.30683997855555,
          -0.2571241601532483,
          -0.3949845275866874,
          0.21952455905205465,
          -2.4285214710071386,
          -1.9033719218362735,
          -0.577612613470117,
          1.5373529687231369,
          1.311308634172195,
          0.2659739341505127,
          -0.6096836640441772,
          -0.6075296320329093,
          -1.724045525518965,
          -1.1311328049288838,
          -2.8865009404034327,
          -0.016184307222662023,
          0.12776494464560165,
          -1.3646170273785856,
          -0.1096174541053652,
          0.6761567541221796,
          1.260488394677557,
          3.4480501866312667,
          0.7269589539651633,
          0.16573526683408052,
          0.8264587582887307,
          0.12855021067437727,
          1.4680442403073768,
          1.1950647116486661,
          7.886077387080029,
          0.3554536277809164,
          0.8664596732958608,
          0.5133259143908326,
          1.2360271219616634,
          -10.978767842935474,
          2.7056034271451663,
          -6.195567984031929,
          -7.675334650945847,
          1.5062880523888944,
          -0.18356516945483367,
          0.6348849105462034,
          -0.05579928752641093,
          -0.3899790722838897,
          4.223055228910751,
          1.1180692343023746,
          0.9549808563441878,
          0.3771770742471365,
          1.6307095775827911,
          0.7700698613875963,
          0.49187840658353105,
          2.5257916879741398,
          0.5581702887047235,
          -0.2226789140716543,
          -0.019103694961109797,
          -0.3965977217155334,
          -0.011785185802986934,
          -0.1911363161577574,
          1.9909522188135145,
          1.1638612455812722,
          -0.20080346328786894,
          -0.3935545399669635,
          1.4809563505571042,
          -1.860321906998192,
          -1.1571063379343591,
          0.9051173184845904,
          0.4158014825596132,
          -0.6394395624838197,
          0.17969756678788248,
          -1.032296375517408,
          0.44751921231792086,
          1.1783570247164945,
          4.363363911446586,
          0.8479235296256179,
          -0.5407507604689721,
          1.2140838923227915,
          -0.4892409982588862,
          0.7047455722066145,
          -0.798415166305868,
          3.0222321783853205,
          1.248458461436286,
          2.0413750327078164,
          2.527375972975554,
          1.9532788436947621,
          1.568551192268309,
          2.4159106063508227,
          6.7879522199805935,
          1.4780661844955083,
          1.4721667141356667,
          2.7144455279050215,
          3.7316965625007525,
          1.0925871878123234,
          1.1210851437177112,
          1.8771734773021758,
          0.5807902979922155,
          1.8742250475771913,
          4.635193732360524,
          3.0694911226949695,
          1.8057531061531067,
          -2.1900199573260486,
          0.1457127696612346,
          1.9650411351884403,
          0.28280343188378915,
          0.3845379550925198,
          -2.0075573615432627,
          -0.31126863838798496,
          -0.23174273968397402,
          4.0379380413872195,
          0.1382093070961265,
          1.148858870100748,
          1.1234178201591427,
          -0.17477072098573604,
          -1.8913747399508773,
          1.6018542346498503,
          1.6609058429855248,
          1.0085090942063533,
          -1.1139206582677492,
          -1.3166335878282587,
          1.2643554559977441,
          0.47612441905805664,
          1.9003181785123922,
          3.927836112877654,
          -1.1345459979244101,
          -0.21609220262553736,
          1.167701151808075,
          -0.3476664209727824,
          -1.686353863522291,
          -1.6573663950330648,
          2.4702792121063215,
          1.2330369508690953,
          2.879692414494735,
          0.6642901072584323,
          1.2155839853761121,
          1.7073315029444158,
          1.3760793846632648,
          3.9645935931968848,
          -0.4897266122539489,
          -0.3766769062960671,
          -1.478959759189246,
          -0.4862392726425065
         ]
        }
       ],
       "layout": {
        "template": {
         "data": {
          "bar": [
           {
            "error_x": {
             "color": "#2a3f5f"
            },
            "error_y": {
             "color": "#2a3f5f"
            },
            "marker": {
             "line": {
              "color": "#E5ECF6",
              "width": 0.5
             },
             "pattern": {
              "fillmode": "overlay",
              "size": 10,
              "solidity": 0.2
             }
            },
            "type": "bar"
           }
          ],
          "barpolar": [
           {
            "marker": {
             "line": {
              "color": "#E5ECF6",
              "width": 0.5
             },
             "pattern": {
              "fillmode": "overlay",
              "size": 10,
              "solidity": 0.2
             }
            },
            "type": "barpolar"
           }
          ],
          "carpet": [
           {
            "aaxis": {
             "endlinecolor": "#2a3f5f",
             "gridcolor": "white",
             "linecolor": "white",
             "minorgridcolor": "white",
             "startlinecolor": "#2a3f5f"
            },
            "baxis": {
             "endlinecolor": "#2a3f5f",
             "gridcolor": "white",
             "linecolor": "white",
             "minorgridcolor": "white",
             "startlinecolor": "#2a3f5f"
            },
            "type": "carpet"
           }
          ],
          "choropleth": [
           {
            "colorbar": {
             "outlinewidth": 0,
             "ticks": ""
            },
            "type": "choropleth"
           }
          ],
          "contour": [
           {
            "colorbar": {
             "outlinewidth": 0,
             "ticks": ""
            },
            "colorscale": [
             [
              0,
              "#0d0887"
             ],
             [
              0.1111111111111111,
              "#46039f"
             ],
             [
              0.2222222222222222,
              "#7201a8"
             ],
             [
              0.3333333333333333,
              "#9c179e"
             ],
             [
              0.4444444444444444,
              "#bd3786"
             ],
             [
              0.5555555555555556,
              "#d8576b"
             ],
             [
              0.6666666666666666,
              "#ed7953"
             ],
             [
              0.7777777777777778,
              "#fb9f3a"
             ],
             [
              0.8888888888888888,
              "#fdca26"
             ],
             [
              1,
              "#f0f921"
             ]
            ],
            "type": "contour"
           }
          ],
          "contourcarpet": [
           {
            "colorbar": {
             "outlinewidth": 0,
             "ticks": ""
            },
            "type": "contourcarpet"
           }
          ],
          "heatmap": [
           {
            "colorbar": {
             "outlinewidth": 0,
             "ticks": ""
            },
            "colorscale": [
             [
              0,
              "#0d0887"
             ],
             [
              0.1111111111111111,
              "#46039f"
             ],
             [
              0.2222222222222222,
              "#7201a8"
             ],
             [
              0.3333333333333333,
              "#9c179e"
             ],
             [
              0.4444444444444444,
              "#bd3786"
             ],
             [
              0.5555555555555556,
              "#d8576b"
             ],
             [
              0.6666666666666666,
              "#ed7953"
             ],
             [
              0.7777777777777778,
              "#fb9f3a"
             ],
             [
              0.8888888888888888,
              "#fdca26"
             ],
             [
              1,
              "#f0f921"
             ]
            ],
            "type": "heatmap"
           }
          ],
          "heatmapgl": [
           {
            "colorbar": {
             "outlinewidth": 0,
             "ticks": ""
            },
            "colorscale": [
             [
              0,
              "#0d0887"
             ],
             [
              0.1111111111111111,
              "#46039f"
             ],
             [
              0.2222222222222222,
              "#7201a8"
             ],
             [
              0.3333333333333333,
              "#9c179e"
             ],
             [
              0.4444444444444444,
              "#bd3786"
             ],
             [
              0.5555555555555556,
              "#d8576b"
             ],
             [
              0.6666666666666666,
              "#ed7953"
             ],
             [
              0.7777777777777778,
              "#fb9f3a"
             ],
             [
              0.8888888888888888,
              "#fdca26"
             ],
             [
              1,
              "#f0f921"
             ]
            ],
            "type": "heatmapgl"
           }
          ],
          "histogram": [
           {
            "marker": {
             "pattern": {
              "fillmode": "overlay",
              "size": 10,
              "solidity": 0.2
             }
            },
            "type": "histogram"
           }
          ],
          "histogram2d": [
           {
            "colorbar": {
             "outlinewidth": 0,
             "ticks": ""
            },
            "colorscale": [
             [
              0,
              "#0d0887"
             ],
             [
              0.1111111111111111,
              "#46039f"
             ],
             [
              0.2222222222222222,
              "#7201a8"
             ],
             [
              0.3333333333333333,
              "#9c179e"
             ],
             [
              0.4444444444444444,
              "#bd3786"
             ],
             [
              0.5555555555555556,
              "#d8576b"
             ],
             [
              0.6666666666666666,
              "#ed7953"
             ],
             [
              0.7777777777777778,
              "#fb9f3a"
             ],
             [
              0.8888888888888888,
              "#fdca26"
             ],
             [
              1,
              "#f0f921"
             ]
            ],
            "type": "histogram2d"
           }
          ],
          "histogram2dcontour": [
           {
            "colorbar": {
             "outlinewidth": 0,
             "ticks": ""
            },
            "colorscale": [
             [
              0,
              "#0d0887"
             ],
             [
              0.1111111111111111,
              "#46039f"
             ],
             [
              0.2222222222222222,
              "#7201a8"
             ],
             [
              0.3333333333333333,
              "#9c179e"
             ],
             [
              0.4444444444444444,
              "#bd3786"
             ],
             [
              0.5555555555555556,
              "#d8576b"
             ],
             [
              0.6666666666666666,
              "#ed7953"
             ],
             [
              0.7777777777777778,
              "#fb9f3a"
             ],
             [
              0.8888888888888888,
              "#fdca26"
             ],
             [
              1,
              "#f0f921"
             ]
            ],
            "type": "histogram2dcontour"
           }
          ],
          "mesh3d": [
           {
            "colorbar": {
             "outlinewidth": 0,
             "ticks": ""
            },
            "type": "mesh3d"
           }
          ],
          "parcoords": [
           {
            "line": {
             "colorbar": {
              "outlinewidth": 0,
              "ticks": ""
             }
            },
            "type": "parcoords"
           }
          ],
          "pie": [
           {
            "automargin": true,
            "type": "pie"
           }
          ],
          "scatter": [
           {
            "marker": {
             "colorbar": {
              "outlinewidth": 0,
              "ticks": ""
             }
            },
            "type": "scatter"
           }
          ],
          "scatter3d": [
           {
            "line": {
             "colorbar": {
              "outlinewidth": 0,
              "ticks": ""
             }
            },
            "marker": {
             "colorbar": {
              "outlinewidth": 0,
              "ticks": ""
             }
            },
            "type": "scatter3d"
           }
          ],
          "scattercarpet": [
           {
            "marker": {
             "colorbar": {
              "outlinewidth": 0,
              "ticks": ""
             }
            },
            "type": "scattercarpet"
           }
          ],
          "scattergeo": [
           {
            "marker": {
             "colorbar": {
              "outlinewidth": 0,
              "ticks": ""
             }
            },
            "type": "scattergeo"
           }
          ],
          "scattergl": [
           {
            "marker": {
             "colorbar": {
              "outlinewidth": 0,
              "ticks": ""
             }
            },
            "type": "scattergl"
           }
          ],
          "scattermapbox": [
           {
            "marker": {
             "colorbar": {
              "outlinewidth": 0,
              "ticks": ""
             }
            },
            "type": "scattermapbox"
           }
          ],
          "scatterpolar": [
           {
            "marker": {
             "colorbar": {
              "outlinewidth": 0,
              "ticks": ""
             }
            },
            "type": "scatterpolar"
           }
          ],
          "scatterpolargl": [
           {
            "marker": {
             "colorbar": {
              "outlinewidth": 0,
              "ticks": ""
             }
            },
            "type": "scatterpolargl"
           }
          ],
          "scatterternary": [
           {
            "marker": {
             "colorbar": {
              "outlinewidth": 0,
              "ticks": ""
             }
            },
            "type": "scatterternary"
           }
          ],
          "surface": [
           {
            "colorbar": {
             "outlinewidth": 0,
             "ticks": ""
            },
            "colorscale": [
             [
              0,
              "#0d0887"
             ],
             [
              0.1111111111111111,
              "#46039f"
             ],
             [
              0.2222222222222222,
              "#7201a8"
             ],
             [
              0.3333333333333333,
              "#9c179e"
             ],
             [
              0.4444444444444444,
              "#bd3786"
             ],
             [
              0.5555555555555556,
              "#d8576b"
             ],
             [
              0.6666666666666666,
              "#ed7953"
             ],
             [
              0.7777777777777778,
              "#fb9f3a"
             ],
             [
              0.8888888888888888,
              "#fdca26"
             ],
             [
              1,
              "#f0f921"
             ]
            ],
            "type": "surface"
           }
          ],
          "table": [
           {
            "cells": {
             "fill": {
              "color": "#EBF0F8"
             },
             "line": {
              "color": "white"
             }
            },
            "header": {
             "fill": {
              "color": "#C8D4E3"
             },
             "line": {
              "color": "white"
             }
            },
            "type": "table"
           }
          ]
         },
         "layout": {
          "annotationdefaults": {
           "arrowcolor": "#2a3f5f",
           "arrowhead": 0,
           "arrowwidth": 1
          },
          "autotypenumbers": "strict",
          "coloraxis": {
           "colorbar": {
            "outlinewidth": 0,
            "ticks": ""
           }
          },
          "colorscale": {
           "diverging": [
            [
             0,
             "#8e0152"
            ],
            [
             0.1,
             "#c51b7d"
            ],
            [
             0.2,
             "#de77ae"
            ],
            [
             0.3,
             "#f1b6da"
            ],
            [
             0.4,
             "#fde0ef"
            ],
            [
             0.5,
             "#f7f7f7"
            ],
            [
             0.6,
             "#e6f5d0"
            ],
            [
             0.7,
             "#b8e186"
            ],
            [
             0.8,
             "#7fbc41"
            ],
            [
             0.9,
             "#4d9221"
            ],
            [
             1,
             "#276419"
            ]
           ],
           "sequential": [
            [
             0,
             "#0d0887"
            ],
            [
             0.1111111111111111,
             "#46039f"
            ],
            [
             0.2222222222222222,
             "#7201a8"
            ],
            [
             0.3333333333333333,
             "#9c179e"
            ],
            [
             0.4444444444444444,
             "#bd3786"
            ],
            [
             0.5555555555555556,
             "#d8576b"
            ],
            [
             0.6666666666666666,
             "#ed7953"
            ],
            [
             0.7777777777777778,
             "#fb9f3a"
            ],
            [
             0.8888888888888888,
             "#fdca26"
            ],
            [
             1,
             "#f0f921"
            ]
           ],
           "sequentialminus": [
            [
             0,
             "#0d0887"
            ],
            [
             0.1111111111111111,
             "#46039f"
            ],
            [
             0.2222222222222222,
             "#7201a8"
            ],
            [
             0.3333333333333333,
             "#9c179e"
            ],
            [
             0.4444444444444444,
             "#bd3786"
            ],
            [
             0.5555555555555556,
             "#d8576b"
            ],
            [
             0.6666666666666666,
             "#ed7953"
            ],
            [
             0.7777777777777778,
             "#fb9f3a"
            ],
            [
             0.8888888888888888,
             "#fdca26"
            ],
            [
             1,
             "#f0f921"
            ]
           ]
          },
          "colorway": [
           "#636efa",
           "#EF553B",
           "#00cc96",
           "#ab63fa",
           "#FFA15A",
           "#19d3f3",
           "#FF6692",
           "#B6E880",
           "#FF97FF",
           "#FECB52"
          ],
          "font": {
           "color": "#2a3f5f"
          },
          "geo": {
           "bgcolor": "white",
           "lakecolor": "white",
           "landcolor": "#E5ECF6",
           "showlakes": true,
           "showland": true,
           "subunitcolor": "white"
          },
          "hoverlabel": {
           "align": "left"
          },
          "hovermode": "closest",
          "mapbox": {
           "style": "light"
          },
          "paper_bgcolor": "white",
          "plot_bgcolor": "#E5ECF6",
          "polar": {
           "angularaxis": {
            "gridcolor": "white",
            "linecolor": "white",
            "ticks": ""
           },
           "bgcolor": "#E5ECF6",
           "radialaxis": {
            "gridcolor": "white",
            "linecolor": "white",
            "ticks": ""
           }
          },
          "scene": {
           "xaxis": {
            "backgroundcolor": "#E5ECF6",
            "gridcolor": "white",
            "gridwidth": 2,
            "linecolor": "white",
            "showbackground": true,
            "ticks": "",
            "zerolinecolor": "white"
           },
           "yaxis": {
            "backgroundcolor": "#E5ECF6",
            "gridcolor": "white",
            "gridwidth": 2,
            "linecolor": "white",
            "showbackground": true,
            "ticks": "",
            "zerolinecolor": "white"
           },
           "zaxis": {
            "backgroundcolor": "#E5ECF6",
            "gridcolor": "white",
            "gridwidth": 2,
            "linecolor": "white",
            "showbackground": true,
            "ticks": "",
            "zerolinecolor": "white"
           }
          },
          "shapedefaults": {
           "line": {
            "color": "#2a3f5f"
           }
          },
          "ternary": {
           "aaxis": {
            "gridcolor": "white",
            "linecolor": "white",
            "ticks": ""
           },
           "baxis": {
            "gridcolor": "white",
            "linecolor": "white",
            "ticks": ""
           },
           "bgcolor": "#E5ECF6",
           "caxis": {
            "gridcolor": "white",
            "linecolor": "white",
            "ticks": ""
           }
          },
          "title": {
           "x": 0.05
          },
          "xaxis": {
           "automargin": true,
           "gridcolor": "white",
           "linecolor": "white",
           "ticks": "",
           "title": {
            "standoff": 15
           },
           "zerolinecolor": "white",
           "zerolinewidth": 2
          },
          "yaxis": {
           "automargin": true,
           "gridcolor": "white",
           "linecolor": "white",
           "ticks": "",
           "title": {
            "standoff": 15
           },
           "zerolinecolor": "white",
           "zerolinewidth": 2
          }
         }
        },
        "title": {
         "text": "Error over Time"
        },
        "xaxis": {
         "title": {
          "text": "Date"
         }
        },
        "yaxis": {
         "title": {
          "text": "Error"
         }
        }
       }
      }
     },
     "metadata": {},
     "output_type": "display_data"
    }
   ],
   "source": [
    "fig = go.Figure()\n",
    "fig.add_trace(go.Scatter(x=result['Date'], y=result['error'],\n",
    "                    mode='markers',\n",
    "                    name='actual'))\n",
    "\n",
    "fig.update_layout(title='Error over Time',\n",
    "                   xaxis_title='Date',\n",
    "                   yaxis_title='Error')\n",
    "\n",
    "fig.show()"
   ]
  },
  {
   "cell_type": "markdown",
   "metadata": {},
   "source": [
    "### Feature importance"
   ]
  },
  {
   "cell_type": "code",
   "execution_count": 130,
   "metadata": {},
   "outputs": [
    {
     "data": {
      "image/png": "[encoded data removed]",
      "text/plain": [
       "<Figure size 900x600 with 1 Axes>"
      ]
     },
     "metadata": {
      "needs_background": "light"
     },
     "output_type": "display_data"
    }
   ],
   "source": [
    "model = pipe['model']\n",
    "importances = pd.DataFrame({'feature': pipe[1].get_feature_names_out(), 'importance': model.feature_importances_})\n",
    "importances = importances.sort_values(by='importance', ascending=True)\n",
    "plt.barh(y=importances['feature'], width=importances['importance'])\n",
    "plt.show()"
   ]
  }
 ],
 "metadata": {
  "interpreter": {
   "hash": "0ff12d4eed094120c91f1ffe1dee8a0b8612ad4a9cafaf463216d72bd5198085"
  },
  "kernelspec": {
   "display_name": "rossman_minicomp",
   "language": "python",
   "name": "python3"
  },
  "language_info": {
   "codemirror_mode": {
    "name": "ipython",
    "version": 3
   },
   "file_extension": ".py",
   "mimetype": "text/x-python",
   "name": "python",
   "nbconvert_exporter": "python",
   "pygments_lexer": "ipython3",
   "version": "3.8.12"
  }
 },
 "nbformat": 4,
 "nbformat_minor": 4
}
