{
 "cells": [
  {
   "cell_type": "markdown",
   "metadata": {},
   "source": [
    "# Data exploration\n",
    "\n",
    "In this notebook, we explore the raw sales and store data.\n",
    "\n",
    "The final data processing pipeline (cleaning, feature engineering, etc.)\n",
    "is described in the notebook `0_summary`."
   ]
  },
  {
   "cell_type": "code",
   "execution_count": 23,
   "metadata": {},
   "outputs": [],
   "source": [
    "import pandas as pd\n",
    "import numpy as np\n",
    "import matplotlib.pyplot as plt\n",
    "import seaborn as sns\n",
    "\n",
    "# Load scripts from parent path\n",
    "import sys, os\n",
    "sys.path.insert(0, os.path.abspath('..'))"
   ]
  },
  {
   "cell_type": "markdown",
   "metadata": {},
   "source": [
    "## Load Data\n",
    "\n",
    "This table contains the raw daily sales by Rossmann store.\n",
    "\n",
    "The target column is:\n",
    "  - `Sales`: The total sum of sales for this store and date\n",
    "\n",
    "The features columns are:\n",
    "  - `Date`: The date of the sales record\n",
    "  - `Store`: An ID of the store\n",
    "  - `DayOfWeek`: The day of the week, given as an integer, ranging from Monday (0) to Sunday (6).\n",
    "  - `Open`: Whether the store was open on this date: 0 = closed, 1 = open\n",
    "  - `Promo`: Whether the store ran a promotion on this date.\n",
    "  - `StateHoliday`: Whether this date was a state holiday.\n",
    "  - `SchoolHoliday`: Whether this date was a school holiday.\n"
   ]
  },
  {
   "cell_type": "code",
   "execution_count": 24,
   "metadata": {},
   "outputs": [
    {
     "data": {
      "text/html": [
       "<div>\n",
       "<style scoped>\n",
       "    .dataframe tbody tr th:only-of-type {\n",
       "        vertical-align: middle;\n",
       "    }\n",
       "\n",
       "    .dataframe tbody tr th {\n",
       "        vertical-align: top;\n",
       "    }\n",
       "\n",
       "    .dataframe thead th {\n",
       "        text-align: right;\n",
       "    }\n",
       "</style>\n",
       "<table border=\"1\" class=\"dataframe\">\n",
       "  <thead>\n",
       "    <tr style=\"text-align: right;\">\n",
       "      <th></th>\n",
       "      <th>Date</th>\n",
       "      <th>Store</th>\n",
       "      <th>DayOfWeek</th>\n",
       "      <th>Sales</th>\n",
       "      <th>Promo</th>\n",
       "      <th>StateHoliday</th>\n",
       "      <th>SchoolHoliday</th>\n",
       "    </tr>\n",
       "  </thead>\n",
       "  <tbody>\n",
       "    <tr>\n",
       "      <th>27</th>\n",
       "      <td>2013-01-01</td>\n",
       "      <td>353.0</td>\n",
       "      <td>2.0</td>\n",
       "      <td>3139.0</td>\n",
       "      <td>0.0</td>\n",
       "      <td>1.0</td>\n",
       "      <td>1.0</td>\n",
       "    </tr>\n",
       "    <tr>\n",
       "      <th>115</th>\n",
       "      <td>2013-01-01</td>\n",
       "      <td>335.0</td>\n",
       "      <td>2.0</td>\n",
       "      <td>2401.0</td>\n",
       "      <td>0.0</td>\n",
       "      <td>1.0</td>\n",
       "      <td>1.0</td>\n",
       "    </tr>\n",
       "    <tr>\n",
       "      <th>147</th>\n",
       "      <td>2013-01-01</td>\n",
       "      <td>512.0</td>\n",
       "      <td>2.0</td>\n",
       "      <td>2646.0</td>\n",
       "      <td>0.0</td>\n",
       "      <td>1.0</td>\n",
       "      <td>1.0</td>\n",
       "    </tr>\n",
       "    <tr>\n",
       "      <th>162</th>\n",
       "      <td>2013-01-01</td>\n",
       "      <td>494.0</td>\n",
       "      <td>2.0</td>\n",
       "      <td>3113.0</td>\n",
       "      <td>0.0</td>\n",
       "      <td>1.0</td>\n",
       "      <td>1.0</td>\n",
       "    </tr>\n",
       "    <tr>\n",
       "      <th>199</th>\n",
       "      <td>2013-01-01</td>\n",
       "      <td>530.0</td>\n",
       "      <td>2.0</td>\n",
       "      <td>2907.0</td>\n",
       "      <td>0.0</td>\n",
       "      <td>1.0</td>\n",
       "      <td>1.0</td>\n",
       "    </tr>\n",
       "  </tbody>\n",
       "</table>\n",
       "</div>"
      ],
      "text/plain": [
       "          Date  Store  DayOfWeek   Sales  Promo  StateHoliday  SchoolHoliday\n",
       "27  2013-01-01  353.0        2.0  3139.0    0.0           1.0            1.0\n",
       "115 2013-01-01  335.0        2.0  2401.0    0.0           1.0            1.0\n",
       "147 2013-01-01  512.0        2.0  2646.0    0.0           1.0            1.0\n",
       "162 2013-01-01  494.0        2.0  3113.0    0.0           1.0            1.0\n",
       "199 2013-01-01  530.0        2.0  2907.0    0.0           1.0            1.0"
      ]
     },
     "execution_count": 24,
     "metadata": {},
     "output_type": "execute_result"
    }
   ],
   "source": [
    "from scripts.processing import load_train_data, process_data\n",
    "\n",
    "train_raw = load_train_data()\n",
    "train = process_data(train_raw, drop_date=False)\n",
    "train.head()"
   ]
  },
  {
   "cell_type": "markdown",
   "metadata": {},
   "source": [
    "## Exploration"
   ]
  },
  {
   "cell_type": "code",
   "execution_count": 25,
   "metadata": {},
   "outputs": [
    {
     "name": "stdout",
     "output_type": "stream",
     "text": [
      "<class 'pandas.core.frame.DataFrame'>\n",
      "Int64Index: 440048 entries, 27 to 637773\n",
      "Data columns (total 7 columns):\n",
      " #   Column         Non-Null Count   Dtype         \n",
      "---  ------         --------------   -----         \n",
      " 0   Date           440048 non-null  datetime64[ns]\n",
      " 1   Store          440048 non-null  float64       \n",
      " 2   DayOfWeek      440048 non-null  float64       \n",
      " 3   Sales          440048 non-null  float64       \n",
      " 4   Promo          440048 non-null  float64       \n",
      " 5   StateHoliday   440048 non-null  float64       \n",
      " 6   SchoolHoliday  440048 non-null  float64       \n",
      "dtypes: datetime64[ns](1), float64(6)\n",
      "memory usage: 26.9 MB\n"
     ]
    }
   ],
   "source": [
    "train.info()"
   ]
  },
  {
   "cell_type": "markdown",
   "metadata": {},
   "source": [
    "### Total sales\n",
    "\n",
    " - The total sales over time are dominated by the weekly pattern (few sales on sunday).\n",
    " - We see fluctuations especially around holidays (see easter, christmas)\n",
    " - There does not seem to be a strong trend."
   ]
  },
  {
   "cell_type": "code",
   "execution_count": 26,
   "metadata": {},
   "outputs": [],
   "source": [
    "sales = train.groupby(by='Date').agg({'Sales': 'sum'})"
   ]
  },
  {
   "cell_type": "code",
   "execution_count": 27,
   "metadata": {},
   "outputs": [
    {
     "data": {
      "image/png": "[encoded data removed]",
      "text/plain": [
       "<Figure size 720x360 with 1 Axes>"
      ]
     },
     "metadata": {
      "needs_background": "light"
     },
     "output_type": "display_data"
    }
   ],
   "source": [
    "fig = plt.figure(figsize=(10,5))\n",
    "plt.plot(sales)\n",
    "plt.ylabel('Sales')\n",
    "plt.show()"
   ]
  },
  {
   "cell_type": "markdown",
   "metadata": {},
   "source": [
    "Do all dates in the time range have a sale?\n",
    "\n",
    "-> All dates in the time range have sales"
   ]
  },
  {
   "cell_type": "code",
   "execution_count": 28,
   "metadata": {},
   "outputs": [
    {
     "name": "stdout",
     "output_type": "stream",
     "text": [
      "577\n",
      "577\n"
     ]
    }
   ],
   "source": [
    "n_dates = len(sales.index)\n",
    "print(n_dates)\n",
    "dates = pd.date_range(start=sales.index.min(), end=sales.index.max())\n",
    "print(len(dates))"
   ]
  },
  {
   "cell_type": "markdown",
   "metadata": {},
   "source": [
    "### State Holidays\n",
    "\n",
    "- Only a small fraction of dates are holidays\n",
    "- However, sales show deviations around holidays, so probably important"
   ]
  },
  {
   "cell_type": "code",
   "execution_count": 29,
   "metadata": {},
   "outputs": [
    {
     "data": {
      "text/plain": [
       "4.0    439565\n",
       "1.0       368\n",
       "2.0        82\n",
       "3.0        33\n",
       "Name: StateHoliday, dtype: int64"
      ]
     },
     "execution_count": 29,
     "metadata": {},
     "output_type": "execute_result"
    }
   ],
   "source": [
    "train.loc[:, 'StateHoliday'].value_counts()"
   ]
  },
  {
   "cell_type": "markdown",
   "metadata": {},
   "source": [
    "### Stores\n",
    "\n",
    "- How many stores are they?\n",
    "- How are sales distributed among them?"
   ]
  },
  {
   "cell_type": "code",
   "execution_count": 30,
   "metadata": {},
   "outputs": [
    {
     "name": "stdout",
     "output_type": "stream",
     "text": [
      "There are 1115 stores\n"
     ]
    },
    {
     "data": {
      "text/plain": [
       "733.0     500\n",
       "335.0     489\n",
       "769.0     483\n",
       "948.0     482\n",
       "682.0     480\n",
       "         ... \n",
       "972.0     346\n",
       "348.0     340\n",
       "1081.0    338\n",
       "349.0     332\n",
       "103.0     281\n",
       "Name: Store, Length: 1115, dtype: int64"
      ]
     },
     "execution_count": 30,
     "metadata": {},
     "output_type": "execute_result"
    }
   ],
   "source": [
    "store_counts = train.loc[:, 'Store'].value_counts()\n",
    "print(f\"There are {len(store_counts)} stores\")\n",
    "store_counts"
   ]
  },
  {
   "cell_type": "markdown",
   "metadata": {},
   "source": [
    "- Interesting: The number of days that a store has sales is bimodal.\n",
    "- Hypothesis: The two groups are stores that are open on Sunday, and those that are not."
   ]
  },
  {
   "cell_type": "code",
   "execution_count": 31,
   "metadata": {},
   "outputs": [
    {
     "data": {
      "image/png": "[encoded data removed]",
      "text/plain": [
       "<Figure size 720x360 with 1 Axes>"
      ]
     },
     "metadata": {
      "needs_background": "light"
     },
     "output_type": "display_data"
    }
   ],
   "source": [
    "fig = plt.figure(figsize=(10,5))\n",
    "plt.hist(store_counts, bins=200)\n",
    "plt.xlabel(\"Number of days with sales\")\n",
    "plt.ylabel(\"# Count stores\")\n",
    "plt.show()"
   ]
  },
  {
   "cell_type": "markdown",
   "metadata": {},
   "source": [
    " - The distribution of sales per store is pretty normal (log-normal?)\n",
    " - It is skewed with a fat tail at high sales, but not apparent outliers."
   ]
  },
  {
   "cell_type": "code",
   "execution_count": 32,
   "metadata": {},
   "outputs": [
    {
     "data": {
      "image/png": "[encoded data removed]",
      "text/plain": [
       "<Figure size 720x360 with 1 Axes>"
      ]
     },
     "metadata": {
      "needs_background": "light"
     },
     "output_type": "display_data"
    }
   ],
   "source": [
    "sales_by_store = train.groupby(by='Store').agg({'Sales': 'sum'}).sort_values(by='Sales', ascending=False)\n",
    "\n",
    "plt.figure(figsize=(10,5))\n",
    "plt.hist(sales_by_store['Sales'], bins=60)\n",
    "plt.xlabel(\"Total Sales\")\n",
    "plt.ylabel(\"Number of stores\")\n",
    "\n",
    "plt.show()"
   ]
  },
  {
   "cell_type": "markdown",
   "metadata": {},
   "source": [
    "## DayOfWeek\n",
    "\n",
    " - DayOfWeek ranges from 1 (monday) to 7 (sunday).\n",
    " - There are much fewer records for sunday, because most stores a closed.\n",
    " - However, average sales for sunday are actually quite high - if a store is open on sunday it makes good sales"
   ]
  },
  {
   "cell_type": "code",
   "execution_count": 33,
   "metadata": {},
   "outputs": [
    {
     "data": {
      "text/plain": [
       "2.0    75313\n",
       "6.0    75281\n",
       "3.0    73284\n",
       "5.0    72744\n",
       "1.0    71497\n",
       "4.0    70116\n",
       "7.0     1813\n",
       "Name: DayOfWeek, dtype: int64"
      ]
     },
     "execution_count": 33,
     "metadata": {},
     "output_type": "execute_result"
    }
   ],
   "source": [
    "train.loc[:, 'DayOfWeek'].value_counts()"
   ]
  },
  {
   "cell_type": "code",
   "execution_count": 34,
   "metadata": {},
   "outputs": [
    {
     "data": {
      "image/png": "[encoded data removed]",
      "text/plain": [
       "<Figure size 864x360 with 2 Axes>"
      ]
     },
     "metadata": {
      "needs_background": "light"
     },
     "output_type": "display_data"
    }
   ],
   "source": [
    "fig, axes = plt.subplots(1,2, figsize=(12,5))\n",
    "sales_per_weekday = train.groupby(by='DayOfWeek').agg({'Sales': ['mean', 'sum']})\n",
    "axes[0].bar(sales_per_weekday.index, height=sales_per_weekday['Sales']['sum'])\n",
    "axes[0].set_xlabel('weekday')\n",
    "axes[0].set_ylabel('Total Sales')\n",
    "axes[1].set_xlabel('weekday')\n",
    "axes[1].set_ylabel('Average Sales')\n",
    "axes[1].bar(sales_per_weekday.index, height=sales_per_weekday['Sales']['mean'])\n",
    "plt.show()\n"
   ]
  },
  {
   "cell_type": "markdown",
   "metadata": {},
   "source": [
    "## Feature Correlations\n",
    "\n",
    " - There is a relatively high correlation between sales and promotions.\n",
    " - Various numerical features do not exhibit extremely high correlations. Therefore, we keep all of them."
   ]
  },
  {
   "cell_type": "code",
   "execution_count": 35,
   "metadata": {},
   "outputs": [
    {
     "data": {
      "image/png": "[encoded data removed]",
      "text/plain": [
       "<Figure size 432x288 with 2 Axes>"
      ]
     },
     "metadata": {
      "needs_background": "light"
     },
     "output_type": "display_data"
    }
   ],
   "source": [
    "sns.heatmap(train.corr());"
   ]
  },
  {
   "cell_type": "markdown",
   "metadata": {},
   "source": [
    "## Store exploration\n",
    "\n",
    "Some additional data on stores is provided.\n",
    "\n",
    "We did a more thorough analysis of this in the notebook `util_extract_store_info`"
   ]
  },
  {
   "cell_type": "code",
   "execution_count": 36,
   "metadata": {},
   "outputs": [
    {
     "data": {
      "text/html": [
       "<div>\n",
       "<style scoped>\n",
       "    .dataframe tbody tr th:only-of-type {\n",
       "        vertical-align: middle;\n",
       "    }\n",
       "\n",
       "    .dataframe tbody tr th {\n",
       "        vertical-align: top;\n",
       "    }\n",
       "\n",
       "    .dataframe thead th {\n",
       "        text-align: right;\n",
       "    }\n",
       "</style>\n",
       "<table border=\"1\" class=\"dataframe\">\n",
       "  <thead>\n",
       "    <tr style=\"text-align: right;\">\n",
       "      <th></th>\n",
       "      <th>Store</th>\n",
       "      <th>StoreType</th>\n",
       "      <th>Assortment</th>\n",
       "      <th>CompetitionDistance</th>\n",
       "      <th>CompetitionOpenSinceMonth</th>\n",
       "      <th>CompetitionOpenSinceYear</th>\n",
       "      <th>Promo2</th>\n",
       "      <th>Promo2SinceWeek</th>\n",
       "      <th>Promo2SinceYear</th>\n",
       "      <th>PromoInterval</th>\n",
       "    </tr>\n",
       "  </thead>\n",
       "  <tbody>\n",
       "    <tr>\n",
       "      <th>0</th>\n",
       "      <td>1</td>\n",
       "      <td>c</td>\n",
       "      <td>a</td>\n",
       "      <td>1270.0</td>\n",
       "      <td>9.0</td>\n",
       "      <td>2008.0</td>\n",
       "      <td>0</td>\n",
       "      <td>NaN</td>\n",
       "      <td>NaN</td>\n",
       "      <td>NaN</td>\n",
       "    </tr>\n",
       "    <tr>\n",
       "      <th>1</th>\n",
       "      <td>2</td>\n",
       "      <td>a</td>\n",
       "      <td>a</td>\n",
       "      <td>570.0</td>\n",
       "      <td>11.0</td>\n",
       "      <td>2007.0</td>\n",
       "      <td>1</td>\n",
       "      <td>13.0</td>\n",
       "      <td>2010.0</td>\n",
       "      <td>Jan,Apr,Jul,Oct</td>\n",
       "    </tr>\n",
       "    <tr>\n",
       "      <th>2</th>\n",
       "      <td>3</td>\n",
       "      <td>a</td>\n",
       "      <td>a</td>\n",
       "      <td>14130.0</td>\n",
       "      <td>12.0</td>\n",
       "      <td>2006.0</td>\n",
       "      <td>1</td>\n",
       "      <td>14.0</td>\n",
       "      <td>2011.0</td>\n",
       "      <td>Jan,Apr,Jul,Oct</td>\n",
       "    </tr>\n",
       "    <tr>\n",
       "      <th>3</th>\n",
       "      <td>4</td>\n",
       "      <td>c</td>\n",
       "      <td>c</td>\n",
       "      <td>620.0</td>\n",
       "      <td>9.0</td>\n",
       "      <td>2009.0</td>\n",
       "      <td>0</td>\n",
       "      <td>NaN</td>\n",
       "      <td>NaN</td>\n",
       "      <td>NaN</td>\n",
       "    </tr>\n",
       "    <tr>\n",
       "      <th>4</th>\n",
       "      <td>5</td>\n",
       "      <td>a</td>\n",
       "      <td>a</td>\n",
       "      <td>29910.0</td>\n",
       "      <td>4.0</td>\n",
       "      <td>2015.0</td>\n",
       "      <td>0</td>\n",
       "      <td>NaN</td>\n",
       "      <td>NaN</td>\n",
       "      <td>NaN</td>\n",
       "    </tr>\n",
       "  </tbody>\n",
       "</table>\n",
       "</div>"
      ],
      "text/plain": [
       "   Store StoreType Assortment  CompetitionDistance  CompetitionOpenSinceMonth  \\\n",
       "0      1         c          a               1270.0                        9.0   \n",
       "1      2         a          a                570.0                       11.0   \n",
       "2      3         a          a              14130.0                       12.0   \n",
       "3      4         c          c                620.0                        9.0   \n",
       "4      5         a          a              29910.0                        4.0   \n",
       "\n",
       "   CompetitionOpenSinceYear  Promo2  Promo2SinceWeek  Promo2SinceYear  \\\n",
       "0                    2008.0       0              NaN              NaN   \n",
       "1                    2007.0       1             13.0           2010.0   \n",
       "2                    2006.0       1             14.0           2011.0   \n",
       "3                    2009.0       0              NaN              NaN   \n",
       "4                    2015.0       0              NaN              NaN   \n",
       "\n",
       "     PromoInterval  \n",
       "0              NaN  \n",
       "1  Jan,Apr,Jul,Oct  \n",
       "2  Jan,Apr,Jul,Oct  \n",
       "3              NaN  \n",
       "4              NaN  "
      ]
     },
     "execution_count": 36,
     "metadata": {},
     "output_type": "execute_result"
    }
   ],
   "source": [
    "store_raw = pd.read_csv(\"../data/store.csv\")\n",
    "store_raw.head()"
   ]
  },
  {
   "cell_type": "code",
   "execution_count": 37,
   "metadata": {},
   "outputs": [
    {
     "data": {
      "text/plain": [
       "0       c\n",
       "1       a\n",
       "2       a\n",
       "3       c\n",
       "4       a\n",
       "       ..\n",
       "1110    a\n",
       "1111    c\n",
       "1112    a\n",
       "1113    a\n",
       "1114    d\n",
       "Name: StoreType, Length: 1115, dtype: object"
      ]
     },
     "execution_count": 37,
     "metadata": {},
     "output_type": "execute_result"
    }
   ],
   "source": [
    "store_raw['StoreType']"
   ]
  }
 ],
 "metadata": {
  "interpreter": {
   "hash": "f559d738015ddcd258429f582c3437716a8f3e7954a94bb5ba902a794d2206d2"
  },
  "kernelspec": {
   "display_name": "Python 3.9.7 ('rossmann')",
   "language": "python",
   "name": "python3"
  },
  "language_info": {
   "codemirror_mode": {
    "name": "ipython",
    "version": 3
   },
   "file_extension": ".py",
   "mimetype": "text/x-python",
   "name": "python",
   "nbconvert_exporter": "python",
   "pygments_lexer": "ipython3",
   "version": "3.8.12"
  },
  "orig_nbformat": 4
 },
 "nbformat": 4,
 "nbformat_minor": 2
}
